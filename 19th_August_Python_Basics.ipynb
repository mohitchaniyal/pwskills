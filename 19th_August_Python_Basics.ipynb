{
 "cells": [
  {
   "cell_type": "markdown",
   "id": "58140fe8-836d-4926-a801-da66732a1705",
   "metadata": {},
   "source": [
    "## TOPIC: Python Basics Variable"
   ]
  },
  {
   "cell_type": "markdown",
   "id": "dbb0ae68-fc6b-4501-955c-4d00f7782813",
   "metadata": {},
   "source": [
    "1. Declare two variables, `x` and `y`, and assign them integer values. Swap the\n",
    "values of these variables without using any temporary variable."
   ]
  },
  {
   "cell_type": "code",
   "execution_count": 13,
   "id": "90bf97bd-1521-43e7-a30c-666c3652917d",
   "metadata": {},
   "outputs": [
    {
     "data": {
      "text/plain": [
       "(10, 20)"
      ]
     },
     "execution_count": 13,
     "metadata": {},
     "output_type": "execute_result"
    }
   ],
   "source": [
    "a=10\n",
    "b=20\n",
    "a,b"
   ]
  },
  {
   "cell_type": "code",
   "execution_count": 14,
   "id": "6e8e5ffb-2429-4a85-b6e3-04b6935cc08d",
   "metadata": {},
   "outputs": [],
   "source": [
    "a=a^b\n",
    "b=a^b\n",
    "a=a^b"
   ]
  },
  {
   "cell_type": "code",
   "execution_count": 15,
   "id": "0867b70f-b831-44ec-88ef-5cf4fd37e34d",
   "metadata": {},
   "outputs": [
    {
     "data": {
      "text/plain": [
       "(20, 10)"
      ]
     },
     "execution_count": 15,
     "metadata": {},
     "output_type": "execute_result"
    }
   ],
   "source": [
    "a,b"
   ]
  },
  {
   "cell_type": "code",
   "execution_count": 16,
   "id": "50e35f91-894f-40ce-b8d2-a4057e539446",
   "metadata": {},
   "outputs": [],
   "source": [
    "a,b=b,a"
   ]
  },
  {
   "cell_type": "code",
   "execution_count": 17,
   "id": "0b43ad12-88af-4259-af12-c1c1cfe31b3a",
   "metadata": {},
   "outputs": [
    {
     "data": {
      "text/plain": [
       "(10, 20)"
      ]
     },
     "execution_count": 17,
     "metadata": {},
     "output_type": "execute_result"
    }
   ],
   "source": [
    "a,b"
   ]
  },
  {
   "cell_type": "markdown",
   "id": "17b736c5-943f-4d8a-b378-6f4b7b46194e",
   "metadata": {},
   "source": [
    "2. Create a program that calculates the area of a rectangle. Take the length and\n",
    "width as inputs from the user and store them in variables. Calculate and\n",
    "display the area."
   ]
  },
  {
   "cell_type": "code",
   "execution_count": 20,
   "id": "1cd6f135-fc7b-44b4-a994-c6b65a50f025",
   "metadata": {},
   "outputs": [
    {
     "name": "stdin",
     "output_type": "stream",
     "text": [
      " 32\n",
      " 2\n"
     ]
    },
    {
     "name": "stdout",
     "output_type": "stream",
     "text": [
      "Area of Ractangel 64\n"
     ]
    }
   ],
   "source": [
    "lenght=int(input())\n",
    "width=int(input())\n",
    "print(\"Area of Ractangel\",lenght*width)"
   ]
  },
  {
   "cell_type": "markdown",
   "id": "4bb52c83-caa4-4e09-ac64-e3b910306574",
   "metadata": {},
   "source": [
    "3. Write a Python program that converts temperatures from Celsius to\n",
    "Fahrenheit. Take the temperature in Celsius as input, store it in a variable,\n",
    "convert it to Fahrenheit, and display the result."
   ]
  },
  {
   "cell_type": "code",
   "execution_count": 23,
   "id": "f2fa6cdd-492a-489b-a9ad-2c0c110341d8",
   "metadata": {},
   "outputs": [
    {
     "name": "stdin",
     "output_type": "stream",
     "text": [
      " 23\n"
     ]
    },
    {
     "name": "stdout",
     "output_type": "stream",
     "text": [
      "temprature in  Fahrenheit 73.4\n"
     ]
    }
   ],
   "source": [
    "temprature=int(input())\n",
    "print(\"temprature in  Fahrenheit\",temprature*(9/5) + 32)"
   ]
  },
  {
   "cell_type": "markdown",
   "id": "bbdef8ae-b77d-4444-95d9-5594797b12d5",
   "metadata": {},
   "source": [
    "## TOPIC: String Based Questions"
   ]
  },
  {
   "cell_type": "markdown",
   "id": "964c6925-a954-477f-ae70-e131bdabab23",
   "metadata": {},
   "source": [
    "1. Write a Python program that takes a string as input and prints the length of\n",
    "the string."
   ]
  },
  {
   "cell_type": "code",
   "execution_count": 24,
   "id": "98129c9f-b730-463b-9bce-2ef0b66c28ef",
   "metadata": {},
   "outputs": [
    {
     "name": "stdin",
     "output_type": "stream",
     "text": [
      " adfadfa\n"
     ]
    },
    {
     "name": "stdout",
     "output_type": "stream",
     "text": [
      "7\n"
     ]
    }
   ],
   "source": [
    "a=input()\n",
    "print(len(a))"
   ]
  },
  {
   "cell_type": "markdown",
   "id": "7cc83d12-3ab0-42af-a0fd-1c60fed60aa0",
   "metadata": {},
   "source": [
    "2. Create a program that takes a sentence from the user and counts the number\n",
    "of vowels (a, e, i, o, u) in the string."
   ]
  },
  {
   "cell_type": "code",
   "execution_count": 26,
   "id": "f53e4156-5a75-430d-9d4d-8e247ff2ff9b",
   "metadata": {},
   "outputs": [
    {
     "name": "stdin",
     "output_type": "stream",
     "text": [
      " aeiousdf\n"
     ]
    },
    {
     "data": {
      "text/plain": [
       "5"
      ]
     },
     "execution_count": 26,
     "metadata": {},
     "output_type": "execute_result"
    }
   ],
   "source": [
    "s=input()\n",
    "v_count=0\n",
    "for i in s:\n",
    "    if i.lower() in  (\"a\", \"e\", \"i\", \"o\", \"u\"):\n",
    "        v_count+=1\n",
    "v_count"
   ]
  },
  {
   "cell_type": "markdown",
   "id": "34eb289e-ae7a-4b26-8fb8-ffb6e57d4653",
   "metadata": {},
   "source": [
    "3. Given a string, reverse the order of characters using string slicing and print\n",
    "the reversed string."
   ]
  },
  {
   "cell_type": "code",
   "execution_count": 27,
   "id": "a2e49de7-77d1-4af8-99e8-5797e0ea69c9",
   "metadata": {},
   "outputs": [
    {
     "data": {
      "text/plain": [
       "'54321'"
      ]
     },
     "execution_count": 27,
     "metadata": {},
     "output_type": "execute_result"
    }
   ],
   "source": [
    "a=\"12345\"\n",
    "a[::-1]"
   ]
  },
  {
   "cell_type": "markdown",
   "id": "fdc46511-5476-4779-8c4a-9558dfbfa82b",
   "metadata": {},
   "source": [
    "4. Write a program that takes a string as input and checks if it is a palindrome\n",
    "(reads the same forwards and backwards)."
   ]
  },
  {
   "cell_type": "code",
   "execution_count": 34,
   "id": "81964b36-6cc0-4eee-afe6-6bff5e1eb767",
   "metadata": {},
   "outputs": [
    {
     "name": "stdin",
     "output_type": "stream",
     "text": [
      " nayan\n"
     ]
    },
    {
     "name": "stdout",
     "output_type": "stream",
     "text": [
      "True\n"
     ]
    }
   ],
   "source": [
    "s=input()\n",
    "if s==s[::-1]:\n",
    "    print(True)\n",
    "else :\n",
    "    print(False)"
   ]
  },
  {
   "cell_type": "markdown",
   "id": "6790e841-2d80-4d9c-8c83-6cc1e3a630df",
   "metadata": {},
   "source": [
    "5. Create a program that takes a string as input and removes all the spaces from\n",
    "it. Print the modified string without spaces."
   ]
  },
  {
   "cell_type": "code",
   "execution_count": 38,
   "id": "08bd7263-1124-4b4c-af4a-c4cfe6615368",
   "metadata": {},
   "outputs": [
    {
     "name": "stdin",
     "output_type": "stream",
     "text": [
      " adf adfa adsf \n"
     ]
    },
    {
     "name": "stdout",
     "output_type": "stream",
     "text": [
      "adfadfaadsf\n",
      "adfadfaadsf\n"
     ]
    }
   ],
   "source": [
    "a=input()\n",
    "print(a.replace(\" \",\"\"))\n",
    "print(\"\".join([x for x in a if x !=\" \"]))"
   ]
  },
  {
   "cell_type": "code",
   "execution_count": null,
   "id": "7122f3b2-a1b0-4559-8ffd-5b392bc6f0f3",
   "metadata": {},
   "outputs": [],
   "source": []
  }
 ],
 "metadata": {
  "kernelspec": {
   "display_name": "Python 3 (ipykernel)",
   "language": "python",
   "name": "python3"
  },
  "language_info": {
   "codemirror_mode": {
    "name": "ipython",
    "version": 3
   },
   "file_extension": ".py",
   "mimetype": "text/x-python",
   "name": "python",
   "nbconvert_exporter": "python",
   "pygments_lexer": "ipython3",
   "version": "3.10.8"
  }
 },
 "nbformat": 4,
 "nbformat_minor": 5
}

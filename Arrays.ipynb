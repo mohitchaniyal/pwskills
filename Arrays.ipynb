{
 "cells": [
  {
   "cell_type": "markdown",
   "id": "65f50143-d173-4d92-b421-75c1fac21f64",
   "metadata": {},
   "source": [
    "1. Given an array, check if it contains any duplicates or not.\n",
    "arr = [1, 2, 4, 2, 5, 9]\n",
    "Output = True"
   ]
  },
  {
   "cell_type": "code",
   "execution_count": 4,
   "id": "b3cf9658-a01c-420f-9515-d6d8a68aa989",
   "metadata": {},
   "outputs": [
    {
     "data": {
      "text/plain": [
       "True"
      ]
     },
     "execution_count": 4,
     "metadata": {},
     "output_type": "execute_result"
    }
   ],
   "source": [
    "l=[1, 2, 4, 2, 5, 9]\n",
    "def duplicated(l):\n",
    "    # logic 1\n",
    "    # for i in range(len(l)) :\n",
    "    #     if l[i] in l[:i]+l[i+1:]:\n",
    "    #         return True\n",
    "    # else :\n",
    "    #     return -1\n",
    "    \n",
    "    #logic 2\n",
    "    # if len(l)!=len(set(l)):\n",
    "    #     return True\n",
    "    # else:\n",
    "    #     return -1\n",
    "    \n",
    "    #logic 3\n",
    "    for i in range(len(l)):\n",
    "        if l.count(i):\n",
    "            return True\n",
    "    else :\n",
    "        return -1\n",
    "\n",
    "duplicated(l)"
   ]
  },
  {
   "cell_type": "markdown",
   "id": "b58c1713-8143-472f-91e2-6ddf4104debb",
   "metadata": {},
   "source": [
    "2. Given an array and an integer k, rotate the array to the right by k steps.\n",
    "arr = [1, 2, 3, 4, 5, 6, 7] k = 3\n",
    "Output = [5, 6, 7, 1, 2, 3, 4]"
   ]
  },
  {
   "cell_type": "code",
   "execution_count": 38,
   "id": "642af6e8-50e0-4990-95fd-7317b21c3322",
   "metadata": {},
   "outputs": [
    {
     "data": {
      "text/plain": [
       "[2, 4, 2, 5, 9, 1]"
      ]
     },
     "execution_count": 38,
     "metadata": {},
     "output_type": "execute_result"
    }
   ],
   "source": [
    "def rotate(l,k):\n",
    "    step=k%len(l)\n",
    "    return l[step:]+l[:step]\n",
    "    # print()\n",
    "rotate(l,7)"
   ]
  },
  {
   "cell_type": "markdown",
   "id": "86dc3188-2482-4ed2-9210-9988ad386d4b",
   "metadata": {},
   "source": [
    "3. Reverse the given array in-place, means without using any extra data structure.\n",
    "arr = [2, 4, 5, 7, 9, 12]\n",
    "Output = [12, 9, 7, 5, 4, 2]"
   ]
  },
  {
   "cell_type": "code",
   "execution_count": 45,
   "id": "02729971-b4e8-4f67-9b4f-449fde00aaf3",
   "metadata": {},
   "outputs": [
    {
     "name": "stdout",
     "output_type": "stream",
     "text": [
      "[12, 9, 7, 5, 4, 2]\n"
     ]
    }
   ],
   "source": [
    "co=[2, 4, 5, 7, 9, 12]\n",
    "\n",
    "#logic 1\n",
    "# s=0\n",
    "# e=len(co)-1\n",
    "# while s<e:\n",
    "#     co[s],co[e]=co[e],co[s]\n",
    "#     s+=1\n",
    "#     e-=1\n",
    "\n",
    "#logic 2\n",
    "print(co[::-1])"
   ]
  },
  {
   "cell_type": "markdown",
   "id": "d84ad435-9a7a-4a5d-a5ee-2b33afee9cc8",
   "metadata": {
    "tags": []
   },
   "source": [
    "4. Given an array of integers, find the maximum element in an array\n",
    "arr = [10, 5, 20, 8, 15]\n",
    "Output = 20"
   ]
  },
  {
   "cell_type": "code",
   "execution_count": 55,
   "id": "389feab4-0f3b-40ac-bf2a-6b25cc9d15fc",
   "metadata": {},
   "outputs": [
    {
     "name": "stdout",
     "output_type": "stream",
     "text": [
      "20\n"
     ]
    }
   ],
   "source": [
    "arr = [10, 5, 20, 8, 15]\n",
    "ma_x=arr[0]\n",
    "for i in arr[1:]:\n",
    "    if ma_x<i:\n",
    "        ma_x=i\n",
    "ma_x\n",
    "print(max(arr))"
   ]
  },
  {
   "cell_type": "markdown",
   "id": "edeb13b8-61cd-4583-9a05-b9d3d2b97e82",
   "metadata": {},
   "source": [
    "5. Given a sorted array, remove the duplicate element without using any extra data structure.\n",
    "arr = [1, 1, 2, 2, 2, 3, 3, 4, 4, 4, 5, 5]\n",
    "Output = [1, 2, 3, 4, 5]"
   ]
  },
  {
   "cell_type": "code",
   "execution_count": 61,
   "id": "eb7086b0-ba8e-4423-9dda-caa169d637d4",
   "metadata": {},
   "outputs": [
    {
     "name": "stdout",
     "output_type": "stream",
     "text": [
      "[1, 1, 2, 2, 2, 3, 3, 4, 4, 4, 5, 5] 1 2\n",
      "[1, 2, 2, 2, 2, 3, 3, 4, 4, 4, 5, 5] 2 5\n",
      "[1, 2, 3, 2, 2, 3, 3, 4, 4, 4, 5, 5] 3 7\n",
      "[1, 2, 3, 4, 2, 3, 3, 4, 4, 4, 5, 5] 4 10\n"
     ]
    },
    {
     "data": {
      "text/plain": [
       "[1, 2, 3, 4, 5]"
      ]
     },
     "execution_count": 61,
     "metadata": {},
     "output_type": "execute_result"
    }
   ],
   "source": [
    "arr = [1, 1, 2, 2, 2, 3, 3, 4, 4, 4, 5, 5]\n",
    "current = 0\n",
    "for i in range(1, len(arr)):\n",
    "    if arr[i] != arr[current]:\n",
    "        current += 1\n",
    "        print(arr,current,i)\n",
    "        arr[current] = arr[i]\n",
    "        \n",
    "        \n",
    "arr[:current+1]   "
   ]
  },
  {
   "cell_type": "code",
   "execution_count": 62,
   "id": "e651678a-6f78-4f6d-998f-edf64a83b057",
   "metadata": {},
   "outputs": [
    {
     "name": "stdout",
     "output_type": "stream",
     "text": [
      "[1, 3, 4, 5, 6, 7]\n"
     ]
    }
   ],
   "source": [
    "l=[1,1,1,1,3,3,4,5,5,6,7,7]\n",
    "cur=0 \n",
    "for i in range(1,len(l)):\n",
    "    if l[cur]!=l[i]:\n",
    "        cur+=1\n",
    "        l[cur]=l[i]\n",
    "print(l[:cur+1])"
   ]
  }
 ],
 "metadata": {
  "kernelspec": {
   "display_name": "Python 3 (ipykernel)",
   "language": "python",
   "name": "python3"
  },
  "language_info": {
   "codemirror_mode": {
    "name": "ipython",
    "version": 3
   },
   "file_extension": ".py",
   "mimetype": "text/x-python",
   "name": "python",
   "nbconvert_exporter": "python",
   "pygments_lexer": "ipython3",
   "version": "3.10.8"
  }
 },
 "nbformat": 4,
 "nbformat_minor": 5
}

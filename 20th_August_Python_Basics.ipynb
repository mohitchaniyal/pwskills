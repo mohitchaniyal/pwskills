{
 "cells": [
  {
   "cell_type": "markdown",
   "id": "f31ff33f-9cd4-4a18-b404-6b71ecca3e58",
   "metadata": {},
   "source": [
    "## TOPIC: String Based Assignment Problem"
   ]
  },
  {
   "cell_type": "markdown",
   "id": "14ca97cc-ef9d-4476-859d-ea5016007d81",
   "metadata": {},
   "source": [
    "1. Write a program to reverse a string."
   ]
  },
  {
   "cell_type": "code",
   "execution_count": 4,
   "id": "e6a68ff8-e397-4280-8751-ffe80b37280f",
   "metadata": {},
   "outputs": [
    {
     "data": {
      "text/plain": [
       "'tiHOM'"
      ]
     },
     "execution_count": 4,
     "metadata": {},
     "output_type": "execute_result"
    }
   ],
   "source": [
    "a=\"MOHit\"\n",
    "a[::-1]"
   ]
  },
  {
   "cell_type": "markdown",
   "id": "a62c08af-64e0-463a-a91a-640f2347f983",
   "metadata": {},
   "source": [
    "2. Check if a string is a palindrome."
   ]
  },
  {
   "cell_type": "code",
   "execution_count": 7,
   "id": "95db5d45-0320-4cc2-aec1-db60651b0a0a",
   "metadata": {},
   "outputs": [
    {
     "data": {
      "text/plain": [
       "True"
      ]
     },
     "execution_count": 7,
     "metadata": {},
     "output_type": "execute_result"
    }
   ],
   "source": [
    "a=\"nayan\"\n",
    "True if a==a[::-1] else False"
   ]
  },
  {
   "cell_type": "markdown",
   "id": "5ba53188-faa5-4a87-8975-d3ac281e6ff3",
   "metadata": {},
   "source": [
    "3. Convert a string to uppercase."
   ]
  },
  {
   "cell_type": "code",
   "execution_count": 8,
   "id": "1ccdb3f4-c4b9-4975-bcec-ad9bbe535c31",
   "metadata": {},
   "outputs": [
    {
     "data": {
      "text/plain": [
       "'NAYAN'"
      ]
     },
     "execution_count": 8,
     "metadata": {},
     "output_type": "execute_result"
    }
   ],
   "source": [
    "a.upper()"
   ]
  },
  {
   "cell_type": "markdown",
   "id": "472540d7-4bf4-4c4e-9d1a-916ca52e8151",
   "metadata": {},
   "source": [
    "4. Convert a string to lowercase."
   ]
  },
  {
   "cell_type": "code",
   "execution_count": 9,
   "id": "10f785c9-3b83-44a1-aa17-4f55fd32daea",
   "metadata": {},
   "outputs": [
    {
     "data": {
      "text/plain": [
       "'nayan'"
      ]
     },
     "execution_count": 9,
     "metadata": {},
     "output_type": "execute_result"
    }
   ],
   "source": [
    "a.lower()"
   ]
  },
  {
   "cell_type": "markdown",
   "id": "5c7fb30b-ce28-4943-9afd-80d5bd54d8da",
   "metadata": {},
   "source": [
    "5. Count the number of vowels in a string."
   ]
  },
  {
   "cell_type": "code",
   "execution_count": 15,
   "id": "4d67c7a6-e680-4827-a317-a4ed27fb600b",
   "metadata": {},
   "outputs": [
    {
     "data": {
      "text/plain": [
       "5"
      ]
     },
     "execution_count": 15,
     "metadata": {},
     "output_type": "execute_result"
    }
   ],
   "source": [
    "a = \"aeiousddf\"\n",
    "count = sum(1 for i in a if i.lower() in \"aeiou\")\n",
    "count"
   ]
  },
  {
   "cell_type": "markdown",
   "id": "3fe9c4ec-2226-4f99-a66e-eb33fa97c642",
   "metadata": {},
   "source": [
    "6. Count the number of consonants in a string."
   ]
  },
  {
   "cell_type": "code",
   "execution_count": 16,
   "id": "64b20b25-2a6c-4495-a8d6-a08b9904e381",
   "metadata": {},
   "outputs": [
    {
     "data": {
      "text/plain": [
       "4"
      ]
     },
     "execution_count": 16,
     "metadata": {},
     "output_type": "execute_result"
    }
   ],
   "source": [
    "consonants = \"bcdfghjklmnpqrstvwxyz\"\n",
    "a = \"aeiousddf\"\n",
    "count = 0\n",
    "count = sum(1 for i in a if i.lower() in consonants)\n",
    "count"
   ]
  },
  {
   "cell_type": "markdown",
   "id": "dac8a174-88ea-44ef-b250-7c86336d4f0d",
   "metadata": {},
   "source": [
    "7. Remove all whitespaces from a string."
   ]
  },
  {
   "cell_type": "code",
   "execution_count": 18,
   "id": "c6bfbedd-d946-40e7-bbd1-6acf26aa50b7",
   "metadata": {},
   "outputs": [
    {
     "data": {
      "text/plain": [
       "'abasdvssc'"
      ]
     },
     "execution_count": 18,
     "metadata": {},
     "output_type": "execute_result"
    }
   ],
   "source": [
    "a=\"ab asd vs s c\"\n",
    "a.replace(\" \",\"\")"
   ]
  },
  {
   "cell_type": "markdown",
   "id": "e8520879-123d-428e-a9d3-63a471f8b71e",
   "metadata": {},
   "source": [
    "8. Find the length of a string without using the `len()` function."
   ]
  },
  {
   "cell_type": "code",
   "execution_count": 19,
   "id": "2db2cb80-4d8d-4ff7-acce-f257c77d0c0f",
   "metadata": {},
   "outputs": [
    {
     "data": {
      "text/plain": [
       "13"
      ]
     },
     "execution_count": 19,
     "metadata": {},
     "output_type": "execute_result"
    }
   ],
   "source": [
    "sum([1 for x in a])"
   ]
  },
  {
   "cell_type": "markdown",
   "id": "e304e0cd-14ad-4e41-8515-3b791ea53d19",
   "metadata": {},
   "source": [
    "9. Check if a string contains a specific word."
   ]
  },
  {
   "cell_type": "code",
   "execution_count": 20,
   "id": "070eb7af-fea0-4f2f-987b-9c1f5b3f15d6",
   "metadata": {},
   "outputs": [
    {
     "data": {
      "text/plain": [
       "True"
      ]
     },
     "execution_count": 20,
     "metadata": {},
     "output_type": "execute_result"
    }
   ],
   "source": [
    "\"a\" in a"
   ]
  },
  {
   "cell_type": "markdown",
   "id": "139ff556-8dc6-48d6-959c-f160980d03f5",
   "metadata": {},
   "source": [
    "10. Replace a word in a string with another word."
   ]
  },
  {
   "cell_type": "code",
   "execution_count": 21,
   "id": "dda31071-f599-4b11-844a-79737555c503",
   "metadata": {},
   "outputs": [
    {
     "data": {
      "text/plain": [
       "'zb zsd vs s c'"
      ]
     },
     "execution_count": 21,
     "metadata": {},
     "output_type": "execute_result"
    }
   ],
   "source": [
    "a.replace(\"a\",\"z\")"
   ]
  },
  {
   "cell_type": "markdown",
   "id": "36485042-be30-464c-b113-e9ef77e31b13",
   "metadata": {},
   "source": [
    "11. Count the occurrences of a word in a string."
   ]
  },
  {
   "cell_type": "code",
   "execution_count": 22,
   "id": "c2c6064e-8fb9-444c-a5d1-d55d45f9ce19",
   "metadata": {},
   "outputs": [
    {
     "data": {
      "text/plain": [
       "2"
      ]
     },
     "execution_count": 22,
     "metadata": {},
     "output_type": "execute_result"
    }
   ],
   "source": [
    "a.count(\"a\")"
   ]
  },
  {
   "cell_type": "markdown",
   "id": "c6dfff5b-db16-4dad-9147-7542d9b7f401",
   "metadata": {},
   "source": [
    "12. Find the first occurrence of a word in a string."
   ]
  },
  {
   "cell_type": "code",
   "execution_count": 23,
   "id": "073fb4e1-db48-4a5f-92a4-6a7d0748069d",
   "metadata": {},
   "outputs": [
    {
     "data": {
      "text/plain": [
       "0"
      ]
     },
     "execution_count": 23,
     "metadata": {},
     "output_type": "execute_result"
    }
   ],
   "source": [
    "a.find(\"a\")"
   ]
  },
  {
   "cell_type": "markdown",
   "id": "cedb71ce-97c5-44f8-a81d-bacfad6abd35",
   "metadata": {},
   "source": [
    "13. Find the last occurrence of a word in a string."
   ]
  },
  {
   "cell_type": "code",
   "execution_count": 25,
   "id": "ba43e9b3-be0a-40e0-a18b-4ffad043bbeb",
   "metadata": {},
   "outputs": [
    {
     "data": {
      "text/plain": [
       "3"
      ]
     },
     "execution_count": 25,
     "metadata": {},
     "output_type": "execute_result"
    }
   ],
   "source": [
    "a.rfind(\"a\")"
   ]
  },
  {
   "cell_type": "markdown",
   "id": "f1235ab0-8db7-4861-a26d-396b4847d4e1",
   "metadata": {},
   "source": [
    "14. Split a string into a list of words."
   ]
  },
  {
   "cell_type": "code",
   "execution_count": 26,
   "id": "6475f58c-c467-4867-b772-e1812e0467fb",
   "metadata": {},
   "outputs": [
    {
     "data": {
      "text/plain": [
       "['a', 'b', ' ', 'a', 's', 'd', ' ', 'v', 's', ' ', 's', ' ', 'c']"
      ]
     },
     "execution_count": 26,
     "metadata": {},
     "output_type": "execute_result"
    }
   ],
   "source": [
    "list(a)"
   ]
  },
  {
   "cell_type": "markdown",
   "id": "64c52b88-cf21-4684-9c36-b7cac7013daa",
   "metadata": {},
   "source": [
    "15. Join a list of words into a string."
   ]
  },
  {
   "cell_type": "code",
   "execution_count": 29,
   "id": "5380d62a-561d-4611-8d09-312357b4f6c2",
   "metadata": {},
   "outputs": [
    {
     "data": {
      "text/plain": [
       "'ab asd vs s c'"
      ]
     },
     "execution_count": 29,
     "metadata": {},
     "output_type": "execute_result"
    }
   ],
   "source": [
    "\"\".join(list(a))"
   ]
  },
  {
   "cell_type": "markdown",
   "id": "3a6ebd80-1b5b-4e1e-9300-b28c0f6b57bf",
   "metadata": {},
   "source": [
    "16. Convert a string where words are separated by spaces to one where words\n",
    "are separated by underscores."
   ]
  },
  {
   "cell_type": "code",
   "execution_count": 31,
   "id": "d14654f4-a5da-4582-9779-9e403091a417",
   "metadata": {},
   "outputs": [
    {
     "data": {
      "text/plain": [
       "'sdfa_sdf_sdf'"
      ]
     },
     "execution_count": 31,
     "metadata": {},
     "output_type": "execute_result"
    }
   ],
   "source": [
    "a=\"sdfa sdf sdf\"\n",
    "a.replace(\" \",\"_\")"
   ]
  },
  {
   "cell_type": "markdown",
   "id": "6d984232-0bb6-4216-b5bb-7e481664f9af",
   "metadata": {},
   "source": [
    "17. Check if a string starts with a specific word or phrase."
   ]
  },
  {
   "cell_type": "code",
   "execution_count": 32,
   "id": "57c3a16c-0cbe-4c5a-8a1d-0a142a28d428",
   "metadata": {},
   "outputs": [
    {
     "data": {
      "text/plain": [
       "True"
      ]
     },
     "execution_count": 32,
     "metadata": {},
     "output_type": "execute_result"
    }
   ],
   "source": [
    "a.startswith(\"sdfa\")"
   ]
  },
  {
   "cell_type": "markdown",
   "id": "230f1cd7-2881-4c72-b9a6-8a1aa7136b7b",
   "metadata": {},
   "source": [
    "18. Check if a string ends with a specific word or phrase."
   ]
  },
  {
   "cell_type": "code",
   "execution_count": 33,
   "id": "a077341f-a107-47b4-b80d-d3db62a541db",
   "metadata": {},
   "outputs": [
    {
     "data": {
      "text/plain": [
       "True"
      ]
     },
     "execution_count": 33,
     "metadata": {},
     "output_type": "execute_result"
    }
   ],
   "source": [
    "a.endswith(\"sdf\")"
   ]
  },
  {
   "cell_type": "markdown",
   "id": "00a42c1b-d3dd-47e9-a88d-43a19ab0b384",
   "metadata": {},
   "source": [
    "19. Convert a string to title case (e.g., \"hello world\" to \"Hello World\")."
   ]
  },
  {
   "cell_type": "code",
   "execution_count": 34,
   "id": "8893ce53-4c84-43b1-87e2-31667e448c74",
   "metadata": {},
   "outputs": [
    {
     "data": {
      "text/plain": [
       "'Sdfa Sdf Sdf'"
      ]
     },
     "execution_count": 34,
     "metadata": {},
     "output_type": "execute_result"
    }
   ],
   "source": [
    "a.title()"
   ]
  },
  {
   "cell_type": "markdown",
   "id": "130c0494-1d87-4004-8e06-b7aad94be497",
   "metadata": {},
   "source": [
    "20. Find the longest word in a string."
   ]
  },
  {
   "cell_type": "code",
   "execution_count": 40,
   "id": "93bbf068-2488-4eab-8625-71e48bf6a4c8",
   "metadata": {},
   "outputs": [
    {
     "data": {
      "text/plain": [
       "4"
      ]
     },
     "execution_count": 40,
     "metadata": {},
     "output_type": "execute_result"
    }
   ],
   "source": [
    "a.split()\n",
    "len(max(a.split(),key=len))"
   ]
  },
  {
   "cell_type": "markdown",
   "id": "e29b9745-9992-46ab-ab9f-829759bb8248",
   "metadata": {},
   "source": [
    "21. Find the shortest word in a string."
   ]
  },
  {
   "cell_type": "code",
   "execution_count": 41,
   "id": "fd678db2-c0cc-4dd4-9d9e-aa765a51af70",
   "metadata": {},
   "outputs": [
    {
     "data": {
      "text/plain": [
       "3"
      ]
     },
     "execution_count": 41,
     "metadata": {},
     "output_type": "execute_result"
    }
   ],
   "source": [
    "len(min(a.split(),key=len))"
   ]
  },
  {
   "cell_type": "markdown",
   "id": "0cea74a1-11ee-43f8-9cd4-48f48d81e3fd",
   "metadata": {},
   "source": [
    "22. Reverse the order of words in a string."
   ]
  },
  {
   "cell_type": "code",
   "execution_count": 42,
   "id": "f6d87af4-a8d1-4fd5-978d-c473756b2dbd",
   "metadata": {},
   "outputs": [
    {
     "data": {
      "text/plain": [
       "'fds fds afds'"
      ]
     },
     "execution_count": 42,
     "metadata": {},
     "output_type": "execute_result"
    }
   ],
   "source": [
    "a[::-1]"
   ]
  },
  {
   "cell_type": "markdown",
   "id": "f4dfb0ca-dcf1-4378-92d0-bcf0aab5cb75",
   "metadata": {},
   "source": [
    "23. Check if a string is alphanumeric."
   ]
  },
  {
   "cell_type": "code",
   "execution_count": 43,
   "id": "c04765d6-f218-43b8-a511-c5f720baf5ab",
   "metadata": {},
   "outputs": [
    {
     "data": {
      "text/plain": [
       "False"
      ]
     },
     "execution_count": 43,
     "metadata": {},
     "output_type": "execute_result"
    }
   ],
   "source": [
    "a.isalnum()"
   ]
  },
  {
   "cell_type": "markdown",
   "id": "dcef2d11-15b1-4b0f-9cac-49fde3613927",
   "metadata": {},
   "source": [
    "24. Extract all digits from a string."
   ]
  },
  {
   "cell_type": "code",
   "execution_count": 47,
   "id": "a5bb3915-d1e8-43b7-b204-d477b894229b",
   "metadata": {},
   "outputs": [
    {
     "data": {
      "text/plain": [
       "[]"
      ]
     },
     "execution_count": 47,
     "metadata": {},
     "output_type": "execute_result"
    }
   ],
   "source": [
    "[x for x in a if x.isnumeric()]"
   ]
  },
  {
   "cell_type": "markdown",
   "id": "8f1b2cb7-b538-4f64-a8a8-6dbb55c0d2ff",
   "metadata": {},
   "source": [
    "25. Extract all alphabets from a string."
   ]
  },
  {
   "cell_type": "code",
   "execution_count": 48,
   "id": "11012be1-7fcc-48bb-978e-0b313433a082",
   "metadata": {},
   "outputs": [
    {
     "data": {
      "text/plain": [
       "['s', 'd', 'f', 'a', 's', 'd', 'f', 's', 'd', 'f']"
      ]
     },
     "execution_count": 48,
     "metadata": {},
     "output_type": "execute_result"
    }
   ],
   "source": [
    "[x for x in a if x.isalpha()]"
   ]
  },
  {
   "cell_type": "markdown",
   "id": "fa5d77f8-f1f5-418d-9473-78d65f1aa472",
   "metadata": {},
   "source": [
    "26. Count the number of uppercase letters in a string."
   ]
  },
  {
   "cell_type": "code",
   "execution_count": 51,
   "id": "bd4c1579-4e9d-4219-bd68-7a0cf0818849",
   "metadata": {},
   "outputs": [
    {
     "data": {
      "text/plain": [
       "0"
      ]
     },
     "execution_count": 51,
     "metadata": {},
     "output_type": "execute_result"
    }
   ],
   "source": [
    "sum([1 for x in a if x.isupper()])"
   ]
  },
  {
   "cell_type": "markdown",
   "id": "ba3f136a-0b79-4dcb-a93d-3f84db141b7d",
   "metadata": {},
   "source": [
    "27. Count the number of lowercase letters in a string."
   ]
  },
  {
   "cell_type": "code",
   "execution_count": 52,
   "id": "caa61fec-bfac-4295-8097-deaef90f8fc1",
   "metadata": {},
   "outputs": [
    {
     "data": {
      "text/plain": [
       "10"
      ]
     },
     "execution_count": 52,
     "metadata": {},
     "output_type": "execute_result"
    }
   ],
   "source": [
    "sum([1 for x in a if x.islower()])"
   ]
  },
  {
   "cell_type": "markdown",
   "id": "818514c8-3942-4859-b50f-5d28f6977a4c",
   "metadata": {},
   "source": [
    "28. Swap the case of each character in a string."
   ]
  },
  {
   "cell_type": "code",
   "execution_count": 53,
   "id": "03bd4b3e-45c7-425c-ae64-e98121a11ac7",
   "metadata": {},
   "outputs": [
    {
     "data": {
      "text/plain": [
       "['S', 'D', 'F', 'A', ' ', 'S', 'D', 'F', ' ', 'S', 'D', 'F']"
      ]
     },
     "execution_count": 53,
     "metadata": {},
     "output_type": "execute_result"
    }
   ],
   "source": [
    "[x.upper() if x.islower() else x.lower() for x in a ]"
   ]
  },
  {
   "cell_type": "markdown",
   "id": "f656d7e2-adb1-48af-a694-c7c31e853f25",
   "metadata": {},
   "source": [
    "29. Remove a specific word from a string."
   ]
  },
  {
   "cell_type": "code",
   "execution_count": 56,
   "id": "228d8a12-495e-4200-9791-a406e00efca5",
   "metadata": {},
   "outputs": [
    {
     "data": {
      "text/plain": [
       "'sdf sdf sdf'"
      ]
     },
     "execution_count": 56,
     "metadata": {},
     "output_type": "execute_result"
    }
   ],
   "source": [
    "a.replace(\"a\",\"\")"
   ]
  },
  {
   "cell_type": "markdown",
   "id": "9f656eb4-0eec-493b-99d9-3e1046efd97a",
   "metadata": {},
   "source": [
    "30. Check if a string is a valid email address."
   ]
  },
  {
   "cell_type": "code",
   "execution_count": 65,
   "id": "6c8fb121-4abb-426f-8ddd-7fbbae5c87fd",
   "metadata": {},
   "outputs": [
    {
     "name": "stdout",
     "output_type": "stream",
     "text": [
      "True\n"
     ]
    }
   ],
   "source": [
    "import re\n",
    "email=\"mohit@gmail.com\"\n",
    "\n",
    "pattern = r'^[\\w\\.-]+@[\\w\\.-]+\\.\\w+$'\n",
    "if re.match(pattern, email):\n",
    "    print(True)\n",
    "else:\n",
    "    print(False)\n"
   ]
  },
  {
   "cell_type": "markdown",
   "id": "3614f58b-21ba-4230-afb7-18817b54b0ae",
   "metadata": {},
   "source": [
    "31. Extract the username from an email address string."
   ]
  },
  {
   "cell_type": "code",
   "execution_count": 68,
   "id": "0cce07c2-0bda-42c1-9e0f-597b62da3f1d",
   "metadata": {},
   "outputs": [
    {
     "data": {
      "text/plain": [
       "'mohit'"
      ]
     },
     "execution_count": 68,
     "metadata": {},
     "output_type": "execute_result"
    }
   ],
   "source": [
    "email.split(\"@\")[0]"
   ]
  },
  {
   "cell_type": "markdown",
   "id": "ccf7dd1b-9036-4adb-a163-66f7699baeee",
   "metadata": {},
   "source": [
    "32. Extract the domain name from an email address string."
   ]
  },
  {
   "cell_type": "code",
   "execution_count": 69,
   "id": "7e45c981-325e-4d39-8e04-6f6f784d2223",
   "metadata": {},
   "outputs": [
    {
     "data": {
      "text/plain": [
       "'gmail.com'"
      ]
     },
     "execution_count": 69,
     "metadata": {},
     "output_type": "execute_result"
    }
   ],
   "source": [
    "email.split(\"@\")[-1]"
   ]
  },
  {
   "cell_type": "markdown",
   "id": "40bef131-b519-419c-9b33-834e3ad5290f",
   "metadata": {},
   "source": [
    "33. Replace multiple spaces in a string with a single space."
   ]
  },
  {
   "cell_type": "code",
   "execution_count": 80,
   "id": "2c21890d-4546-4471-903c-128c50bf3961",
   "metadata": {},
   "outputs": [
    {
     "data": {
      "text/plain": [
       "'asdf asdf fadsf adf'"
      ]
     },
     "execution_count": 80,
     "metadata": {},
     "output_type": "execute_result"
    }
   ],
   "source": [
    "count=0\n",
    "newstr=\"\"\n",
    "a=\"asdf  asdf    fadsf adf\"\n",
    "for i in a:\n",
    "    if i==\" \" and count==0:\n",
    "        count+=1\n",
    "        newstr+=i\n",
    "    elif i!=\" \":\n",
    "        count=0\n",
    "        newstr+=i\n",
    "        \n",
    "newstr"
   ]
  },
  {
   "cell_type": "markdown",
   "id": "a20def50-3e06-4566-9ab9-3665d971487f",
   "metadata": {},
   "source": [
    "34. Check if a string is a valid URL."
   ]
  },
  {
   "cell_type": "code",
   "execution_count": 83,
   "id": "9956f22c-5216-4a14-8f7c-718cccb388cd",
   "metadata": {},
   "outputs": [
    {
     "name": "stdout",
     "output_type": "stream",
     "text": [
      "True\n"
     ]
    }
   ],
   "source": [
    "import re \n",
    "url=\"https://mango-dentist-zuffw.pwskills.app/lab/tree/work/20th_August_Python_Basics.ipynb\"\n",
    "pattern = r'^(https?|ftp)://[^\\s/$.?#].[^\\s]*$'\n",
    "if re.match(pattern, url):\n",
    "    print(True)\n",
    "else:\n",
    "    print(False)"
   ]
  },
  {
   "cell_type": "markdown",
   "id": "6334f7e5-05a0-47f6-8086-5637b8de2f78",
   "metadata": {},
   "source": [
    "35. Extract the protocol (http or https) from a URL string."
   ]
  },
  {
   "cell_type": "code",
   "execution_count": 85,
   "id": "8620b12e-8ccd-4ac8-9ecd-95994a556cbe",
   "metadata": {},
   "outputs": [
    {
     "data": {
      "text/plain": [
       "'https'"
      ]
     },
     "execution_count": 85,
     "metadata": {},
     "output_type": "execute_result"
    }
   ],
   "source": [
    "url.split(\":\")[0]"
   ]
  },
  {
   "cell_type": "markdown",
   "id": "2f98a6c7-34e1-4df5-8033-516122a6b924",
   "metadata": {},
   "source": [
    "36. Find the frequency of each character in a string."
   ]
  },
  {
   "cell_type": "code",
   "execution_count": 86,
   "id": "3066fe12-6ac1-45b9-a473-ba12080bbfbe",
   "metadata": {},
   "outputs": [
    {
     "data": {
      "text/plain": [
       "4"
      ]
     },
     "execution_count": 86,
     "metadata": {},
     "output_type": "execute_result"
    }
   ],
   "source": [
    "url.count(\"a\")"
   ]
  },
  {
   "cell_type": "markdown",
   "id": "37c37412-d6f1-4583-81fc-465fc138e9b2",
   "metadata": {},
   "source": [
    "37. Remove all punctuation from a string."
   ]
  },
  {
   "cell_type": "code",
   "execution_count": 90,
   "id": "1fe6d9f0-7857-4f82-be1b-f3d44e3d34c0",
   "metadata": {},
   "outputs": [
    {
     "data": {
      "text/plain": [
       "'aafad Afadf'"
      ]
     },
     "execution_count": 90,
     "metadata": {},
     "output_type": "execute_result"
    }
   ],
   "source": [
    "import string\n",
    "n=\"aafad: A;?fadf..//\"\n",
    "\"\".join([x for x in n if x not in string.punctuation ])"
   ]
  },
  {
   "cell_type": "markdown",
   "id": "ba42ea9c-ea09-43ac-ba1f-ff64cf4492c4",
   "metadata": {},
   "source": [
    "38. Check if a string contains only digits."
   ]
  },
  {
   "cell_type": "code",
   "execution_count": 91,
   "id": "bf8d120e-1bda-4181-b2b5-8aafd42e0e9f",
   "metadata": {},
   "outputs": [
    {
     "data": {
      "text/plain": [
       "False"
      ]
     },
     "execution_count": 91,
     "metadata": {},
     "output_type": "execute_result"
    }
   ],
   "source": [
    "n.isnumeric()"
   ]
  },
  {
   "cell_type": "markdown",
   "id": "63d4a75b-9b5f-46f7-bace-f11667c049d8",
   "metadata": {},
   "source": [
    "39. Check if a string contains only alphabets."
   ]
  },
  {
   "cell_type": "code",
   "execution_count": 92,
   "id": "c9b0f3a9-3853-448c-a295-8f88ba9ec7a8",
   "metadata": {},
   "outputs": [
    {
     "data": {
      "text/plain": [
       "False"
      ]
     },
     "execution_count": 92,
     "metadata": {},
     "output_type": "execute_result"
    }
   ],
   "source": [
    "n.isalpha()"
   ]
  },
  {
   "cell_type": "markdown",
   "id": "be265f6b-7c6f-4540-a9e7-6eba3f4cf3b0",
   "metadata": {},
   "source": [
    "40. Convert a string to a list of characters."
   ]
  },
  {
   "cell_type": "code",
   "execution_count": 93,
   "id": "fef0e77d-51b0-485d-8fa5-7710eba16234",
   "metadata": {},
   "outputs": [
    {
     "data": {
      "text/plain": [
       "['a',\n",
       " 'a',\n",
       " 'f',\n",
       " 'a',\n",
       " 'd',\n",
       " ':',\n",
       " ' ',\n",
       " 'A',\n",
       " ';',\n",
       " '?',\n",
       " 'f',\n",
       " 'a',\n",
       " 'd',\n",
       " 'f',\n",
       " '.',\n",
       " '.',\n",
       " '/',\n",
       " '/']"
      ]
     },
     "execution_count": 93,
     "metadata": {},
     "output_type": "execute_result"
    }
   ],
   "source": [
    "list(n)"
   ]
  },
  {
   "cell_type": "markdown",
   "id": "2302d2b9-e1a7-4b7c-a277-6a3d6ecc83d1",
   "metadata": {},
   "source": [
    "41. Check if two strings are anagrams."
   ]
  },
  {
   "cell_type": "code",
   "execution_count": 99,
   "id": "77d42c97-f03a-40a9-9ab3-801216682c08",
   "metadata": {},
   "outputs": [
    {
     "data": {
      "text/plain": [
       "True"
      ]
     },
     "execution_count": 99,
     "metadata": {},
     "output_type": "execute_result"
    }
   ],
   "source": [
    "a=\"boot \"\n",
    "b=\"toob \"\n",
    "sorted(a)==sorted(b)"
   ]
  },
  {
   "cell_type": "markdown",
   "id": "7311adf6-d503-47f2-9009-5991d8cba3ff",
   "metadata": {},
   "source": [
    "42. Encode a string using a Caesar cipher."
   ]
  },
  {
   "cell_type": "code",
   "execution_count": 102,
   "id": "6c812ed3-7c6d-44ea-84e2-e5bd91b8dda4",
   "metadata": {},
   "outputs": [
    {
     "data": {
      "text/plain": [
       "'kl prklw !'"
      ]
     },
     "execution_count": 102,
     "metadata": {},
     "output_type": "execute_result"
    }
   ],
   "source": [
    "encrypted_text = \"\"\n",
    "shift=3\n",
    "text=\"hi mohit !\"\n",
    "for char in text:\n",
    "    if char.isalpha():\n",
    "        is_upper = char.isupper()\n",
    "        char = char.lower()\n",
    "        shifted_char = chr(((ord(char) - ord('a') + shift) % 26) + ord('a'))\n",
    "        if is_upper:\n",
    "            shifted_char = shifted_char.upper()\n",
    "        encrypted_text += shifted_char\n",
    "    else:\n",
    "        encrypted_text += char\n",
    "encrypted_text"
   ]
  },
  {
   "cell_type": "markdown",
   "id": "239750f8-d873-47bf-9034-36d130a3366f",
   "metadata": {},
   "source": [
    "43. Decode a Caesar cipher encoded string."
   ]
  },
  {
   "cell_type": "code",
   "execution_count": 103,
   "id": "55193b22-9c20-4065-8f35-0bca2e95530e",
   "metadata": {},
   "outputs": [
    {
     "data": {
      "text/plain": [
       "'hi mohit !'"
      ]
     },
     "execution_count": 103,
     "metadata": {},
     "output_type": "execute_result"
    }
   ],
   "source": [
    "decrypted_text = \"\"\n",
    "shift=3\n",
    "for char in encrypted_text:\n",
    "    if char.isalpha():\n",
    "        is_upper = char.isupper()\n",
    "        char = char.lower()\n",
    "        shifted_char = chr(((ord(char) - ord('a') - shift) % 26) + ord('a'))\n",
    "        if is_upper:\n",
    "            shifted_char = shifted_char.upper()\n",
    "        decrypted_text += shifted_char\n",
    "    else:\n",
    "        decrypted_text += char\n",
    "decrypted_text"
   ]
  },
  {
   "cell_type": "markdown",
   "id": "b7aeb18a-b759-4323-b5f6-22681bc2cd20",
   "metadata": {},
   "source": [
    "44. Find the most frequent word in a string.\n"
   ]
  },
  {
   "cell_type": "code",
   "execution_count": 14,
   "id": "d3631e40-08d9-4fce-85ba-fc48825d8c3b",
   "metadata": {},
   "outputs": [],
   "source": [
    "s=\"rqerqrt,qrterwywrey,yyyyyyyyy\""
   ]
  },
  {
   "cell_type": "code",
   "execution_count": 9,
   "id": "281bce32-c7cb-4ff2-a33a-3854b96d10f2",
   "metadata": {},
   "outputs": [
    {
     "data": {
      "text/plain": [
       "0"
      ]
     },
     "execution_count": 9,
     "metadata": {},
     "output_type": "execute_result"
    }
   ],
   "source": [
    "di.get(\"h\",0)"
   ]
  },
  {
   "cell_type": "code",
   "execution_count": 12,
   "id": "83f3a500-ca68-439f-bd94-86cedeac2eab",
   "metadata": {},
   "outputs": [],
   "source": [
    "di={}\n",
    "for i in s:\n",
    "    di[i]=di.get(i,0)+1"
   ]
  },
  {
   "cell_type": "code",
   "execution_count": 16,
   "id": "e3d565eb-6dcc-4d70-87bc-ed55729bcfe1",
   "metadata": {},
   "outputs": [
    {
     "data": {
      "text/plain": [
       "'y'"
      ]
     },
     "execution_count": 16,
     "metadata": {},
     "output_type": "execute_result"
    }
   ],
   "source": [
    "max(di)"
   ]
  },
  {
   "cell_type": "code",
   "execution_count": 15,
   "id": "89393477-2fca-4ce4-86d8-46dac68aea50",
   "metadata": {},
   "outputs": [
    {
     "data": {
      "text/plain": [
       "'y'"
      ]
     },
     "execution_count": 15,
     "metadata": {},
     "output_type": "execute_result"
    }
   ],
   "source": [
    "max(s,key=lambda x:s.count(x))"
   ]
  },
  {
   "cell_type": "markdown",
   "id": "811d0ddd-2c1e-4206-a69f-cea96f79de49",
   "metadata": {},
   "source": [
    "45. Find all unique words in a string."
   ]
  },
  {
   "cell_type": "code",
   "execution_count": 17,
   "id": "f346ffa7-c842-466e-9a90-6dd12fbc3ca4",
   "metadata": {},
   "outputs": [
    {
     "data": {
      "text/plain": [
       "{',', 'e', 'q', 'r', 't', 'w', 'y'}"
      ]
     },
     "execution_count": 17,
     "metadata": {},
     "output_type": "execute_result"
    }
   ],
   "source": [
    "set(s)"
   ]
  },
  {
   "cell_type": "markdown",
   "id": "ecda56fa-5972-4623-9079-442b882497d6",
   "metadata": {},
   "source": [
    "46. Count the number of syllables in a string."
   ]
  },
  {
   "cell_type": "code",
   "execution_count": null,
   "id": "4f2b594b-4bbb-4d25-84c7-fb5ceed7ec6b",
   "metadata": {},
   "outputs": [],
   "source": []
  },
  {
   "cell_type": "markdown",
   "id": "80a2f071-20e6-4235-874f-77cce497be35",
   "metadata": {},
   "source": [
    "47. Check if a string contains any special characters."
   ]
  },
  {
   "cell_type": "code",
   "execution_count": 22,
   "id": "bbbd39f4-fabf-472b-8f70-d49c6e1e0440",
   "metadata": {},
   "outputs": [
    {
     "data": {
      "text/plain": [
       "True"
      ]
     },
     "execution_count": 22,
     "metadata": {},
     "output_type": "execute_result"
    }
   ],
   "source": [
    "from string import punctuation\n",
    "\n",
    "any([True if x in s else False for x in punctuation ])"
   ]
  },
  {
   "cell_type": "markdown",
   "id": "bfd9fa73-8a72-4694-8015-58432f0740ed",
   "metadata": {},
   "source": [
    "48. Remove the nth word from a string."
   ]
  },
  {
   "cell_type": "code",
   "execution_count": 26,
   "id": "5148adfa-fad9-4e55-8e1f-fca6650b1d35",
   "metadata": {},
   "outputs": [
    {
     "data": {
      "text/plain": [
       "'rqerqrt,qterwywrey,yyyyyyyyy'"
      ]
     },
     "execution_count": 26,
     "metadata": {},
     "output_type": "execute_result"
    }
   ],
   "source": [
    "n=10\n",
    "s[:n-1]+s[n:]"
   ]
  },
  {
   "cell_type": "markdown",
   "id": "5cfc6cdf-1efd-48b3-968c-a8575040d51f",
   "metadata": {},
   "source": [
    "49. Insert a word at the nth position in a string."
   ]
  },
  {
   "cell_type": "code",
   "execution_count": 27,
   "id": "52f3c2c7-bcd2-419d-bbda-1995901b9113",
   "metadata": {},
   "outputs": [
    {
     "data": {
      "text/plain": [
       "'rqerqrt,qxterwywrey,yyyyyyyyy'"
      ]
     },
     "execution_count": 27,
     "metadata": {},
     "output_type": "execute_result"
    }
   ],
   "source": [
    "n=10\n",
    "s[:n-1]+\"x\"+s[n:]"
   ]
  },
  {
   "cell_type": "markdown",
   "id": "6a4ad60c-f01f-46b7-898b-2981b6960825",
   "metadata": {},
   "source": [
    "50. Convert a CSV string to a list of lists."
   ]
  },
  {
   "cell_type": "code",
   "execution_count": 28,
   "id": "24cffc1d-34f7-4aa7-9d77-e90e81d6b312",
   "metadata": {},
   "outputs": [
    {
     "data": {
      "text/plain": [
       "['adsf', 'asdf', 'adf', 'sdf']"
      ]
     },
     "execution_count": 28,
     "metadata": {},
     "output_type": "execute_result"
    }
   ],
   "source": [
    "a=\"adsf,asdf,adf,sdf\"\n",
    "a.split(\",\")"
   ]
  },
  {
   "cell_type": "markdown",
   "id": "b5e41aa5-db09-4f79-8699-0d48535f1ebf",
   "metadata": {},
   "source": [
    "### List Based Practice Problem :"
   ]
  },
  {
   "cell_type": "markdown",
   "id": "d800bdcc-1966-499c-a935-016fa7de157a",
   "metadata": {},
   "source": [
    "1. Create a list with integers from 1 to 10."
   ]
  },
  {
   "cell_type": "code",
   "execution_count": 37,
   "id": "a93d24ed-6768-44e7-8186-291e019cbe8a",
   "metadata": {},
   "outputs": [
    {
     "data": {
      "text/plain": [
       "[1, 2, 3, 4, 5, 6, 7, 8, 9, 10]"
      ]
     },
     "execution_count": 37,
     "metadata": {},
     "output_type": "execute_result"
    }
   ],
   "source": [
    "s=list(range(1,11))\n",
    "s"
   ]
  },
  {
   "cell_type": "markdown",
   "id": "36116c74-ec4f-42ea-aa83-20d292e41e15",
   "metadata": {},
   "source": [
    "2. Find the length of a list without using the `len()` function."
   ]
  },
  {
   "cell_type": "code",
   "execution_count": 34,
   "id": "a212451b-60ea-447b-842d-ba4623a26e6b",
   "metadata": {},
   "outputs": [
    {
     "data": {
      "text/plain": [
       "10"
      ]
     },
     "execution_count": 34,
     "metadata": {},
     "output_type": "execute_result"
    }
   ],
   "source": [
    "a=range(10)\n",
    "le=0\n",
    "for i in a:\n",
    "    le+=1\n",
    "le"
   ]
  },
  {
   "cell_type": "markdown",
   "id": "b0cb0ca5-1471-474e-bbb5-ccdbd440f58a",
   "metadata": {},
   "source": [
    "3. Append an element to the end of a list."
   ]
  },
  {
   "cell_type": "code",
   "execution_count": 39,
   "id": "ee365c52-eb9d-4e96-bb89-4706e1ca68f5",
   "metadata": {},
   "outputs": [
    {
     "data": {
      "text/plain": [
       "[1, 2, 3, 4, 5, 6, 7, 8, 9, 10, 11, 11]"
      ]
     },
     "execution_count": 39,
     "metadata": {},
     "output_type": "execute_result"
    }
   ],
   "source": [
    "s.append(11)\n",
    "s"
   ]
  },
  {
   "cell_type": "markdown",
   "id": "9ca3eace-e06a-41a4-a69f-7fd14420ed40",
   "metadata": {},
   "source": [
    "4. Insert an element at a specific index in a list."
   ]
  },
  {
   "cell_type": "code",
   "execution_count": 40,
   "id": "f219bd01-adab-4865-92c1-f744b0dee6fc",
   "metadata": {},
   "outputs": [
    {
     "data": {
      "text/plain": [
       "[99, 1, 2, 3, 4, 5, 6, 7, 8, 9, 10, 11, 11]"
      ]
     },
     "execution_count": 40,
     "metadata": {},
     "output_type": "execute_result"
    }
   ],
   "source": [
    "s.insert(0,99)\n",
    "s"
   ]
  },
  {
   "cell_type": "markdown",
   "id": "adea5f16-5602-4232-a2b8-95cc8c93f6d6",
   "metadata": {},
   "source": [
    "5. Remove an element from a list by its value."
   ]
  },
  {
   "cell_type": "code",
   "execution_count": 42,
   "id": "43770dc3-0404-4dd2-9818-66b5b4ac0ddf",
   "metadata": {},
   "outputs": [
    {
     "data": {
      "text/plain": [
       "[99, 1, 2, 3, 4, 5, 6, 7, 8, 9, 10]"
      ]
     },
     "execution_count": 42,
     "metadata": {},
     "output_type": "execute_result"
    }
   ],
   "source": [
    "s.remove(11)\n",
    "s"
   ]
  },
  {
   "cell_type": "markdown",
   "id": "fd2f7ada-e23f-4f3e-83db-893d1185dc44",
   "metadata": {},
   "source": [
    "6. Remove an element from a list by its index."
   ]
  },
  {
   "cell_type": "code",
   "execution_count": 43,
   "id": "fb22f0c2-b91d-456a-8a74-0397af068296",
   "metadata": {},
   "outputs": [
    {
     "data": {
      "text/plain": [
       "4"
      ]
     },
     "execution_count": 43,
     "metadata": {},
     "output_type": "execute_result"
    }
   ],
   "source": [
    "s.pop(4)"
   ]
  },
  {
   "cell_type": "markdown",
   "id": "a9df3dc2-b4f6-4a0e-808a-731dd72a0f58",
   "metadata": {},
   "source": [
    "7. Check if an element exists in a list."
   ]
  },
  {
   "cell_type": "code",
   "execution_count": 44,
   "id": "0aa30021-7bea-41fe-99c4-bfab9f52053e",
   "metadata": {},
   "outputs": [
    {
     "data": {
      "text/plain": [
       "True"
      ]
     },
     "execution_count": 44,
     "metadata": {},
     "output_type": "execute_result"
    }
   ],
   "source": [
    "99 in s"
   ]
  },
  {
   "cell_type": "markdown",
   "id": "54681bc8-a37a-4376-9dda-b04d29ebf916",
   "metadata": {},
   "source": [
    "8. Find the index of the first occurrence of an element in a list."
   ]
  },
  {
   "cell_type": "code",
   "execution_count": 47,
   "id": "e05198f8-9ec4-45bd-a7e7-2f45d46fd039",
   "metadata": {},
   "outputs": [
    {
     "data": {
      "text/plain": [
       "0"
      ]
     },
     "execution_count": 47,
     "metadata": {},
     "output_type": "execute_result"
    }
   ],
   "source": [
    "s.index(99)"
   ]
  },
  {
   "cell_type": "markdown",
   "id": "008661c9-86dc-4521-8cdf-cbcbaa2dc076",
   "metadata": {},
   "source": [
    "9. Count the occurrences of an element in a list."
   ]
  },
  {
   "cell_type": "code",
   "execution_count": 49,
   "id": "8086589a-c45e-4a7e-ab7b-5998e3cf48ef",
   "metadata": {},
   "outputs": [
    {
     "data": {
      "text/plain": [
       "1"
      ]
     },
     "execution_count": 49,
     "metadata": {},
     "output_type": "execute_result"
    }
   ],
   "source": [
    "s.count(99)"
   ]
  },
  {
   "cell_type": "markdown",
   "id": "21eeed9a-d0b3-4ea0-b90c-e1d76bfcc774",
   "metadata": {},
   "source": [
    "10. Reverse the order of elements in a list."
   ]
  },
  {
   "cell_type": "code",
   "execution_count": 50,
   "id": "f1984257-4829-47db-a9fc-6b36ffd57944",
   "metadata": {},
   "outputs": [
    {
     "data": {
      "text/plain": [
       "[10, 9, 8, 7, 6, 5, 3, 2, 1, 99]"
      ]
     },
     "execution_count": 50,
     "metadata": {},
     "output_type": "execute_result"
    }
   ],
   "source": [
    "s[::-1]"
   ]
  },
  {
   "cell_type": "markdown",
   "id": "2d5b96bf-c59f-40d4-b6f3-7a1b31a1d330",
   "metadata": {},
   "source": [
    "11. Sort a list in ascending order."
   ]
  },
  {
   "cell_type": "code",
   "execution_count": 52,
   "id": "d7b26c23-9993-4712-810a-2c673935bf8a",
   "metadata": {},
   "outputs": [
    {
     "data": {
      "text/plain": [
       "[1, 2, 3, 5, 6, 7, 8, 9, 10, 99]"
      ]
     },
     "execution_count": 52,
     "metadata": {},
     "output_type": "execute_result"
    }
   ],
   "source": [
    "s.sort()\n",
    "s"
   ]
  },
  {
   "cell_type": "markdown",
   "id": "827b4684-50a8-4621-8cdf-88b495a81ba5",
   "metadata": {},
   "source": [
    "12. Sort a list in descending order."
   ]
  },
  {
   "cell_type": "code",
   "execution_count": 53,
   "id": "76bec404-79c0-491f-8d1c-a181a35b708d",
   "metadata": {},
   "outputs": [
    {
     "data": {
      "text/plain": [
       "[99, 10, 9, 8, 7, 6, 5, 3, 2, 1]"
      ]
     },
     "execution_count": 53,
     "metadata": {},
     "output_type": "execute_result"
    }
   ],
   "source": [
    "s.sort(reverse=True)\n",
    "s"
   ]
  },
  {
   "cell_type": "markdown",
   "id": "87defd97-7585-44d5-a27c-d050a69fd9ac",
   "metadata": {},
   "source": [
    "13. Create a list of even numbers from 1 to 20.\n"
   ]
  },
  {
   "cell_type": "code",
   "execution_count": 54,
   "id": "ccccbe92-169f-4475-befd-a5e8c6892fb2",
   "metadata": {},
   "outputs": [
    {
     "data": {
      "text/plain": [
       "[1, 2, 3, 4, 5, 6, 7, 8, 9, 10, 11, 12, 13, 14, 15, 16, 17, 18, 19, 20]"
      ]
     },
     "execution_count": 54,
     "metadata": {},
     "output_type": "execute_result"
    }
   ],
   "source": [
    "list(range(1,21))"
   ]
  },
  {
   "cell_type": "markdown",
   "id": "1685ac4b-9a56-442c-9743-4b3c96dbb8a5",
   "metadata": {},
   "source": [
    "14. Create a list of odd numbers from 1 to 20."
   ]
  },
  {
   "cell_type": "code",
   "execution_count": 55,
   "id": "7b7a32a0-017c-4b96-887b-0db2761eb898",
   "metadata": {},
   "outputs": [
    {
     "data": {
      "text/plain": [
       "[1, 3, 5, 7, 9, 11, 13, 15, 17, 19]"
      ]
     },
     "execution_count": 55,
     "metadata": {},
     "output_type": "execute_result"
    }
   ],
   "source": [
    "[x for x in list(range(1,21)) if x%2!=0 ]"
   ]
  },
  {
   "cell_type": "markdown",
   "id": "daaf679b-0e24-4e22-b6e8-087b39fbf510",
   "metadata": {},
   "source": [
    "15. Find the sum of all elements in a list."
   ]
  },
  {
   "cell_type": "code",
   "execution_count": 56,
   "id": "bcaf206d-b519-4a1c-8e56-f51de6f08795",
   "metadata": {},
   "outputs": [
    {
     "data": {
      "text/plain": [
       "150"
      ]
     },
     "execution_count": 56,
     "metadata": {},
     "output_type": "execute_result"
    }
   ],
   "source": [
    "sum(s)"
   ]
  },
  {
   "cell_type": "markdown",
   "id": "cd135fa4-5773-467a-80ca-05bff54fc2fa",
   "metadata": {},
   "source": [
    "16. Find the maximum value in a list."
   ]
  },
  {
   "cell_type": "code",
   "execution_count": 57,
   "id": "ffebd834-a2bb-4b55-b392-e0b81ce1b92b",
   "metadata": {},
   "outputs": [
    {
     "data": {
      "text/plain": [
       "99"
      ]
     },
     "execution_count": 57,
     "metadata": {},
     "output_type": "execute_result"
    }
   ],
   "source": [
    "max(s)"
   ]
  },
  {
   "cell_type": "markdown",
   "id": "889aed57-847f-453b-be14-eb454a7c1177",
   "metadata": {},
   "source": [
    "17. Find the minimum value in a list."
   ]
  },
  {
   "cell_type": "code",
   "execution_count": 59,
   "id": "88899d1b-c642-4e02-8211-058a180d2498",
   "metadata": {},
   "outputs": [
    {
     "data": {
      "text/plain": [
       "1"
      ]
     },
     "execution_count": 59,
     "metadata": {},
     "output_type": "execute_result"
    }
   ],
   "source": [
    "min(s)"
   ]
  },
  {
   "cell_type": "markdown",
   "id": "ac4abe39-3b84-4280-8d73-e900b404c716",
   "metadata": {},
   "source": [
    "18. Create a list of squares of numbers from 1 to 10."
   ]
  },
  {
   "cell_type": "code",
   "execution_count": 61,
   "id": "003c94c6-c8db-4133-9af4-2dbf03747c8d",
   "metadata": {},
   "outputs": [
    {
     "data": {
      "text/plain": [
       "[1, 4, 9, 16, 25, 36, 49, 64, 81, 100]"
      ]
     },
     "execution_count": 61,
     "metadata": {},
     "output_type": "execute_result"
    }
   ],
   "source": [
    "[x**2 for x  in range(1,11)]"
   ]
  },
  {
   "cell_type": "markdown",
   "id": "11843b03-1290-49d1-a9ba-610521d1bf70",
   "metadata": {},
   "source": [
    "19. Create a list of random numbers."
   ]
  },
  {
   "cell_type": "code",
   "execution_count": 73,
   "id": "cb5f429c-3e99-4109-a335-1db0097e65ba",
   "metadata": {},
   "outputs": [],
   "source": [
    "from random import randint\n"
   ]
  },
  {
   "cell_type": "code",
   "execution_count": 75,
   "id": "c9569e3c-0ac9-4073-8c7d-2bb1a7b5ae1b",
   "metadata": {},
   "outputs": [
    {
     "data": {
      "text/plain": [
       "[40, 81, 84, 11, 22, 61, 76, 20, 37, 16, 108, 105, 98]"
      ]
     },
     "execution_count": 75,
     "metadata": {},
     "output_type": "execute_result"
    }
   ],
   "source": [
    "[randint(0,x) for x in range(100,150,4)]\n"
   ]
  },
  {
   "cell_type": "markdown",
   "id": "c82531fe-70a7-46b0-958a-3a19107077d5",
   "metadata": {},
   "source": [
    "20. Remove duplicates from a list."
   ]
  },
  {
   "cell_type": "code",
   "execution_count": 4,
   "id": "57115feb-7067-4d3b-ad3e-e24bfa5bebc6",
   "metadata": {},
   "outputs": [
    {
     "data": {
      "text/plain": [
       "{100, 104, 108, 112, 116, 120, 124, 128, 132, 136, 140, 144, 148}"
      ]
     },
     "execution_count": 4,
     "metadata": {},
     "output_type": "execute_result"
    }
   ],
   "source": [
    "l1=[x for x in range(100,150,4)]\n",
    "set(l1)"
   ]
  },
  {
   "cell_type": "markdown",
   "id": "aee498c4-8c7d-4f6f-98bd-058689a6fe2d",
   "metadata": {},
   "source": [
    "21. Find the common elements between two lists."
   ]
  },
  {
   "cell_type": "code",
   "execution_count": 7,
   "id": "b8bf7197-1e5b-4613-beb8-c442d3b273e9",
   "metadata": {},
   "outputs": [
    {
     "data": {
      "text/plain": [
       "[120, 124, 128, 132, 136, 140, 144, 148]"
      ]
     },
     "execution_count": 7,
     "metadata": {},
     "output_type": "execute_result"
    }
   ],
   "source": [
    "l2=[x for x in range(120,150,4)]\n",
    "[x for x in l1 if x in l2]"
   ]
  },
  {
   "cell_type": "markdown",
   "id": "064c5a97-2067-40cb-a0ad-b0ae08856e60",
   "metadata": {},
   "source": [
    "22. Find the difference between two lists."
   ]
  },
  {
   "cell_type": "code",
   "execution_count": 8,
   "id": "dcb04853-87a0-436f-a2b8-f404815dc8b7",
   "metadata": {},
   "outputs": [
    {
     "data": {
      "text/plain": [
       "[100, 104, 108, 112, 116]"
      ]
     },
     "execution_count": 8,
     "metadata": {},
     "output_type": "execute_result"
    }
   ],
   "source": [
    "[x for x in l1 if x not in l2]"
   ]
  },
  {
   "cell_type": "markdown",
   "id": "d373702a-1181-4b7e-b1b9-05e0962ce558",
   "metadata": {},
   "source": [
    "23. Merge two lists."
   ]
  },
  {
   "cell_type": "code",
   "execution_count": 9,
   "id": "88191d1d-29b1-4bc5-a9c3-eddbfcd24354",
   "metadata": {},
   "outputs": [
    {
     "data": {
      "text/plain": [
       "[100,\n",
       " 104,\n",
       " 108,\n",
       " 112,\n",
       " 116,\n",
       " 120,\n",
       " 124,\n",
       " 128,\n",
       " 132,\n",
       " 136,\n",
       " 140,\n",
       " 144,\n",
       " 148,\n",
       " 120,\n",
       " 124,\n",
       " 128,\n",
       " 132,\n",
       " 136,\n",
       " 140,\n",
       " 144,\n",
       " 148]"
      ]
     },
     "execution_count": 9,
     "metadata": {},
     "output_type": "execute_result"
    }
   ],
   "source": [
    "l1+l2"
   ]
  },
  {
   "cell_type": "markdown",
   "id": "bfd7ee7e-314a-4b26-a0bf-f92f07a46b44",
   "metadata": {},
   "source": [
    "24. Multiply all elements in a list by 2."
   ]
  },
  {
   "cell_type": "code",
   "execution_count": 10,
   "id": "672a9899-634a-4c22-9697-abcd48881276",
   "metadata": {},
   "outputs": [
    {
     "data": {
      "text/plain": [
       "[200, 208, 216, 224, 232, 240, 248, 256, 264, 272, 280, 288, 296]"
      ]
     },
     "execution_count": 10,
     "metadata": {},
     "output_type": "execute_result"
    }
   ],
   "source": [
    "[x*2 for x in l1]"
   ]
  },
  {
   "cell_type": "markdown",
   "id": "8f49ac53-5f80-4b34-8318-f3d299eaf4b9",
   "metadata": {},
   "source": [
    "25. Filter out all even numbers from a list."
   ]
  },
  {
   "cell_type": "code",
   "execution_count": 11,
   "id": "a4b35981-4863-4e87-a6aa-34643525ee82",
   "metadata": {},
   "outputs": [
    {
     "data": {
      "text/plain": [
       "[100, 104, 108, 112, 116, 120, 124, 128, 132, 136, 140, 144, 148]"
      ]
     },
     "execution_count": 11,
     "metadata": {},
     "output_type": "execute_result"
    }
   ],
   "source": [
    "[x for x in l1 if x%2==0]"
   ]
  },
  {
   "cell_type": "markdown",
   "id": "c57a8743-9926-48ae-98eb-095eed5ab3a6",
   "metadata": {},
   "source": [
    "26. Convert a list of strings to a list of integers."
   ]
  },
  {
   "cell_type": "code",
   "execution_count": 13,
   "id": "b7bbe950-a136-48cb-9896-15e00b2320a7",
   "metadata": {},
   "outputs": [
    {
     "data": {
      "text/plain": [
       "[1, 2, 3, 4, 5, 5, 6, 6]"
      ]
     },
     "execution_count": 13,
     "metadata": {},
     "output_type": "execute_result"
    }
   ],
   "source": [
    "[int(x) for x in list(\"12345566\")]"
   ]
  },
  {
   "cell_type": "markdown",
   "id": "828b6464-f369-401e-8246-75ce6e46fbe9",
   "metadata": {},
   "source": [
    "27. Convert a list of integers to a list of strings."
   ]
  },
  {
   "cell_type": "code",
   "execution_count": 14,
   "id": "dbeea348-eb41-4a4a-9faa-eec01d4945ad",
   "metadata": {},
   "outputs": [
    {
     "data": {
      "text/plain": [
       "['1', '2', '3', '4', '5', '5', '6', '6']"
      ]
     },
     "execution_count": 14,
     "metadata": {},
     "output_type": "execute_result"
    }
   ],
   "source": [
    "[str(x) for x in [int(x) for x in list(\"12345566\")]]"
   ]
  },
  {
   "cell_type": "markdown",
   "id": "c4c96f0a-489d-4feb-acd6-f199b1ac5074",
   "metadata": {},
   "source": [
    "28. Flatten a nested list."
   ]
  },
  {
   "cell_type": "code",
   "execution_count": 20,
   "id": "6249b809-90b6-4592-a020-f24907c7f26a",
   "metadata": {},
   "outputs": [],
   "source": [
    "def flatten(li):\n",
    "    new_li=[]\n",
    "    for l in li:\n",
    "        if isinstance(l,list):\n",
    "            new_li+=flatten(l)\n",
    "            return new_li\n",
    "        else :\n",
    "            new_li.append(l)\n",
    "    return new_li"
   ]
  },
  {
   "cell_type": "code",
   "execution_count": 22,
   "id": "5cdbb89e-504c-4b16-9973-a4c2408ec5dc",
   "metadata": {},
   "outputs": [
    {
     "data": {
      "text/plain": [
       "[1, 2, 3, 3, 1, 2, 3, 77, 77, 88]"
      ]
     },
     "execution_count": 22,
     "metadata": {},
     "output_type": "execute_result"
    }
   ],
   "source": [
    "flatten([1,2,3,3,[1,2,3,[77,77,88]]])"
   ]
  },
  {
   "cell_type": "markdown",
   "id": "9661ecbd-f18d-4fcb-a9a7-c4d8f7c7eb91",
   "metadata": {},
   "source": [
    "29. Create a list of the first 10 Fibonacci numbers."
   ]
  },
  {
   "cell_type": "code",
   "execution_count": 37,
   "id": "0f99086e-447c-436d-aae9-41eb4e1569a7",
   "metadata": {},
   "outputs": [],
   "source": [
    "def fibonacci(num):\n",
    "\n",
    "    if num==2:\n",
    "        return [0,1]\n",
    "    else :\n",
    "        my_list=fibonacci(num-1)\n",
    "        my_list.append(my_list[-2]+my_list[-1])\n",
    "        return my_list"
   ]
  },
  {
   "cell_type": "code",
   "execution_count": 38,
   "id": "d037bfd3-23ba-48f9-a010-39c5b8e56a64",
   "metadata": {},
   "outputs": [
    {
     "data": {
      "text/plain": [
       "[0, 1, 1, 2, 3, 5, 8, 13, 21]"
      ]
     },
     "execution_count": 38,
     "metadata": {},
     "output_type": "execute_result"
    }
   ],
   "source": [
    "fibonacci(9)"
   ]
  },
  {
   "cell_type": "markdown",
   "id": "f7de2ab8-f8af-45ff-a08e-17b0a064c677",
   "metadata": {},
   "source": [
    "30. Check if a list is sorted."
   ]
  },
  {
   "cell_type": "code",
   "execution_count": 44,
   "id": "31ca179f-bf35-4ae9-8bfa-cc1435bbc8ad",
   "metadata": {},
   "outputs": [
    {
     "name": "stdout",
     "output_type": "stream",
     "text": [
      "True\n",
      "True\n",
      "True\n",
      "True\n",
      "True\n",
      "True\n",
      "True\n",
      "True\n",
      "True\n",
      "True\n",
      "True\n",
      "True\n"
     ]
    }
   ],
   "source": [
    "n=len(l1)\n",
    "for i in range(n):\n",
    "    if i==n-1:\n",
    "        pass\n",
    "    elif l1[i]>l1[i+1]:\n",
    "        print(False)\n",
    "    else :\n",
    "        print(True)"
   ]
  },
  {
   "cell_type": "markdown",
   "id": "4477dbad-f955-4e2d-a0e9-6fab3bf1f203",
   "metadata": {},
   "source": [
    "31. Rotate a list to the left by `n` positions."
   ]
  },
  {
   "cell_type": "code",
   "execution_count": 46,
   "id": "8d67f1b1-d10c-476a-a6ab-bc3e3063bc1e",
   "metadata": {},
   "outputs": [
    {
     "data": {
      "text/plain": [
       "[132, 136, 140, 144, 148]"
      ]
     },
     "execution_count": 46,
     "metadata": {},
     "output_type": "execute_result"
    }
   ],
   "source": [
    "n=5"
   ]
  },
  {
   "cell_type": "code",
   "execution_count": 51,
   "id": "f6751612-71ac-4fec-a04f-1dd7364ae8d5",
   "metadata": {},
   "outputs": [
    {
     "data": {
      "text/plain": [
       "[104, 108, 112, 116, 120, 124, 128, 132, 136, 140, 144, 148]"
      ]
     },
     "execution_count": 51,
     "metadata": {},
     "output_type": "execute_result"
    }
   ],
   "source": [
    "l1"
   ]
  },
  {
   "cell_type": "code",
   "execution_count": 52,
   "id": "d5a8ea84-3ec3-4ac6-a2ac-8ce516cc6a35",
   "metadata": {},
   "outputs": [],
   "source": [
    "for i in range(5):\n",
    "    l1.append(l1.pop(0))"
   ]
  },
  {
   "cell_type": "code",
   "execution_count": 53,
   "id": "8a43f577-dbed-4c5c-95d0-4c00bb14fc25",
   "metadata": {},
   "outputs": [
    {
     "data": {
      "text/plain": [
       "[124, 128, 132, 136, 140, 144, 148, 104, 108, 112, 116, 120]"
      ]
     },
     "execution_count": 53,
     "metadata": {},
     "output_type": "execute_result"
    }
   ],
   "source": [
    "l1"
   ]
  },
  {
   "cell_type": "markdown",
   "id": "690b203b-fa54-4f14-ba30-42274f9c70cc",
   "metadata": {},
   "source": [
    "32. Rotate a list to the right by `n` positions."
   ]
  },
  {
   "cell_type": "code",
   "execution_count": 54,
   "id": "57a02902-6da1-47c5-bd7a-65c7869d9b7c",
   "metadata": {},
   "outputs": [],
   "source": [
    "for i in range(5):\n",
    "    l1.insert(0,l1.pop())"
   ]
  },
  {
   "cell_type": "code",
   "execution_count": 56,
   "id": "e59a818f-96a5-4b9a-9cb2-f8f6a3759600",
   "metadata": {},
   "outputs": [
    {
     "data": {
      "text/plain": [
       "[104, 108, 112, 116, 120, 124, 128, 132, 136, 140, 144, 148]"
      ]
     },
     "execution_count": 56,
     "metadata": {},
     "output_type": "execute_result"
    }
   ],
   "source": [
    "l1"
   ]
  },
  {
   "cell_type": "markdown",
   "id": "f3c87e13-8140-4fe7-8b4a-733f3c008634",
   "metadata": {},
   "source": [
    "33. Create a list of prime numbers up to 50."
   ]
  },
  {
   "cell_type": "code",
   "execution_count": 61,
   "id": "7131584c-5eed-418d-8eff-92e69ef9d935",
   "metadata": {},
   "outputs": [
    {
     "data": {
      "text/plain": [
       "25"
      ]
     },
     "execution_count": 61,
     "metadata": {},
     "output_type": "execute_result"
    }
   ],
   "source": [
    "50**1//2"
   ]
  },
  {
   "cell_type": "code",
   "execution_count": 74,
   "id": "21cd6099-7a37-4b84-88d8-7082e7df0cd1",
   "metadata": {},
   "outputs": [
    {
     "name": "stdout",
     "output_type": "stream",
     "text": [
      "True\n",
      "True\n",
      "True\n",
      "True\n",
      "True\n"
     ]
    }
   ],
   "source": [
    "n=7\n",
    "for i in range(2,7):\n",
    "    if n%i==0:\n",
    "        break\n",
    "    else :\n",
    "        print(True)"
   ]
  },
  {
   "cell_type": "code",
   "execution_count": 72,
   "id": "09d938af-5530-4256-93ab-acb5b9f92cf6",
   "metadata": {},
   "outputs": [
    {
     "name": "stdout",
     "output_type": "stream",
     "text": [
      "5\n",
      "7\n",
      "8\n",
      "9\n",
      "10\n",
      "11\n",
      "12\n",
      "13\n",
      "14\n",
      "15\n",
      "16\n",
      "17\n",
      "18\n",
      "19\n",
      "20\n",
      "21\n",
      "22\n",
      "23\n",
      "24\n",
      "25\n",
      "26\n",
      "27\n",
      "28\n",
      "29\n",
      "30\n",
      "31\n",
      "32\n",
      "33\n",
      "34\n",
      "35\n",
      "36\n",
      "37\n",
      "38\n",
      "39\n",
      "40\n",
      "41\n",
      "42\n",
      "43\n",
      "44\n",
      "45\n",
      "46\n",
      "47\n",
      "48\n",
      "49\n"
     ]
    }
   ],
   "source": [
    "for i in range(2,50):\n",
    "    for j in range(2,(i**1//2)+1):\n",
    "        # print(i,j)\n",
    "        if i%j==0:\n",
    "            # print(i)\n",
    "            pass\n",
    "        else :\n",
    "            print(i)\n",
    "            break"
   ]
  },
  {
   "cell_type": "markdown",
   "id": "95cea0c2-3270-4f6e-ad0d-0f966043114e",
   "metadata": {},
   "source": [
    "34. Split a list into chunks of size `n`."
   ]
  },
  {
   "cell_type": "code",
   "execution_count": 33,
   "id": "457472f7-9e93-4547-8ef6-5aaca0ec5b5c",
   "metadata": {},
   "outputs": [
    {
     "name": "stdout",
     "output_type": "stream",
     "text": [
      "[1, 2]\n",
      "[3, 4]\n",
      "[5, 6]\n"
     ]
    }
   ],
   "source": [
    "def split_in_chunks(arr:list,n:int):\n",
    "    if len(arr)%n!=0:\n",
    "    # if isinstance(len(arr)n,float):\n",
    "        return \"Equal split not possible\"\n",
    "    for i in range(0,len(arr),n):\n",
    "        print(arr[i:i+n])\n",
    "\n",
    "split_in_chunks([1,2,3,4,5,6],2)"
   ]
  },
  {
   "cell_type": "markdown",
   "id": "3d1db3ca-abe7-41da-a451-ac082f8ac9ec",
   "metadata": {},
   "source": [
    "35. Find the second largest number in a list."
   ]
  },
  {
   "cell_type": "code",
   "execution_count": 37,
   "id": "e9df7ff0-b767-4daf-bddd-241811696b82",
   "metadata": {},
   "outputs": [
    {
     "data": {
      "text/plain": [
       "8"
      ]
     },
     "execution_count": 37,
     "metadata": {},
     "output_type": "execute_result"
    }
   ],
   "source": [
    "l=[1,9,8,2,4,5,6]\n",
    "l.sort()\n",
    "l[-2]"
   ]
  },
  {
   "cell_type": "markdown",
   "id": "373c762e-f430-4244-a8b1-12ea8ad01451",
   "metadata": {},
   "source": [
    "36. Replace every element in a list with its square."
   ]
  },
  {
   "cell_type": "code",
   "execution_count": 38,
   "id": "0f10a083-2758-4abf-af21-3dc43f133971",
   "metadata": {},
   "outputs": [
    {
     "data": {
      "text/plain": [
       "[1, 4, 16, 25, 36, 64, 81]"
      ]
     },
     "execution_count": 38,
     "metadata": {},
     "output_type": "execute_result"
    }
   ],
   "source": [
    "[x**2 for x in l]"
   ]
  },
  {
   "cell_type": "markdown",
   "id": "420cef51-23fa-4cbd-8ba9-c3f58b24dc23",
   "metadata": {},
   "source": [
    "37. Convert a list to a dictionary where list elements become keys and their indices become values."
   ]
  },
  {
   "cell_type": "code",
   "execution_count": 39,
   "id": "07de20de-af15-4399-a86c-ccdef2fa4d26",
   "metadata": {},
   "outputs": [
    {
     "data": {
      "text/plain": [
       "{0: 1, 1: 2, 2: 4, 3: 5, 4: 6, 5: 8, 6: 9}"
      ]
     },
     "execution_count": 39,
     "metadata": {},
     "output_type": "execute_result"
    }
   ],
   "source": [
    "{ i:v for i,v in enumerate(l)}"
   ]
  },
  {
   "cell_type": "markdown",
   "id": "3b5a61b6-1a79-4ae6-be7c-ec0a72c91858",
   "metadata": {},
   "source": [
    "38. Shuffle the elements of a list randomly."
   ]
  },
  {
   "cell_type": "code",
   "execution_count": 41,
   "id": "cdb5431f-5583-4bdb-980b-3e5980d5d767",
   "metadata": {},
   "outputs": [
    {
     "data": {
      "text/plain": [
       "[9, 2, 1, 8, 6, 4, 5]"
      ]
     },
     "execution_count": 41,
     "metadata": {},
     "output_type": "execute_result"
    }
   ],
   "source": [
    "import random\n",
    "random.shuffle(l)\n",
    "l"
   ]
  },
  {
   "cell_type": "markdown",
   "id": "f94db50c-65f0-4fc1-8b9e-e16d66d1ef1b",
   "metadata": {},
   "source": [
    "39. Create a list of the first 10 factorial numbers."
   ]
  },
  {
   "cell_type": "code",
   "execution_count": 76,
   "id": "cc142869-3a72-4fd3-ab4a-1c5026748d36",
   "metadata": {},
   "outputs": [],
   "source": [
    "def factorial(n):\n",
    "    if n==1:\n",
    "        return 1\n",
    "    else :\n",
    "        fac=factorial(n-1)\n",
    "        return fac*n"
   ]
  },
  {
   "cell_type": "code",
   "execution_count": 80,
   "id": "2e1b895e-2818-401f-8a51-f175940aeb69",
   "metadata": {},
   "outputs": [
    {
     "data": {
      "text/plain": [
       "120"
      ]
     },
     "execution_count": 80,
     "metadata": {},
     "output_type": "execute_result"
    }
   ],
   "source": [
    "factorial(5)"
   ]
  },
  {
   "cell_type": "markdown",
   "id": "3aed1bb8-2c89-4a59-8a12-385ff69fd214",
   "metadata": {},
   "source": [
    "40. Check if two lists have at least one element in common."
   ]
  },
  {
   "cell_type": "code",
   "execution_count": 44,
   "id": "a7809751-3fb1-4cba-a58b-d4e5017e5c4d",
   "metadata": {},
   "outputs": [
    {
     "data": {
      "text/plain": [
       "True"
      ]
     },
     "execution_count": 44,
     "metadata": {},
     "output_type": "execute_result"
    }
   ],
   "source": [
    "l2=[1,2,3,5]\n",
    "any([True for x in l if x in l2])"
   ]
  },
  {
   "cell_type": "markdown",
   "id": "c01d52e6-fc69-4c21-b107-dc4eb66a9cf8",
   "metadata": {},
   "source": [
    "41. Remove all elements from a list."
   ]
  },
  {
   "cell_type": "code",
   "execution_count": 75,
   "id": "306bd048-618b-4f60-8a68-fc9c30ebd234",
   "metadata": {},
   "outputs": [],
   "source": [
    "l1.clear()"
   ]
  },
  {
   "cell_type": "markdown",
   "id": "d8fff7d3-a02e-4eb0-985c-17223fad3404",
   "metadata": {},
   "source": [
    "42. Replace negative numbers in a list with 0."
   ]
  },
  {
   "cell_type": "code",
   "execution_count": 46,
   "id": "346cfccf-fac3-42dc-9022-ef7b29023179",
   "metadata": {},
   "outputs": [
    {
     "data": {
      "text/plain": [
       "[9, 2, 1, 8, 6, 4, 5]"
      ]
     },
     "execution_count": 46,
     "metadata": {},
     "output_type": "execute_result"
    }
   ],
   "source": [
    "[0 if x<=0 else x  for x in l]"
   ]
  },
  {
   "cell_type": "markdown",
   "id": "65b2d6dc-236a-4251-88e6-5ee0064af952",
   "metadata": {},
   "source": [
    "43. Convert a string into a list of words."
   ]
  },
  {
   "cell_type": "code",
   "execution_count": 52,
   "id": "d5feb784-f976-43be-929f-5a4a0a2ea8f4",
   "metadata": {},
   "outputs": [
    {
     "data": {
      "text/plain": [
       "['hi', 'how', 'are', 'you']"
      ]
     },
     "execution_count": 52,
     "metadata": {},
     "output_type": "execute_result"
    }
   ],
   "source": [
    "\"hi how are you\".split()"
   ]
  },
  {
   "cell_type": "markdown",
   "id": "d9e1f8b0-7a90-4d10-8142-164fa2fd5017",
   "metadata": {},
   "source": [
    "44. Convert a list of words into a string."
   ]
  },
  {
   "cell_type": "code",
   "execution_count": 53,
   "id": "b81a42cf-b508-4d48-ab52-e051c25a18f9",
   "metadata": {},
   "outputs": [
    {
     "data": {
      "text/plain": [
       "'hi how are you'"
      ]
     },
     "execution_count": 53,
     "metadata": {},
     "output_type": "execute_result"
    }
   ],
   "source": [
    "\" \".join(\"hi how are you\".split())"
   ]
  },
  {
   "cell_type": "markdown",
   "id": "7e53894a-beef-4c7f-a5d9-f4df34f327da",
   "metadata": {},
   "source": [
    "45. Create a list of the first `n` powers of 2."
   ]
  },
  {
   "cell_type": "code",
   "execution_count": 54,
   "id": "1da3af98-b2a2-43b6-aaa2-7eb49ffa4e0d",
   "metadata": {},
   "outputs": [
    {
     "data": {
      "text/plain": [
       "[0, 1, 4, 9, 16, 25, 36, 49, 64, 81, 100]"
      ]
     },
     "execution_count": 54,
     "metadata": {},
     "output_type": "execute_result"
    }
   ],
   "source": [
    "n=10\n",
    "[x**2 for x in range(0,n+1)]"
   ]
  },
  {
   "cell_type": "markdown",
   "id": "7d473217-169e-4b68-b9f7-bd981029541a",
   "metadata": {},
   "source": [
    "46. Find the longest string in a list of strings."
   ]
  },
  {
   "cell_type": "code",
   "execution_count": 57,
   "id": "10b5bde4-f46d-4c69-95ac-ca0f4ffa4560",
   "metadata": {},
   "outputs": [
    {
     "data": {
      "text/plain": [
       "'aree'"
      ]
     },
     "execution_count": 57,
     "metadata": {},
     "output_type": "execute_result"
    }
   ],
   "source": [
    "sl=\"hi how aree you\".split()\n",
    "max(sl,key=len)"
   ]
  },
  {
   "cell_type": "markdown",
   "id": "5f06f4d0-3c48-461d-9d3d-f5583ae4eed4",
   "metadata": {},
   "source": [
    "47. Find the shortest string in a list of strings."
   ]
  },
  {
   "cell_type": "code",
   "execution_count": 58,
   "id": "cbebd868-f13c-4326-8a73-fbc284b54bf3",
   "metadata": {},
   "outputs": [
    {
     "data": {
      "text/plain": [
       "'hi'"
      ]
     },
     "execution_count": 58,
     "metadata": {},
     "output_type": "execute_result"
    }
   ],
   "source": [
    "min(sl,key=len)"
   ]
  },
  {
   "cell_type": "markdown",
   "id": "d70878a5-cb59-48ce-bbf8-65371136bf8c",
   "metadata": {},
   "source": [
    "48. Create a list of the first `n` triangular numbers."
   ]
  },
  {
   "cell_type": "code",
   "execution_count": 59,
   "id": "68afcf95-bf0e-4eb7-a5c3-ce26fa559754",
   "metadata": {},
   "outputs": [
    {
     "data": {
      "text/plain": [
       "[1, 3, 6, 10, 15, 21, 28, 36, 45, 55]"
      ]
     },
     "execution_count": 59,
     "metadata": {},
     "output_type": "execute_result"
    }
   ],
   "source": [
    "def generate_triangular_numbers(n):\n",
    "    return [(i * (i + 1)) // 2 for i in range(1, n + 1)]\n",
    "generate_triangular_numbers(10)"
   ]
  },
  {
   "cell_type": "markdown",
   "id": "e24563f6-75d7-4dfe-b71e-4a6ad2f52d88",
   "metadata": {},
   "source": [
    "49. Check if a list contains another list as a subsequence."
   ]
  },
  {
   "cell_type": "code",
   "execution_count": 62,
   "id": "9e52a3a2-03b4-43aa-ac82-587892afc89f",
   "metadata": {},
   "outputs": [
    {
     "name": "stdout",
     "output_type": "stream",
     "text": [
      "False\n",
      "False\n",
      "False\n",
      "False\n",
      "False\n",
      "False\n",
      "False\n"
     ]
    }
   ],
   "source": [
    "for i in l :\n",
    "    if isinstance(i,list):\n",
    "        print(True)\n",
    "    else :\n",
    "        print(False)"
   ]
  },
  {
   "cell_type": "markdown",
   "id": "89d6b164-d974-4adb-be1d-fce892dd51d0",
   "metadata": {
    "tags": []
   },
   "source": [
    "50. Swap two elements in a list by their indices."
   ]
  },
  {
   "cell_type": "code",
   "execution_count": 84,
   "id": "92d1e402-dd8a-488a-a906-b4a93a064942",
   "metadata": {},
   "outputs": [
    {
     "name": "stdout",
     "output_type": "stream",
     "text": [
      "yes\n"
     ]
    }
   ],
   "source": [
    "if (\"X\" in \"XUY\"):\n",
    "    print(\"yes\")"
   ]
  },
  {
   "cell_type": "markdown",
   "id": "0674ec93-b383-4d77-b50f-19c9ccd3d28c",
   "metadata": {},
   "source": [
    "### Tuple Based Practice Problem :"
   ]
  },
  {
   "cell_type": "markdown",
   "id": "a93413d4-cf7a-412f-8fe9-4e72f08e6828",
   "metadata": {},
   "source": [
    "1. Create a tuple with integers from 1 to 5."
   ]
  },
  {
   "cell_type": "code",
   "execution_count": 65,
   "id": "5416da32-19d5-4fce-90d1-30df559546e2",
   "metadata": {},
   "outputs": [
    {
     "data": {
      "text/plain": [
       "(1, 2, 3, 4, 5)"
      ]
     },
     "execution_count": 65,
     "metadata": {},
     "output_type": "execute_result"
    }
   ],
   "source": [
    "t=tuple(range(1,6))\n",
    "t"
   ]
  },
  {
   "cell_type": "markdown",
   "id": "d39cc509-26d7-4459-91e1-ebe14928e861",
   "metadata": {},
   "source": [
    "2. Access the third element of a tuple."
   ]
  },
  {
   "cell_type": "code",
   "execution_count": 66,
   "id": "11e23c6e-4f6d-4c43-bb34-a4d82d4bab32",
   "metadata": {},
   "outputs": [
    {
     "data": {
      "text/plain": [
       "3"
      ]
     },
     "execution_count": 66,
     "metadata": {},
     "output_type": "execute_result"
    }
   ],
   "source": [
    "t[2]"
   ]
  },
  {
   "cell_type": "markdown",
   "id": "1537d241-cc4d-47d5-846b-16a00292c28a",
   "metadata": {},
   "source": [
    "3. Find the length of a tuple without using the `len()` function."
   ]
  },
  {
   "cell_type": "code",
   "execution_count": 67,
   "id": "d7cd8119-ff8e-4cb7-98dd-7264fa3013ab",
   "metadata": {},
   "outputs": [
    {
     "data": {
      "text/plain": [
       "5"
      ]
     },
     "execution_count": 67,
     "metadata": {},
     "output_type": "execute_result"
    }
   ],
   "source": [
    "l=0\n",
    "for i in t:\n",
    "    l+=1\n",
    "l"
   ]
  },
  {
   "cell_type": "markdown",
   "id": "f28f8db3-27d5-4a2c-9070-f868b8943f15",
   "metadata": {},
   "source": [
    "4. Count the occurrences of an element in a tuple."
   ]
  },
  {
   "cell_type": "code",
   "execution_count": 68,
   "id": "bb490840-abfa-4a35-b251-29226ca9d2ea",
   "metadata": {},
   "outputs": [
    {
     "data": {
      "text/plain": [
       "1"
      ]
     },
     "execution_count": 68,
     "metadata": {},
     "output_type": "execute_result"
    }
   ],
   "source": [
    "x=1\n",
    "count=0\n",
    "for i in t:\n",
    "    if x==i:\n",
    "        count+=1\n",
    "count"
   ]
  },
  {
   "cell_type": "markdown",
   "id": "ae3c5067-0a36-4f77-ab19-31de3def5efc",
   "metadata": {},
   "source": [
    "5. Find the index of the first occurrence of an element in a tuple."
   ]
  },
  {
   "cell_type": "code",
   "execution_count": 70,
   "id": "724d0343-a389-469e-9d3a-52d9c314e530",
   "metadata": {},
   "outputs": [
    {
     "data": {
      "text/plain": [
       "2"
      ]
     },
     "execution_count": 70,
     "metadata": {},
     "output_type": "execute_result"
    }
   ],
   "source": [
    "t.index(3)"
   ]
  },
  {
   "cell_type": "markdown",
   "id": "2e6e19b6-629a-4c7a-89b8-3bbcd3e41abf",
   "metadata": {},
   "source": [
    "6. Check if an element exists in a tuple."
   ]
  },
  {
   "cell_type": "code",
   "execution_count": 71,
   "id": "1cbbec60-858e-4193-8284-841f8e3a99e1",
   "metadata": {},
   "outputs": [
    {
     "data": {
      "text/plain": [
       "True"
      ]
     },
     "execution_count": 71,
     "metadata": {},
     "output_type": "execute_result"
    }
   ],
   "source": [
    "3 in t"
   ]
  },
  {
   "cell_type": "markdown",
   "id": "fe164808-56e0-4b67-be52-58c8da9f0a53",
   "metadata": {},
   "source": [
    "7. Convert a tuple to a list."
   ]
  },
  {
   "cell_type": "code",
   "execution_count": 72,
   "id": "54189e3d-ec20-40c0-8db6-4116585e9766",
   "metadata": {},
   "outputs": [
    {
     "data": {
      "text/plain": [
       "[1, 2, 3, 4, 5]"
      ]
     },
     "execution_count": 72,
     "metadata": {},
     "output_type": "execute_result"
    }
   ],
   "source": [
    "list(t)"
   ]
  },
  {
   "cell_type": "markdown",
   "id": "19fc35a2-8711-483e-8022-0db68ea9b51c",
   "metadata": {},
   "source": [
    "8. Convert a list to a tuple."
   ]
  },
  {
   "cell_type": "code",
   "execution_count": 77,
   "id": "b59f8d14-cde8-4a6c-983e-d31ef82c0a49",
   "metadata": {},
   "outputs": [
    {
     "data": {
      "text/plain": [
       "(1, 2, 3, 5)"
      ]
     },
     "execution_count": 77,
     "metadata": {},
     "output_type": "execute_result"
    }
   ],
   "source": [
    "tuple(l2)"
   ]
  },
  {
   "cell_type": "markdown",
   "id": "74f546f2-ca4d-48fc-a01a-ec048631f7e6",
   "metadata": {},
   "source": [
    "9. Unpack the elements of a tuple into variables."
   ]
  },
  {
   "cell_type": "code",
   "execution_count": 78,
   "id": "7df297d3-d110-42eb-bb5a-7122031ded46",
   "metadata": {},
   "outputs": [
    {
     "name": "stdout",
     "output_type": "stream",
     "text": [
      "1 2 3 5\n"
     ]
    }
   ],
   "source": [
    "a,b,c,d=tuple(l2)\n",
    "print(a,b,c,d)"
   ]
  },
  {
   "cell_type": "markdown",
   "id": "6ebf19a8-e1ea-41ff-b91e-a5a62e4cb0fb",
   "metadata": {},
   "source": [
    "10. Create a tuple of even numbers from 1 to 10."
   ]
  },
  {
   "cell_type": "code",
   "execution_count": 82,
   "id": "c6aaa9eb-3c71-4597-9973-dcf25703c2a5",
   "metadata": {},
   "outputs": [
    {
     "data": {
      "text/plain": [
       "(2, 4, 6, 8, 10)"
      ]
     },
     "execution_count": 82,
     "metadata": {},
     "output_type": "execute_result"
    }
   ],
   "source": [
    "tuple([x for x in range(1,11) if x%2==0])"
   ]
  },
  {
   "cell_type": "markdown",
   "id": "31f55bc3-ecef-4d9b-b92c-7fdca2d77f3b",
   "metadata": {},
   "source": [
    "11. Create a tuple of odd numbers from 1 to 10."
   ]
  },
  {
   "cell_type": "code",
   "execution_count": 83,
   "id": "8f72ac77-0087-4ca0-94d9-88362b373d48",
   "metadata": {},
   "outputs": [
    {
     "data": {
      "text/plain": [
       "(1, 3, 5, 7, 9)"
      ]
     },
     "execution_count": 83,
     "metadata": {},
     "output_type": "execute_result"
    }
   ],
   "source": [
    "tuple([x for x in range(1,11) if x%2!=0])"
   ]
  },
  {
   "cell_type": "markdown",
   "id": "2619d312-d79c-4b3c-8ed5-b224d1bfb1cd",
   "metadata": {},
   "source": [
    "12. Concatenate two tuples."
   ]
  },
  {
   "cell_type": "code",
   "execution_count": 90,
   "id": "efa1df6d-0ddd-4b01-abb0-4f07a5b75d69",
   "metadata": {},
   "outputs": [
    {
     "data": {
      "text/plain": [
       "(3, 4, 5, 5, 1, 2, 3, 4, 5)"
      ]
     },
     "execution_count": 90,
     "metadata": {},
     "output_type": "execute_result"
    }
   ],
   "source": [
    "t2=3,4,5,5\n",
    "t2+t"
   ]
  },
  {
   "cell_type": "markdown",
   "id": "5f32d613-32bc-4825-9950-a79d7712c0a1",
   "metadata": {},
   "source": [
    "13. Repeat a tuple three times."
   ]
  },
  {
   "cell_type": "code",
   "execution_count": 91,
   "id": "0f0839ed-b3b4-40a2-b01c-84b48860143d",
   "metadata": {},
   "outputs": [
    {
     "data": {
      "text/plain": [
       "(1, 2, 3, 4, 5, 1, 2, 3, 4, 5, 1, 2, 3, 4, 5)"
      ]
     },
     "execution_count": 91,
     "metadata": {},
     "output_type": "execute_result"
    }
   ],
   "source": [
    "t*3"
   ]
  },
  {
   "cell_type": "markdown",
   "id": "9574ad6e-6c7b-4b24-b403-1fbef7e1602d",
   "metadata": {},
   "source": [
    "14. Check if a tuple is empty."
   ]
  },
  {
   "cell_type": "code",
   "execution_count": 94,
   "id": "19128933-a3bc-4276-b01d-e83e6f85f05e",
   "metadata": {},
   "outputs": [
    {
     "data": {
      "text/plain": [
       "False"
      ]
     },
     "execution_count": 94,
     "metadata": {},
     "output_type": "execute_result"
    }
   ],
   "source": [
    "len(t)==0"
   ]
  },
  {
   "cell_type": "markdown",
   "id": "137aad25-4939-4190-a028-0d9dd7b6dc24",
   "metadata": {},
   "source": [
    "15. Create a nested tuple."
   ]
  },
  {
   "cell_type": "code",
   "execution_count": 95,
   "id": "637b4666-8200-4140-8657-c964b5550ee6",
   "metadata": {},
   "outputs": [],
   "source": [
    "nt=((1,2,3),(4,5,6))"
   ]
  },
  {
   "cell_type": "markdown",
   "id": "ee89919d-8364-4a35-ba5f-0f439830701a",
   "metadata": {},
   "source": [
    "16. Access the first element of a nested tuple."
   ]
  },
  {
   "cell_type": "code",
   "execution_count": 96,
   "id": "0e30c397-9def-4a40-a9fd-f1d82454ce68",
   "metadata": {},
   "outputs": [
    {
     "data": {
      "text/plain": [
       "(1, 2, 3)"
      ]
     },
     "execution_count": 96,
     "metadata": {},
     "output_type": "execute_result"
    }
   ],
   "source": [
    "nt[0]"
   ]
  },
  {
   "cell_type": "markdown",
   "id": "488e8562-6a61-4588-8aba-771b1a92c18c",
   "metadata": {},
   "source": [
    "17. Create a tuple with a single element."
   ]
  },
  {
   "cell_type": "code",
   "execution_count": 98,
   "id": "7f013f28-7cbf-4067-840a-3b6f8c8a1a97",
   "metadata": {},
   "outputs": [
    {
     "data": {
      "text/plain": [
       "(1,)"
      ]
     },
     "execution_count": 98,
     "metadata": {},
     "output_type": "execute_result"
    }
   ],
   "source": [
    "ot=1,\n",
    "ot"
   ]
  },
  {
   "cell_type": "markdown",
   "id": "0ef6bc53-4aa4-4edc-a8ec-f4182719aee4",
   "metadata": {},
   "source": [
    "18. Compare two tuples."
   ]
  },
  {
   "cell_type": "code",
   "execution_count": 100,
   "id": "b72b243d-caf5-4423-a8f8-db3c66a838bc",
   "metadata": {},
   "outputs": [
    {
     "data": {
      "text/plain": [
       "False"
      ]
     },
     "execution_count": 100,
     "metadata": {},
     "output_type": "execute_result"
    }
   ],
   "source": [
    "t==t2"
   ]
  },
  {
   "cell_type": "markdown",
   "id": "e198a16b-a0d4-4451-884a-aaa2802db204",
   "metadata": {},
   "source": [
    "19. Delete a tuple."
   ]
  },
  {
   "cell_type": "code",
   "execution_count": 101,
   "id": "75a916e6-cfab-434a-bfbc-c1385e3ba569",
   "metadata": {},
   "outputs": [],
   "source": [
    "del t"
   ]
  },
  {
   "cell_type": "markdown",
   "id": "48803377-aa3e-4fbb-b345-40509b019ab4",
   "metadata": {},
   "source": [
    "20. Slice a tuple."
   ]
  },
  {
   "cell_type": "code",
   "execution_count": 103,
   "id": "a6d2f92e-2fe3-462c-96c7-83fd436385f1",
   "metadata": {},
   "outputs": [
    {
     "data": {
      "text/plain": [
       "(4, 5)"
      ]
     },
     "execution_count": 103,
     "metadata": {},
     "output_type": "execute_result"
    }
   ],
   "source": [
    "t2[1:3]"
   ]
  },
  {
   "cell_type": "markdown",
   "id": "83cdf750-8dbd-4e8c-bbf8-5435d3e0097a",
   "metadata": {},
   "source": [
    "21. Find the maximum value in a tuple."
   ]
  },
  {
   "cell_type": "code",
   "execution_count": 104,
   "id": "9a6a09a5-0031-4164-868c-77d13e5fc66b",
   "metadata": {},
   "outputs": [
    {
     "data": {
      "text/plain": [
       "5"
      ]
     },
     "execution_count": 104,
     "metadata": {},
     "output_type": "execute_result"
    }
   ],
   "source": [
    "max(t2)"
   ]
  },
  {
   "cell_type": "markdown",
   "id": "cfbdab10-1ef9-4c8e-ad23-fa43a889ae22",
   "metadata": {},
   "source": [
    "22. Find the minimum value in a tuple."
   ]
  },
  {
   "cell_type": "code",
   "execution_count": 105,
   "id": "d10d4a46-5d9c-4fab-b362-e6aad6df61cf",
   "metadata": {},
   "outputs": [
    {
     "data": {
      "text/plain": [
       "3"
      ]
     },
     "execution_count": 105,
     "metadata": {},
     "output_type": "execute_result"
    }
   ],
   "source": [
    "min(t2)"
   ]
  },
  {
   "cell_type": "markdown",
   "id": "e29f80fa-86fd-4c21-a153-d0e5249284fb",
   "metadata": {},
   "source": [
    "23. Convert a string to a tuple of characters."
   ]
  },
  {
   "cell_type": "code",
   "execution_count": 106,
   "id": "2d66f05d-32ba-4cae-9e27-2a3167fbebd2",
   "metadata": {},
   "outputs": [
    {
     "data": {
      "text/plain": [
       "('A', 'b', ' ', 'd', 'f', ' ', 'd', 's')"
      ]
     },
     "execution_count": 106,
     "metadata": {},
     "output_type": "execute_result"
    }
   ],
   "source": [
    "tuple(\"Ab df ds\")"
   ]
  },
  {
   "cell_type": "markdown",
   "id": "4c1a899a-d98b-415c-8a15-46c6c0e657d3",
   "metadata": {},
   "source": [
    "24. Convert a tuple of characters to a string."
   ]
  },
  {
   "cell_type": "code",
   "execution_count": 107,
   "id": "49ed2302-8eb2-48d0-a470-be414d849ec7",
   "metadata": {},
   "outputs": [
    {
     "data": {
      "text/plain": [
       "'Ab df ds'"
      ]
     },
     "execution_count": 107,
     "metadata": {},
     "output_type": "execute_result"
    }
   ],
   "source": [
    "\"\".join(tuple(\"Ab df ds\"))"
   ]
  },
  {
   "cell_type": "markdown",
   "id": "3d2eccf7-2738-47d8-9473-7dbbf97f9ad6",
   "metadata": {},
   "source": [
    "25. Create a tuple from multiple data types."
   ]
  },
  {
   "cell_type": "code",
   "execution_count": 108,
   "id": "c639692f-3880-4ba5-816f-233f0c10859b",
   "metadata": {},
   "outputs": [],
   "source": [
    "mt=(\"Adf\",1232,1+2j,1.3)"
   ]
  },
  {
   "cell_type": "markdown",
   "id": "c2e1fbff-a002-4b60-80a8-b19baa2e050e",
   "metadata": {},
   "source": [
    "26. Check if two tuples are identical."
   ]
  },
  {
   "cell_type": "code",
   "execution_count": 109,
   "id": "6ee4c213-63b8-420e-9daa-845fc4dffba4",
   "metadata": {},
   "outputs": [
    {
     "data": {
      "text/plain": [
       "False"
      ]
     },
     "execution_count": 109,
     "metadata": {},
     "output_type": "execute_result"
    }
   ],
   "source": [
    "mt==t2"
   ]
  },
  {
   "cell_type": "markdown",
   "id": "b7cbc59f-b838-40a1-916e-57dac45efd4e",
   "metadata": {},
   "source": [
    "27. Sort the elements of a tuple."
   ]
  },
  {
   "cell_type": "code",
   "execution_count": 111,
   "id": "aec80411-126f-4a59-81dd-dc412a4a09d1",
   "metadata": {},
   "outputs": [
    {
     "data": {
      "text/plain": [
       "[3, 4, 5, 5]"
      ]
     },
     "execution_count": 111,
     "metadata": {},
     "output_type": "execute_result"
    }
   ],
   "source": [
    "sorted(t2)"
   ]
  },
  {
   "cell_type": "markdown",
   "id": "3cf3cc10-ffe3-4e0e-b8ff-f9bab2af5511",
   "metadata": {},
   "source": [
    "28. Convert a tuple of integers to a tuple of strings."
   ]
  },
  {
   "cell_type": "code",
   "execution_count": 113,
   "id": "89d0b5b1-a5f0-479f-8fc7-43f38207d9f8",
   "metadata": {},
   "outputs": [
    {
     "data": {
      "text/plain": [
       "('3', '4', '5', '5')"
      ]
     },
     "execution_count": 113,
     "metadata": {},
     "output_type": "execute_result"
    }
   ],
   "source": [
    "tuple([str(x) for x in t2])"
   ]
  },
  {
   "cell_type": "markdown",
   "id": "285b9ab7-7145-4152-9bb5-16289f47a3de",
   "metadata": {},
   "source": [
    "29. Convert a tuple of strings to a tuple of integers."
   ]
  },
  {
   "cell_type": "code",
   "execution_count": 114,
   "id": "2dd836f1-4d3f-485a-b3b6-10db28864fdc",
   "metadata": {},
   "outputs": [
    {
     "data": {
      "text/plain": [
       "(3, 4, 5, 5)"
      ]
     },
     "execution_count": 114,
     "metadata": {},
     "output_type": "execute_result"
    }
   ],
   "source": [
    "tuple([int(x) for x in tuple([str(x) for x in t2])])"
   ]
  },
  {
   "cell_type": "markdown",
   "id": "b1908ec2-3f63-4f30-ad47-ea40b1b26701",
   "metadata": {},
   "source": [
    "30. Merge two tuples."
   ]
  },
  {
   "cell_type": "code",
   "execution_count": 115,
   "id": "c6c0dbc2-28d9-4ee4-a814-771e2fb5736d",
   "metadata": {},
   "outputs": [
    {
     "data": {
      "text/plain": [
       "(3, 4, 5, 5, 'Adf', 1232, (1+2j), 1.3)"
      ]
     },
     "execution_count": 115,
     "metadata": {},
     "output_type": "execute_result"
    }
   ],
   "source": [
    "t2+mt"
   ]
  },
  {
   "cell_type": "markdown",
   "id": "7e74c6a8-babc-4743-ba93-ac74d80a86dd",
   "metadata": {},
   "source": [
    "31. Flatten a nested tuple."
   ]
  },
  {
   "cell_type": "code",
   "execution_count": 16,
   "id": "d648a009-5b14-45a2-af60-45c7c6ed3076",
   "metadata": {},
   "outputs": [
    {
     "data": {
      "text/plain": [
       "[12, 2, 3, 4, 4, 1, 2, 3, 4, 5]"
      ]
     },
     "execution_count": 16,
     "metadata": {},
     "output_type": "execute_result"
    }
   ],
   "source": [
    "def flatten(x):\n",
    "    if not isinstance(x,tuple):\n",
    "        return [x]\n",
    "    flatten_list=[]\n",
    "    for i in range(len(x)):\n",
    "        flat=flatten(x[i])\n",
    "        flatten_list.extend(flat)\n",
    "        # break\n",
    "    return flatten_list\n",
    "flatten((12,(2,3,4),4,(1,2,(3,4,5))))"
   ]
  },
  {
   "cell_type": "markdown",
   "id": "18d19142-68de-4470-9c90-3030dfdecd1d",
   "metadata": {},
   "source": [
    "32. Create a tuple of the first 5 prime numbers."
   ]
  },
  {
   "cell_type": "code",
   "execution_count": 47,
   "id": "8e76f930-283e-43b8-9deb-3357a0b000c2",
   "metadata": {},
   "outputs": [
    {
     "data": {
      "text/plain": [
       "[2, 3, 5, 7, 11]"
      ]
     },
     "execution_count": 47,
     "metadata": {},
     "output_type": "execute_result"
    }
   ],
   "source": [
    "x=5\n",
    "prime=[]\n",
    "for n in range(2,x*100):\n",
    "    if n==2:\n",
    "        prime.append(2)\n",
    "        continue\n",
    "    for i in range(2,n):\n",
    "        if n%i==0:\n",
    "            break\n",
    "    else :\n",
    "        prime.append(n)\n",
    "    if len(prime)==5:\n",
    "        break\n",
    "prime"
   ]
  },
  {
   "cell_type": "markdown",
   "id": "8b4e3b50-1d1b-4349-9780-55137679f2e2",
   "metadata": {},
   "source": [
    "33. Check if a tuple is a palindrome."
   ]
  },
  {
   "cell_type": "code",
   "execution_count": 57,
   "id": "046b6434-c324-4c8d-95af-0b705a7a46ae",
   "metadata": {},
   "outputs": [
    {
     "name": "stdout",
     "output_type": "stream",
     "text": [
      "True\n"
     ]
    }
   ],
   "source": [
    "a=(1,2,2,1)\n",
    "s=0\n",
    "e=len(a)-1\n",
    "while (s<e):\n",
    "    if a[s]!=a[e]:\n",
    "        print(False)\n",
    "        break\n",
    "    s+=1\n",
    "    e-=1\n",
    "else :\n",
    "    print(True)"
   ]
  },
  {
   "cell_type": "markdown",
   "id": "f2f8c301-d1a0-4f91-9990-ddcfee86ec07",
   "metadata": {},
   "source": [
    "34. Create a tuple of squares of numbers from 1 to 5."
   ]
  },
  {
   "cell_type": "code",
   "execution_count": 59,
   "id": "83fbe2ae-56ce-4168-bb00-e2b9cacccb55",
   "metadata": {},
   "outputs": [
    {
     "data": {
      "text/plain": [
       "(1, 4, 9, 16, 25)"
      ]
     },
     "execution_count": 59,
     "metadata": {},
     "output_type": "execute_result"
    }
   ],
   "source": [
    "tuple(x**2 for x in range(1,6))"
   ]
  },
  {
   "cell_type": "markdown",
   "id": "d931d107-b9ac-4e35-b179-23e4e4c3a7d2",
   "metadata": {},
   "source": [
    "35. Filter out all even numbers from a tuple."
   ]
  },
  {
   "cell_type": "code",
   "execution_count": 60,
   "id": "e828bfe8-9bec-4831-aaed-e9e3d13ed239",
   "metadata": {},
   "outputs": [
    {
     "data": {
      "text/plain": [
       "[4, 16]"
      ]
     },
     "execution_count": 60,
     "metadata": {},
     "output_type": "execute_result"
    }
   ],
   "source": [
    "[i for i in tuple(x**2 for x in range(1,6)) if i%2==0]"
   ]
  },
  {
   "cell_type": "markdown",
   "id": "2f6c6a0b-6ca1-4a6f-80b8-0352bad31aea",
   "metadata": {},
   "source": [
    "36. Multiply all elements in a tuple by 2."
   ]
  },
  {
   "cell_type": "code",
   "execution_count": 61,
   "id": "58124e6c-aaf6-4973-8155-c8ba11b86f4c",
   "metadata": {},
   "outputs": [
    {
     "data": {
      "text/plain": [
       "(2, 4, 6, 8, 10)"
      ]
     },
     "execution_count": 61,
     "metadata": {},
     "output_type": "execute_result"
    }
   ],
   "source": [
    "tuple(x*2 for x in range(1,6))"
   ]
  },
  {
   "cell_type": "markdown",
   "id": "93a4aba1-21bc-46cd-ac7d-33c53c1944a4",
   "metadata": {},
   "source": [
    "37. Create a tuple of random numbers."
   ]
  },
  {
   "cell_type": "code",
   "execution_count": 70,
   "id": "ac37efdb-0b2e-42df-9f07-54f127b65225",
   "metadata": {},
   "outputs": [
    {
     "data": {
      "text/plain": [
       "(6, 1, 10, 6, 8, 4, 3, 8, 9, 9)"
      ]
     },
     "execution_count": 70,
     "metadata": {},
     "output_type": "execute_result"
    }
   ],
   "source": [
    "from random import randint\n",
    "\n",
    "x=tuple(randint(1,10) for x in range(10))\n",
    "x"
   ]
  },
  {
   "cell_type": "markdown",
   "id": "aa0eeb04-5265-4893-a66b-fd8afb6ec023",
   "metadata": {},
   "source": [
    "38. Check if a tuple is sorted."
   ]
  },
  {
   "cell_type": "code",
   "execution_count": 95,
   "id": "e6c510cd-6e7f-492e-a771-3f95d0d78019",
   "metadata": {},
   "outputs": [
    {
     "name": "stdout",
     "output_type": "stream",
     "text": [
      "sorted\n"
     ]
    }
   ],
   "source": [
    "x=[1,2,3,4,5]\n",
    "flag=True\n",
    "for i in range(len(x)):\n",
    "    for j in range(i+1,len(x)):\n",
    "        if x[i]>x[j]:\n",
    "            flag=False\n",
    "            break\n",
    "    if flag==False:\n",
    "        print(\"Not sorted\")\n",
    "        break\n",
    "else :\n",
    "    print(\"sorted\")\n",
    "            "
   ]
  },
  {
   "cell_type": "markdown",
   "id": "ff058212-7fd3-42aa-a9bb-750f8ca23d09",
   "metadata": {},
   "source": [
    "39. Rotate a tuple to the left by `n` positions."
   ]
  },
  {
   "cell_type": "code",
   "execution_count": 113,
   "id": "fc944a18-8c7e-4011-8f75-519cde70ee04",
   "metadata": {},
   "outputs": [
    {
     "data": {
      "text/plain": [
       "[2, 3, 4, 5, 1]"
      ]
     },
     "execution_count": 113,
     "metadata": {},
     "output_type": "execute_result"
    }
   ],
   "source": [
    "x\n",
    "n=1\n",
    "new=[]\n",
    "for i in range(n,len(x)):\n",
    "    new.append(x[i])\n",
    "else :\n",
    "    new.extend(x[0:n])\n",
    "new\n",
    "    # new.append(x[i]\n",
    "\n",
    "\n",
    "    "
   ]
  },
  {
   "cell_type": "markdown",
   "id": "f11c4520-869e-45b7-bbcc-493d571eef4c",
   "metadata": {},
   "source": [
    "40. Rotate a tuple to the right by `n` positions."
   ]
  },
  {
   "cell_type": "code",
   "execution_count": 112,
   "id": "62933e9c-d60b-4363-ab48-20f3b460ad5b",
   "metadata": {},
   "outputs": [
    {
     "data": {
      "text/plain": [
       "[1, 2, 3, 4, 5]"
      ]
     },
     "execution_count": 112,
     "metadata": {},
     "output_type": "execute_result"
    }
   ],
   "source": [
    "x"
   ]
  },
  {
   "cell_type": "code",
   "execution_count": 111,
   "id": "59fa879e-1b87-4552-b0a6-0a4ae8f43fbc",
   "metadata": {},
   "outputs": [
    {
     "data": {
      "text/plain": [
       "[5, 4, 3, 2, 1]"
      ]
     },
     "execution_count": 111,
     "metadata": {},
     "output_type": "execute_result"
    }
   ],
   "source": [
    "x\n",
    "n=1\n",
    "new=[]\n",
    "for i in range(n,len(x)):\n",
    "   "
   ]
  },
  {
   "cell_type": "code",
   "execution_count": null,
   "id": "26a2dace-e456-4c0e-9ac3-8ee76dc3c15b",
   "metadata": {},
   "outputs": [],
   "source": []
  },
  {
   "cell_type": "markdown",
   "id": "52e82a0e-1a66-4e36-8e7a-711f2cc6a8ed",
   "metadata": {},
   "source": [
    "41. Create a tuple of the first 5 Fibonacci numbers."
   ]
  },
  {
   "cell_type": "code",
   "execution_count": 31,
   "id": "a643f859-e52c-47fa-8258-bcdb9dc8a023",
   "metadata": {},
   "outputs": [
    {
     "data": {
      "text/plain": [
       "(1, 1, 2, 3, 5)"
      ]
     },
     "execution_count": 31,
     "metadata": {},
     "output_type": "execute_result"
    }
   ],
   "source": [
    "x=(1,1,2,3,5)\n",
    "x"
   ]
  },
  {
   "cell_type": "markdown",
   "id": "3c7f24ec-fb4b-4f2c-8b42-78c9abd5b30f",
   "metadata": {},
   "source": [
    "42. Create a tuple from user input."
   ]
  },
  {
   "cell_type": "code",
   "execution_count": 21,
   "id": "19c2b70d-f1ca-49b8-af0e-10e3ed01bd2b",
   "metadata": {},
   "outputs": [
    {
     "name": "stdin",
     "output_type": "stream",
     "text": [
      "enter the number 2\n"
     ]
    },
    {
     "name": "stdout",
     "output_type": "stream",
     "text": [
      "('2',)\n"
     ]
    }
   ],
   "source": [
    "x=input((\"enter the number\"))\n",
    "b=tuple(x)\n",
    "print(b)"
   ]
  },
  {
   "cell_type": "markdown",
   "id": "8f678124-b3ef-4f45-9a66-01dc119ba225",
   "metadata": {},
   "source": [
    "43. Swap two elements in a tuple."
   ]
  },
  {
   "cell_type": "code",
   "execution_count": 30,
   "id": "1e9be46a-46f9-4dd1-a896-82d9dc4a4f2c",
   "metadata": {},
   "outputs": [
    {
     "data": {
      "text/plain": [
       "(2, 4)"
      ]
     },
     "execution_count": 30,
     "metadata": {},
     "output_type": "execute_result"
    }
   ],
   "source": [
    "x=(4,2)\n",
    "ls=list(x)\n",
    "ls[0], ls[1]= ls[1], ls[0]\n",
    "tuple(ls)"
   ]
  },
  {
   "cell_type": "markdown",
   "id": "5082e210-e16f-42e1-a1da-06c0c2958f16",
   "metadata": {},
   "source": [
    "44. Reverse the elements of a tuple."
   ]
  },
  {
   "cell_type": "code",
   "execution_count": 10,
   "id": "d40070ee-9ee5-40ad-8de2-826a6937194e",
   "metadata": {},
   "outputs": [
    {
     "name": "stdout",
     "output_type": "stream",
     "text": [
      "(4, 3, 2, 1)\n"
     ]
    }
   ],
   "source": [
    "x=(1,2,3,4)\n",
    "new = x[::-1]\n",
    "print(new)\n",
    "   "
   ]
  },
  {
   "cell_type": "markdown",
   "id": "debbbed4-952e-4ade-888a-b5d3c55eb10e",
   "metadata": {},
   "source": [
    "45. Create a tuple of the first `n` powers of 2."
   ]
  },
  {
   "cell_type": "code",
   "execution_count": 38,
   "id": "36f26a82-7b92-46cd-8cd2-7f5aa6fff858",
   "metadata": {},
   "outputs": [
    {
     "data": {
      "text/plain": [
       "(2, 4, 8, 16, 32)"
      ]
     },
     "execution_count": 38,
     "metadata": {},
     "output_type": "execute_result"
    }
   ],
   "source": [
    "n=5\n",
    "tuple(2**i for i in range(1,n+1))\n",
    "  "
   ]
  },
  {
   "cell_type": "markdown",
   "id": "e5ba5437-d431-417d-83e5-22d2a3f43abb",
   "metadata": {},
   "source": [
    "46. Find the longest string in a tuple of strings."
   ]
  },
  {
   "cell_type": "code",
   "execution_count": 53,
   "id": "c8c1db50-ccff-49b6-9499-b0280db11787",
   "metadata": {},
   "outputs": [
    {
     "data": {
      "text/plain": [
       "'janacu'"
      ]
     },
     "execution_count": 53,
     "metadata": {},
     "output_type": "execute_result"
    }
   ],
   "source": [
    "x=(\"mohit\",\"ram\",\"shanu\",\"janacu\",\"janaki\")\n",
    "# lamba=x[0]\n",
    "# for i in x[1:]:\n",
    "#     if len(lamba)<len(i):\n",
    "#         lamba=i\n",
    "# print(lamba)\n",
    "max(x,key=len)"
   ]
  },
  {
   "cell_type": "markdown",
   "id": "791f9e8f-f039-444e-b437-813f1c76f0f6",
   "metadata": {},
   "source": [
    "47. Find the shortest string in a tuple of strings."
   ]
  },
  {
   "cell_type": "code",
   "execution_count": 54,
   "id": "79d4459c-8d39-40db-8157-c70c95c130e2",
   "metadata": {},
   "outputs": [
    {
     "data": {
      "text/plain": [
       "'ram'"
      ]
     },
     "execution_count": 54,
     "metadata": {},
     "output_type": "execute_result"
    }
   ],
   "source": [
    "x=(\"mohit\",\"ram\",\"shanu\",\"janacu\",\"janaki\")\n",
    "min(x,key=len)"
   ]
  },
  {
   "cell_type": "markdown",
   "id": "b37deb78-7de9-4e03-982b-a7357bb3f458",
   "metadata": {},
   "source": [
    "\n",
    "48. Create a tuple of the first `n` triangular numbers."
   ]
  },
  {
   "cell_type": "code",
   "execution_count": 63,
   "id": "1a802526-ca41-4857-92c8-6ebd2b06cb02",
   "metadata": {},
   "outputs": [
    {
     "name": "stdout",
     "output_type": "stream",
     "text": [
      "1\n",
      "3\n",
      "6\n",
      "10\n",
      "15\n",
      "21\n",
      "28\n",
      "36\n",
      "45\n",
      "55\n"
     ]
    }
   ],
   "source": [
    "n=10\n",
    "inc=2\n",
    "prev=1\n",
    "for i in range(n):\n",
    "    print(prev)\n",
    "    prev=prev+inc\n",
    "    inc+=1"
   ]
  },
  {
   "cell_type": "markdown",
   "id": "9e625460-1ca9-4685-af74-83020c3d91ca",
   "metadata": {},
   "source": [
    "49. Check if a tuple contains another tuple as a subsequence."
   ]
  },
  {
   "cell_type": "code",
   "execution_count": 76,
   "id": "f2af3456-5ca4-4f0f-b034-8cf60e997d1d",
   "metadata": {},
   "outputs": [
    {
     "name": "stdout",
     "output_type": "stream",
     "text": [
      "('NSH',)\n"
     ]
    }
   ],
   "source": [
    "X=(\"NITIN\",(\"NSH\",),\"HLO\")\n",
    "for i in X:\n",
    "    if isinstance(i,tuple):\n",
    "        print(i)\n",
    "\n",
    "    "
   ]
  },
  {
   "cell_type": "markdown",
   "id": "e8b072f7-fdf0-4c55-ab0c-24d19b4ee515",
   "metadata": {},
   "source": [
    "50. Create a tuple of alternating 1s and 0s of length `n`."
   ]
  },
  {
   "cell_type": "code",
   "execution_count": 3,
   "id": "4617aae5-0ed2-4c14-98b2-a869aa8b87fc",
   "metadata": {},
   "outputs": [
    {
     "data": {
      "text/plain": [
       "(0, 1, 0, 1, 0, 1, 0, 1, 0, 1)"
      ]
     },
     "execution_count": 3,
     "metadata": {},
     "output_type": "execute_result"
    }
   ],
   "source": [
    "tuple(0 if x%2==0 else 1 for x in range(10))"
   ]
  },
  {
   "cell_type": "markdown",
   "id": "53465e87-a1a8-4607-9dbd-ca4569100da5",
   "metadata": {},
   "source": [
    "### Set Based Practice Problem :"
   ]
  },
  {
   "cell_type": "markdown",
   "id": "8fdd6304-65a6-446c-99ad-b2e159d218ca",
   "metadata": {},
   "source": [
    "1. Create a set with integers from 1 to 5."
   ]
  },
  {
   "cell_type": "code",
   "execution_count": 29,
   "id": "17cefac3-684a-44b1-8519-c4e4623cad27",
   "metadata": {},
   "outputs": [
    {
     "data": {
      "text/plain": [
       "{1, 2, 3, 4, 5}"
      ]
     },
     "execution_count": 29,
     "metadata": {},
     "output_type": "execute_result"
    }
   ],
   "source": [
    "s={x for x in range(1,6)}\n",
    "s"
   ]
  },
  {
   "cell_type": "markdown",
   "id": "1738c7e2-a191-4cdc-a790-2e9ca6bed29c",
   "metadata": {},
   "source": [
    "2. Add an element to a set."
   ]
  },
  {
   "cell_type": "code",
   "execution_count": 16,
   "id": "7a035629-dd73-42d2-9019-34b5b16ad9bb",
   "metadata": {},
   "outputs": [
    {
     "data": {
      "text/plain": [
       "{1, 2, 3, 4, 5, 10}"
      ]
     },
     "execution_count": 16,
     "metadata": {},
     "output_type": "execute_result"
    }
   ],
   "source": [
    "s.add(10)\n",
    "s"
   ]
  },
  {
   "cell_type": "markdown",
   "id": "6b16b1b6-c4e0-4d08-996f-c2d08c9d8458",
   "metadata": {},
   "source": [
    "3. Remove an element from a set."
   ]
  },
  {
   "cell_type": "code",
   "execution_count": 17,
   "id": "7e9af895-9070-48f6-9eba-d63e15ab507a",
   "metadata": {},
   "outputs": [
    {
     "data": {
      "text/plain": [
       "{1, 2, 3, 4, 5}"
      ]
     },
     "execution_count": 17,
     "metadata": {},
     "output_type": "execute_result"
    }
   ],
   "source": [
    "s.remove(10)\n",
    "s"
   ]
  },
  {
   "cell_type": "markdown",
   "id": "d7dcb740-926c-4dc0-975d-1f7fd5337dd8",
   "metadata": {},
   "source": [
    "4. Check if an element exists in a set."
   ]
  },
  {
   "cell_type": "code",
   "execution_count": 20,
   "id": "c6c659f8-315f-4752-8ae3-fb44cd559d3a",
   "metadata": {},
   "outputs": [
    {
     "data": {
      "text/plain": [
       "True"
      ]
     },
     "execution_count": 20,
     "metadata": {},
     "output_type": "execute_result"
    }
   ],
   "source": [
    "s.issuperset({1})"
   ]
  },
  {
   "cell_type": "markdown",
   "id": "bf1faec9-cd51-45bc-abca-c8b57ced7ecb",
   "metadata": {},
   "source": [
    "5. Find the length of a set without using the `len()` function."
   ]
  },
  {
   "cell_type": "code",
   "execution_count": 23,
   "id": "3b3e400c-1ac1-4cf0-aa1e-ae213d1e05a6",
   "metadata": {},
   "outputs": [
    {
     "data": {
      "text/plain": [
       "5"
      ]
     },
     "execution_count": 23,
     "metadata": {},
     "output_type": "execute_result"
    }
   ],
   "source": [
    "l=0\n",
    "for i in s:\n",
    "    l+=1\n",
    "l"
   ]
  },
  {
   "cell_type": "markdown",
   "id": "45c2698c-df0e-435b-a48e-35e835733ddc",
   "metadata": {},
   "source": [
    "6. Clear all elements from a set."
   ]
  },
  {
   "cell_type": "code",
   "execution_count": 24,
   "id": "42590a48-1ff0-47a5-9790-7a702d7d1875",
   "metadata": {},
   "outputs": [
    {
     "data": {
      "text/plain": [
       "set()"
      ]
     },
     "execution_count": 24,
     "metadata": {},
     "output_type": "execute_result"
    }
   ],
   "source": [
    "s.clear()\n",
    "s"
   ]
  },
  {
   "cell_type": "markdown",
   "id": "4860e3c8-25e6-4159-a7d2-0f2a41980c56",
   "metadata": {},
   "source": [
    "7. Create a set of even numbers from 1 to 10."
   ]
  },
  {
   "cell_type": "code",
   "execution_count": 25,
   "id": "33c782da-0cfd-47c7-bc4f-61cd84d99e0a",
   "metadata": {},
   "outputs": [
    {
     "data": {
      "text/plain": [
       "{2, 4, 6, 8, 10}"
      ]
     },
     "execution_count": 25,
     "metadata": {},
     "output_type": "execute_result"
    }
   ],
   "source": [
    "{x for x in range(1,11) if x%2==0}"
   ]
  },
  {
   "cell_type": "markdown",
   "id": "a17a62d1-93f1-43da-af1c-509c2b4751ed",
   "metadata": {},
   "source": [
    "8. Create a set of odd numbers from 1 to 10."
   ]
  },
  {
   "cell_type": "code",
   "execution_count": 27,
   "id": "52cb5acf-ab11-4b84-8aca-ef4125fcd917",
   "metadata": {},
   "outputs": [
    {
     "data": {
      "text/plain": [
       "{1, 3, 5, 7, 9}"
      ]
     },
     "execution_count": 27,
     "metadata": {},
     "output_type": "execute_result"
    }
   ],
   "source": [
    "b={x for x in range(1,11) if x%2!=0}\n",
    "b"
   ]
  },
  {
   "cell_type": "markdown",
   "id": "4826867f-5ff4-44ab-90f0-93c6777adfb8",
   "metadata": {},
   "source": [
    "9. Find the union of two sets."
   ]
  },
  {
   "cell_type": "code",
   "execution_count": 30,
   "id": "a45c2361-c9f5-46d6-a936-84ca0c851a3c",
   "metadata": {},
   "outputs": [
    {
     "data": {
      "text/plain": [
       "{1, 2, 3, 4, 5, 7, 9}"
      ]
     },
     "execution_count": 30,
     "metadata": {},
     "output_type": "execute_result"
    }
   ],
   "source": [
    "s.union(b)"
   ]
  },
  {
   "cell_type": "markdown",
   "id": "b1ef40ec-a263-42cf-823f-0400352a3b04",
   "metadata": {},
   "source": [
    "10. Find the intersection of two sets."
   ]
  },
  {
   "cell_type": "code",
   "execution_count": 31,
   "id": "7ef9ed83-e6b6-4f0d-8ea9-6e444ce6ec7c",
   "metadata": {},
   "outputs": [
    {
     "data": {
      "text/plain": [
       "{1, 3, 5}"
      ]
     },
     "execution_count": 31,
     "metadata": {},
     "output_type": "execute_result"
    }
   ],
   "source": [
    "s.intersection(b)"
   ]
  },
  {
   "cell_type": "markdown",
   "id": "f2e9aff6-6772-4c9a-a80f-067c9ccae478",
   "metadata": {},
   "source": [
    "11. Find the difference between two sets."
   ]
  },
  {
   "cell_type": "code",
   "execution_count": 32,
   "id": "38121372-5573-472e-b111-66b7729d81cd",
   "metadata": {},
   "outputs": [
    {
     "data": {
      "text/plain": [
       "{2, 4}"
      ]
     },
     "execution_count": 32,
     "metadata": {},
     "output_type": "execute_result"
    }
   ],
   "source": [
    "s.difference(b)"
   ]
  },
  {
   "cell_type": "markdown",
   "id": "32146e30-d48f-4dca-ae84-c469ae3a8b79",
   "metadata": {},
   "source": [
    "12. Check if a set is a subset of another set."
   ]
  },
  {
   "cell_type": "code",
   "execution_count": 38,
   "id": "ab87b3d9-7710-46f3-831d-6a9eb2959302",
   "metadata": {},
   "outputs": [
    {
     "data": {
      "text/plain": [
       "True"
      ]
     },
     "execution_count": 38,
     "metadata": {},
     "output_type": "execute_result"
    }
   ],
   "source": [
    "s.issubset({1,2,3,4,5,6})"
   ]
  },
  {
   "cell_type": "markdown",
   "id": "bfa2371e-e3fc-416c-a6e4-e0ac100e9223",
   "metadata": {},
   "source": [
    "13. Check if a set is a superset of another set."
   ]
  },
  {
   "cell_type": "code",
   "execution_count": 39,
   "id": "d9e6be32-8a6b-4641-8263-97562a81f20f",
   "metadata": {},
   "outputs": [
    {
     "data": {
      "text/plain": [
       "True"
      ]
     },
     "execution_count": 39,
     "metadata": {},
     "output_type": "execute_result"
    }
   ],
   "source": [
    "s.issuperset({1,2,3})"
   ]
  },
  {
   "cell_type": "markdown",
   "id": "851c88e4-5f19-4d00-98c5-c5cbc32cc513",
   "metadata": {},
   "source": [
    "14. Create a set from a list."
   ]
  },
  {
   "cell_type": "code",
   "execution_count": 41,
   "id": "ca21a516-2230-4ff7-b165-22956e2deaac",
   "metadata": {},
   "outputs": [
    {
     "data": {
      "text/plain": [
       "{1, 2, 33}"
      ]
     },
     "execution_count": 41,
     "metadata": {},
     "output_type": "execute_result"
    }
   ],
   "source": [
    "set([1,2,33])"
   ]
  },
  {
   "cell_type": "markdown",
   "id": "299ecbd1-4a9d-4343-9bdd-60a141c889f8",
   "metadata": {},
   "source": [
    "15. Convert a set to a list."
   ]
  },
  {
   "cell_type": "code",
   "execution_count": 42,
   "id": "46cb1f6c-4a10-47af-91fd-c82304d42e56",
   "metadata": {},
   "outputs": [
    {
     "data": {
      "text/plain": [
       "[1, 2, 3, 4]"
      ]
     },
     "execution_count": 42,
     "metadata": {},
     "output_type": "execute_result"
    }
   ],
   "source": [
    "list({1,2,3,4})"
   ]
  },
  {
   "cell_type": "markdown",
   "id": "f74895ed-c3e1-4f14-b830-4481b2808929",
   "metadata": {},
   "source": [
    "17. Pop an element from a set."
   ]
  },
  {
   "cell_type": "code",
   "execution_count": 45,
   "id": "4a356c60-ad0a-45d1-9651-c9bffc1346bb",
   "metadata": {},
   "outputs": [
    {
     "data": {
      "text/plain": [
       "1"
      ]
     },
     "execution_count": 45,
     "metadata": {},
     "output_type": "execute_result"
    }
   ],
   "source": [
    "s.pop()"
   ]
  },
  {
   "cell_type": "markdown",
   "id": "d4f45ffa-8c53-4a9f-835a-cb33e122ee07",
   "metadata": {},
   "source": [
    "18. Check if two sets have no elements in common."
   ]
  },
  {
   "cell_type": "code",
   "execution_count": 15,
   "id": "a420aebb-10e0-4541-898d-68cd3f34be9b",
   "metadata": {},
   "outputs": [],
   "source": [
    "s={1,2,3}\n",
    "b={5,6,6,3}\n",
    "if not s.intersection(b):\n",
    "    print(\"No common\")"
   ]
  },
  {
   "cell_type": "markdown",
   "id": "868c5aeb-d054-4604-9a5e-67d8608dbf78",
   "metadata": {},
   "source": [
    "19. Find the symmetric difference between two sets."
   ]
  },
  {
   "cell_type": "code",
   "execution_count": 54,
   "id": "44a6128a-fba9-4bc8-a898-8229d90d7ff1",
   "metadata": {},
   "outputs": [
    {
     "data": {
      "text/plain": [
       "{1, 2, 5, 6}"
      ]
     },
     "execution_count": 54,
     "metadata": {},
     "output_type": "execute_result"
    }
   ],
   "source": [
    "s.symmetric_difference(b)"
   ]
  },
  {
   "cell_type": "markdown",
   "id": "2231d290-aee8-4275-9657-697dee9f55cc",
   "metadata": {},
   "source": [
    "20. Update a set with elements from another set."
   ]
  },
  {
   "cell_type": "code",
   "execution_count": 56,
   "id": "71668af5-7f44-4725-9981-90c772af9a2a",
   "metadata": {},
   "outputs": [],
   "source": [
    "s.update(b)"
   ]
  },
  {
   "cell_type": "code",
   "execution_count": 57,
   "id": "dc20279f-7a2e-415b-9108-9c55f3363581",
   "metadata": {},
   "outputs": [
    {
     "data": {
      "text/plain": [
       "{1, 2, 3, 5, 6}"
      ]
     },
     "execution_count": 57,
     "metadata": {},
     "output_type": "execute_result"
    }
   ],
   "source": [
    "s"
   ]
  },
  {
   "cell_type": "markdown",
   "id": "ef3f2175-d1ea-4f5d-b9d3-dbc69ff83b06",
   "metadata": {},
   "source": [
    "21. Create a set of the first 5 prime numbers."
   ]
  },
  {
   "cell_type": "code",
   "execution_count": 62,
   "id": "5ba55a1a-f09d-4f2c-a51c-6ec3379d6499",
   "metadata": {},
   "outputs": [
    {
     "name": "stdout",
     "output_type": "stream",
     "text": [
      "2\n",
      "3\n",
      "5\n",
      "7\n"
     ]
    }
   ],
   "source": [
    "n=10\n",
    "prime=[True]*(n+1)\n",
    "for i in range(2,n+1):\n",
    "    if prime[i]==True:\n",
    "        for j in range(i*i,n+1,i):\n",
    "            prime[j]=False\n",
    "for i,v in enumerate(prime):\n",
    "    if v and i>1:\n",
    "        print(i)"
   ]
  },
  {
   "cell_type": "markdown",
   "id": "a9aa545f-f2d2-411e-bae9-adc05d33a41c",
   "metadata": {},
   "source": [
    "22. Check if two sets are identical."
   ]
  },
  {
   "cell_type": "code",
   "execution_count": 66,
   "id": "83e8e900-e5d1-4ab8-ad65-49f819c81c1d",
   "metadata": {},
   "outputs": [
    {
     "data": {
      "text/plain": [
       "False"
      ]
     },
     "execution_count": 66,
     "metadata": {},
     "output_type": "execute_result"
    }
   ],
   "source": [
    "s==b"
   ]
  },
  {
   "cell_type": "markdown",
   "id": "a6cfb7ae-9b74-4046-a1d6-1baa3f7095ac",
   "metadata": {},
   "source": [
    "23. Create a frozen set."
   ]
  },
  {
   "cell_type": "code",
   "execution_count": 67,
   "id": "8e8bf169-5f92-446c-9ff0-8f3476b990a2",
   "metadata": {},
   "outputs": [
    {
     "data": {
      "text/plain": [
       "frozenset({1, 3, 4, 5})"
      ]
     },
     "execution_count": 67,
     "metadata": {},
     "output_type": "execute_result"
    }
   ],
   "source": [
    "frozenset({1,3,4,5})"
   ]
  },
  {
   "cell_type": "markdown",
   "id": "390fc838-09ed-4850-8f7d-931980234058",
   "metadata": {},
   "source": [
    "24. Check if a set is disjoint with another set."
   ]
  },
  {
   "cell_type": "code",
   "execution_count": 71,
   "id": "3c0987c4-861e-4fbe-bef6-70f9c553366d",
   "metadata": {},
   "outputs": [
    {
     "data": {
      "text/plain": [
       "{3, 5, 6}"
      ]
     },
     "execution_count": 71,
     "metadata": {},
     "output_type": "execute_result"
    }
   ],
   "source": [
    "s.isdisjoint(b) # no common element in both sets"
   ]
  },
  {
   "cell_type": "markdown",
   "id": "410e130c-270d-4b0f-ac8c-906f0376f16b",
   "metadata": {},
   "source": [
    "25. Create a set of squares of numbers from 1 to 5."
   ]
  },
  {
   "cell_type": "code",
   "execution_count": 72,
   "id": "51069c49-9324-4b83-b919-9f16866b9626",
   "metadata": {},
   "outputs": [
    {
     "data": {
      "text/plain": [
       "{1, 4, 9, 16, 25}"
      ]
     },
     "execution_count": 72,
     "metadata": {},
     "output_type": "execute_result"
    }
   ],
   "source": [
    "{x**2 for x in range(1,6)}"
   ]
  },
  {
   "cell_type": "markdown",
   "id": "61feab38-e282-4e96-9809-76b937f756f1",
   "metadata": {},
   "source": [
    "26. Filter out all even numbers from a set."
   ]
  },
  {
   "cell_type": "code",
   "execution_count": 74,
   "id": "ccd4e895-a164-4fa0-a47e-6a39a12d47e8",
   "metadata": {},
   "outputs": [
    {
     "data": {
      "text/plain": [
       "{4, 16}"
      ]
     },
     "execution_count": 74,
     "metadata": {},
     "output_type": "execute_result"
    }
   ],
   "source": [
    "{y for y in {x**2 for x in range(1,6)} if y%2==0}"
   ]
  },
  {
   "cell_type": "markdown",
   "id": "c3d7fbd3-a6cb-47f5-af19-be7a89577c24",
   "metadata": {},
   "source": [
    "27. Multiply all elements in a set by 2."
   ]
  },
  {
   "cell_type": "code",
   "execution_count": 2,
   "id": "4fd16a05-b22e-4a47-a7a5-8fc285537cd2",
   "metadata": {},
   "outputs": [
    {
     "data": {
      "text/plain": [
       "{0, 2, 4, 6, 8, 10, 12, 14, 16, 18}"
      ]
     },
     "execution_count": 2,
     "metadata": {},
     "output_type": "execute_result"
    }
   ],
   "source": [
    "{x*2 for x in range(10)}"
   ]
  },
  {
   "cell_type": "markdown",
   "id": "10adc095-cd64-4ddc-baeb-b39b0053cf0b",
   "metadata": {},
   "source": [
    "28. Create a set of random numbers."
   ]
  },
  {
   "cell_type": "code",
   "execution_count": 8,
   "id": "d28354da-c861-4000-b864-567340e260d5",
   "metadata": {},
   "outputs": [
    {
     "data": {
      "text/plain": [
       "{1, 18, 27, 30, 46, 47, 48, 53, 78, 96}"
      ]
     },
     "execution_count": 8,
     "metadata": {},
     "output_type": "execute_result"
    }
   ],
   "source": [
    "from random import randint\n",
    "{randint(0,100) for x in range(10)}"
   ]
  },
  {
   "cell_type": "markdown",
   "id": "e831d920-c1f6-4a2f-8659-7eaad8072915",
   "metadata": {},
   "source": [
    "29. Check if a set is empty."
   ]
  },
  {
   "cell_type": "code",
   "execution_count": 12,
   "id": "1c50111c-db7f-4f15-aaf8-a02bb583dbca",
   "metadata": {},
   "outputs": [
    {
     "name": "stdout",
     "output_type": "stream",
     "text": [
      "empty\n"
     ]
    }
   ],
   "source": [
    "if not {}:\n",
    "    print(\"empty\")"
   ]
  },
  {
   "cell_type": "markdown",
   "id": "5b11e182-6d48-4305-80b1-f338ff05cd04",
   "metadata": {},
   "source": [
    "30. Create a nested set (hint: use frozenset)."
   ]
  },
  {
   "cell_type": "code",
   "execution_count": 26,
   "id": "91711631-8039-4868-b815-2190d8639088",
   "metadata": {},
   "outputs": [
    {
     "data": {
      "text/plain": [
       "{frozenset({1, 2, 3}), frozenset({4, 5, 6})}"
      ]
     },
     "execution_count": 26,
     "metadata": {},
     "output_type": "execute_result"
    }
   ],
   "source": [
    "set1 = {1, 2, 3}\n",
    "set2 = {4, 5, 6}\n",
    "nested_set = {frozenset(set1), frozenset(set2)}\n",
    "nested_set"
   ]
  },
  {
   "cell_type": "markdown",
   "id": "86c42a82-8aed-4a58-b078-8a1490827b0b",
   "metadata": {},
   "source": [
    "31. Remove an element from a set using the discard method."
   ]
  },
  {
   "cell_type": "code",
   "execution_count": 27,
   "id": "fd35c79a-32b0-49a6-aab0-b11165957535",
   "metadata": {},
   "outputs": [
    {
     "data": {
      "text/plain": [
       "{2, 3}"
      ]
     },
     "execution_count": 27,
     "metadata": {},
     "output_type": "execute_result"
    }
   ],
   "source": [
    "set1.discard(1)\n",
    "set1"
   ]
  },
  {
   "cell_type": "markdown",
   "id": "5ec92856-514b-4bb7-91ae-faeff7d7d56e",
   "metadata": {},
   "source": [
    "32. Compare two sets."
   ]
  },
  {
   "cell_type": "code",
   "execution_count": 28,
   "id": "6c5bb610-8138-43ea-97f0-0b3bc44244d3",
   "metadata": {},
   "outputs": [
    {
     "data": {
      "text/plain": [
       "False"
      ]
     },
     "execution_count": 28,
     "metadata": {},
     "output_type": "execute_result"
    }
   ],
   "source": [
    "set1==set2"
   ]
  },
  {
   "cell_type": "markdown",
   "id": "60bb3481-0fd6-400c-8eb5-56af6efebcd8",
   "metadata": {},
   "source": [
    "33. Create a set from a string."
   ]
  },
  {
   "cell_type": "code",
   "execution_count": 29,
   "id": "a774834a-fb48-4d69-9342-1647540a5704",
   "metadata": {},
   "outputs": [
    {
     "data": {
      "text/plain": [
       "{'A', 'B', 'C', 'D', 'E', 'F', 'G', 'H', 'I', 'J'}"
      ]
     },
     "execution_count": 29,
     "metadata": {},
     "output_type": "execute_result"
    }
   ],
   "source": [
    "{chr(x) for x in range(65,75)}"
   ]
  },
  {
   "cell_type": "markdown",
   "id": "bfb9c680-d9cc-44e4-a678-a97271f9f87d",
   "metadata": {},
   "source": [
    "34. Convert a set of strings to a set of integers."
   ]
  },
  {
   "cell_type": "code",
   "execution_count": 31,
   "id": "9020efdf-9c0b-4acb-b450-c6fd49e563a2",
   "metadata": {},
   "outputs": [
    {
     "data": {
      "text/plain": [
       "{65, 66, 67, 68, 69, 70, 71, 72, 73, 74}"
      ]
     },
     "execution_count": 31,
     "metadata": {},
     "output_type": "execute_result"
    }
   ],
   "source": [
    "x={'A', 'B', 'C', 'D', 'E', 'F', 'G', 'H', 'I', 'J'}\n",
    "z={ord(y) for y in x}\n",
    "z"
   ]
  },
  {
   "cell_type": "markdown",
   "id": "dde6df90-444d-42a3-b33d-dd13e48a4482",
   "metadata": {},
   "source": [
    "35. Convert a set of integers to a set of strings."
   ]
  },
  {
   "cell_type": "code",
   "execution_count": 32,
   "id": "44a284bf-c5ed-48e7-b769-d5b4b1afcd38",
   "metadata": {},
   "outputs": [
    {
     "data": {
      "text/plain": [
       "{'65', '66', '67', '68', '69', '70', '71', '72', '73', '74'}"
      ]
     },
     "execution_count": 32,
     "metadata": {},
     "output_type": "execute_result"
    }
   ],
   "source": [
    "{str(a) for a in z}"
   ]
  },
  {
   "cell_type": "markdown",
   "id": "fbd458c7-6954-41a8-a17b-f5ed88952b01",
   "metadata": {},
   "source": [
    "36. Create a set from a tuple."
   ]
  },
  {
   "cell_type": "code",
   "execution_count": 33,
   "id": "5a053e26-4d38-400a-ab36-85a5889172eb",
   "metadata": {},
   "outputs": [
    {
     "data": {
      "text/plain": [
       "{1, 2, 3, 5, 45}"
      ]
     },
     "execution_count": 33,
     "metadata": {},
     "output_type": "execute_result"
    }
   ],
   "source": [
    "set((1,2,3,45,5))"
   ]
  },
  {
   "cell_type": "markdown",
   "id": "79190274-11e3-42df-b5ce-b4f4df11cabd",
   "metadata": {},
   "source": [
    "37. Convert a set to a tuple."
   ]
  },
  {
   "cell_type": "code",
   "execution_count": 34,
   "id": "d6e12dca-f61b-4c2e-9ad9-40a1e92daac9",
   "metadata": {},
   "outputs": [
    {
     "data": {
      "text/plain": [
       "(1, 3, 4, 5)"
      ]
     },
     "execution_count": 34,
     "metadata": {},
     "output_type": "execute_result"
    }
   ],
   "source": [
    "tuple({1,3,4,5})"
   ]
  },
  {
   "cell_type": "markdown",
   "id": "b2c3307d-7eb8-4f0f-ab2b-dfacf81efa6a",
   "metadata": {},
   "source": [
    "38. Find the maximum value in a set."
   ]
  },
  {
   "cell_type": "code",
   "execution_count": 35,
   "id": "1e5bf635-5f35-4236-bf03-6f25550766ca",
   "metadata": {},
   "outputs": [
    {
     "data": {
      "text/plain": [
       "4"
      ]
     },
     "execution_count": 35,
     "metadata": {},
     "output_type": "execute_result"
    }
   ],
   "source": [
    "max({1,2,3,4})"
   ]
  },
  {
   "cell_type": "markdown",
   "id": "a0b5909a-1902-4115-af4b-63a34c69e403",
   "metadata": {},
   "source": [
    "39. Find the minimum value in a set."
   ]
  },
  {
   "cell_type": "code",
   "execution_count": 36,
   "id": "4587a3f2-6047-4f71-a07d-aa1cb5d10db7",
   "metadata": {},
   "outputs": [
    {
     "data": {
      "text/plain": [
       "1"
      ]
     },
     "execution_count": 36,
     "metadata": {},
     "output_type": "execute_result"
    }
   ],
   "source": [
    "min({1,3,4,5})"
   ]
  },
  {
   "cell_type": "markdown",
   "id": "a20f7727-581f-40c5-b6b5-01099fce2343",
   "metadata": {},
   "source": [
    "40. Create a set from user input."
   ]
  },
  {
   "cell_type": "code",
   "execution_count": 37,
   "id": "f1153a8f-444f-4043-8848-0a7da58d3ce6",
   "metadata": {},
   "outputs": [
    {
     "name": "stdin",
     "output_type": "stream",
     "text": [
      "enter by spliting , 1,2,3,4,5\n"
     ]
    },
    {
     "data": {
      "text/plain": [
       "{'1', '2', '3', '4', '5'}"
      ]
     },
     "execution_count": 37,
     "metadata": {},
     "output_type": "execute_result"
    }
   ],
   "source": [
    "a=input(\"enter by spliting ,\")\n",
    "set(a.split(\",\"))"
   ]
  },
  {
   "cell_type": "markdown",
   "id": "d544b205-1c57-47bf-bb9f-2c96d95053ce",
   "metadata": {},
   "source": [
    "41. Check if the intersection of two sets is empty."
   ]
  },
  {
   "cell_type": "code",
   "execution_count": 50,
   "id": "1283b225-e54c-4138-81c9-6e690ee2e729",
   "metadata": {},
   "outputs": [
    {
     "data": {
      "text/plain": [
       "set()"
      ]
     },
     "execution_count": 50,
     "metadata": {},
     "output_type": "execute_result"
    }
   ],
   "source": [
    "set1.intersection(set2)"
   ]
  },
  {
   "cell_type": "markdown",
   "id": "d2d93690-f149-4eb9-917d-48d674281290",
   "metadata": {},
   "source": [
    "42. Create a set of the first 5 Fibonacci numbers."
   ]
  },
  {
   "cell_type": "code",
   "execution_count": 47,
   "id": "f6f42055-32aa-4053-ba8b-408a1124acba",
   "metadata": {},
   "outputs": [
    {
     "name": "stdout",
     "output_type": "stream",
     "text": [
      "1\n",
      "1\n",
      "2\n",
      "3\n",
      "5\n",
      "8\n",
      "13\n",
      "21\n",
      "34\n",
      "55\n"
     ]
    }
   ],
   "source": [
    "def fibonacci (n):\n",
    "    if n<=1:\n",
    "        return 1\n",
    "    else :\n",
    "        return fibonacci(n-2)+fibonacci(n-1)\n",
    "for i in range(10):\n",
    "    print(fibonacci(i))"
   ]
  },
  {
   "cell_type": "markdown",
   "id": "543fd461-0f88-47ae-aa4c-380a3b6a6eab",
   "metadata": {},
   "source": [
    "43. Remove duplicates from a list using sets."
   ]
  },
  {
   "cell_type": "code",
   "execution_count": null,
   "id": "fb1d8a16-8666-49b1-8d49-f2dbab48e0b3",
   "metadata": {},
   "outputs": [],
   "source": [
    "# set does not contain duplicates"
   ]
  },
  {
   "cell_type": "markdown",
   "id": "8a0e4b42-a401-412e-829e-6041faf8b207",
   "metadata": {},
   "source": [
    "44. Check if two sets have the same elements, regardless of their count."
   ]
  },
  {
   "cell_type": "code",
   "execution_count": 48,
   "id": "dde943af-e98f-4377-8d62-b1a1c14a8080",
   "metadata": {},
   "outputs": [
    {
     "data": {
      "text/plain": [
       "set()"
      ]
     },
     "execution_count": 48,
     "metadata": {},
     "output_type": "execute_result"
    }
   ],
   "source": [
    "# set does no contain duplicates\n",
    "set1.intersection(set2)"
   ]
  },
  {
   "cell_type": "markdown",
   "id": "328b6092-56ec-4006-b926-4da71210bfbc",
   "metadata": {},
   "source": [
    "45. Create a set of the first `n` powers of 2."
   ]
  },
  {
   "cell_type": "code",
   "execution_count": 51,
   "id": "f4dae6a3-f35b-4768-baa7-87eb2b3e9371",
   "metadata": {},
   "outputs": [
    {
     "data": {
      "text/plain": [
       "{1, 2, 4, 8, 16, 32, 64, 128, 256, 512}"
      ]
     },
     "execution_count": 51,
     "metadata": {},
     "output_type": "execute_result"
    }
   ],
   "source": [
    "{2**x for x in range(10)}"
   ]
  },
  {
   "cell_type": "markdown",
   "id": "257899db-dc3c-446d-a3af-9dfa73b6725a",
   "metadata": {},
   "source": [
    "46. Find the common elements between a set and a list."
   ]
  },
  {
   "cell_type": "code",
   "execution_count": 53,
   "id": "47789df0-df37-4923-ad68-bb9ecba052d2",
   "metadata": {},
   "outputs": [
    {
     "data": {
      "text/plain": [
       "{2, 3}"
      ]
     },
     "execution_count": 53,
     "metadata": {},
     "output_type": "execute_result"
    }
   ],
   "source": [
    "set1\n",
    "l=[1,2,3,4]\n",
    "set1.intersection(l)"
   ]
  },
  {
   "cell_type": "markdown",
   "id": "19dd1ec5-5b11-412e-a1be-491361571fa4",
   "metadata": {},
   "source": [
    "47. Create a set of the first `n` triangular numbers."
   ]
  },
  {
   "cell_type": "code",
   "execution_count": 71,
   "id": "c2ced948-4a6f-457b-b9a6-084b79bb9ec2",
   "metadata": {},
   "outputs": [
    {
     "data": {
      "text/plain": [
       "[[1],\n",
       " [1, 1],\n",
       " [1, 2, 1],\n",
       " [1, 3, 3, 1],\n",
       " [1, 4, 6, 4, 1],\n",
       " [1, 5, 10, 10, 5, 1],\n",
       " [1, 6, 15, 20, 15, 6, 1],\n",
       " [1, 7, 21, 35, 35, 21, 7, 1],\n",
       " [1, 8, 28, 56, 70, 56, 28, 8, 1],\n",
       " [1, 9, 36, 84, 126, 126, 84, 36, 9, 1]]"
      ]
     },
     "execution_count": 71,
     "metadata": {},
     "output_type": "execute_result"
    }
   ],
   "source": [
    "def pascal_traiangle(n):\n",
    "    list_1=[]\n",
    "    for i in range(n):\n",
    "        temp=[]\n",
    "        for j in range(i+1):\n",
    "            if j==0 or j==i:\n",
    "                temp.append(1)\n",
    "            else :\n",
    "                temp.append(list_1[i-1][j-1]+list_1[i-1][j])\n",
    "        list_1.append(temp)\n",
    "    return list_1       \n",
    "pascal_traiangle(10)"
   ]
  },
  {
   "cell_type": "markdown",
   "id": "062cbe15-6769-4154-90e9-08b59a3f68be",
   "metadata": {},
   "source": [
    "48. Check if a set contains another set as a subset."
   ]
  },
  {
   "cell_type": "code",
   "execution_count": 54,
   "id": "b6a02856-7f3b-4ad0-b1c7-eb3e8dd1e478",
   "metadata": {},
   "outputs": [
    {
     "data": {
      "text/plain": [
       "False"
      ]
     },
     "execution_count": 54,
     "metadata": {},
     "output_type": "execute_result"
    }
   ],
   "source": [
    "set1.issubset(set2)"
   ]
  },
  {
   "cell_type": "markdown",
   "id": "3ae00ded-9b7b-44dc-a2c5-47fbd18829fe",
   "metadata": {},
   "source": [
    "49. Create a set of alternating 1s and 0s of length `n`."
   ]
  },
  {
   "cell_type": "code",
   "execution_count": 67,
   "id": "888111a7-fd02-467f-93a7-e6e67333efb5",
   "metadata": {},
   "outputs": [
    {
     "data": {
      "text/plain": [
       "{0, 1}"
      ]
     },
     "execution_count": 67,
     "metadata": {},
     "output_type": "execute_result"
    }
   ],
   "source": [
    "{1 if k%2==0 else 0 for k in range(1,10) }\n",
    "#cant have duplicates"
   ]
  },
  {
   "cell_type": "markdown",
   "id": "14558b3c-580e-4ea2-83bf-327b590837c1",
   "metadata": {},
   "source": [
    "50. Merge multiple sets into one."
   ]
  },
  {
   "cell_type": "code",
   "execution_count": 69,
   "id": "98f83355-9d74-4eae-914e-df85402947b5",
   "metadata": {},
   "outputs": [],
   "source": [
    "set1.update(set2)"
   ]
  },
  {
   "cell_type": "code",
   "execution_count": 70,
   "id": "64e16441-a268-4160-94c6-ad091b9e6c2b",
   "metadata": {},
   "outputs": [
    {
     "data": {
      "text/plain": [
       "{2, 3, 4, 5, 6}"
      ]
     },
     "execution_count": 70,
     "metadata": {},
     "output_type": "execute_result"
    }
   ],
   "source": [
    "set1"
   ]
  },
  {
   "cell_type": "code",
   "execution_count": null,
   "id": "dbf23167-eecf-452e-ade1-55b96a338191",
   "metadata": {},
   "outputs": [],
   "source": []
  }
 ],
 "metadata": {
  "kernelspec": {
   "display_name": "Python 3 (ipykernel)",
   "language": "python",
   "name": "python3"
  },
  "language_info": {
   "codemirror_mode": {
    "name": "ipython",
    "version": 3
   },
   "file_extension": ".py",
   "mimetype": "text/x-python",
   "name": "python",
   "nbconvert_exporter": "python",
   "pygments_lexer": "ipython3",
   "version": "3.10.8"
  }
 },
 "nbformat": 4,
 "nbformat_minor": 5
}

{
 "cells": [
  {
   "cell_type": "markdown",
   "id": "61d54502-99dc-4342-807c-7981a258bb68",
   "metadata": {},
   "source": [
    "Problem 1: Bank Account Create a class representing a bank account with attributes like account number, account holder name, and balance. Implement methods to deposit and withdraw money from the account."
   ]
  },
  {
   "cell_type": "code",
   "execution_count": 1,
   "id": "5f084386-6673-4c00-bd94-007ce3f928c1",
   "metadata": {
    "tags": []
   },
   "outputs": [],
   "source": [
    "class BankAccount:\n",
    "    def __init__(self,account_number,account_holder_name,balance):\n",
    "        self.account_number=account_number\n",
    "        self.account_holder_name=account_holder_name\n",
    "        self.balance=balance\n",
    "    @staticmethod \n",
    "    def decor_fucn(func):\n",
    "        def inner_function(*args):\n",
    "            # print()\n",
    "            print(f\"${args[0].account_holder_name}> \",end=\"\")\n",
    "            print(func(*args))\n",
    "        return inner_function\n",
    "    @decor_fucn\n",
    "    def _check_balance(self):\n",
    "        return f\"Balance: {self.balance}\"\n",
    "    \n",
    "    @decor_fucn\n",
    "    def deposit(self,amount):\n",
    "        self.balance+=amount\n",
    "        return f\"deposit successfull of {amount} . current balance is {self.balance} .\"\n",
    "    \n",
    "    @decor_fucn\n",
    "    def withdraw(self,amount):\n",
    "        if self.balance>=amount:\n",
    "            self.balance-=amount\n",
    "            return f\"Withdraw successfull of {amount} . current balance is {self.balance}\"\n",
    "        else :\n",
    "            return \"Insufficient Balance\""
   ]
  },
  {
   "cell_type": "code",
   "execution_count": 2,
   "id": "3266e00a-f2e4-4838-bb82-1097da0247a6",
   "metadata": {},
   "outputs": [
    {
     "name": "stdout",
     "output_type": "stream",
     "text": [
      "$Mohit> Balance: 1000\n",
      "$Mohit> deposit successfull of 1000 . current balance is 2000 .\n",
      "$Mohit> Withdraw successfull of 500 . current balance is 1500\n",
      "$Mohit> Insufficient Balance\n"
     ]
    }
   ],
   "source": [
    "ba=BankAccount(1,\"Mohit\",1000)\n",
    "ba._check_balance()\n",
    "ba.deposit(1000)\n",
    "ba.withdraw(500)\n",
    "ba.withdraw(2000)"
   ]
  },
  {
   "cell_type": "code",
   "execution_count": 3,
   "id": "d72046ab-7626-4c0a-ad19-48f7979d5c89",
   "metadata": {},
   "outputs": [
    {
     "name": "stdout",
     "output_type": "stream",
     "text": [
      "$Mohit> Balance: 1500\n"
     ]
    }
   ],
   "source": [
    "ba._check_balance()"
   ]
  },
  {
   "cell_type": "markdown",
   "id": "ce893fa7-a39d-442e-86e2-7ea4afc8151e",
   "metadata": {},
   "source": [
    "Problem 2: Employee Management Create a class representing an employee with attributes like employee ID, name, and salary. Implement methods to calculate the yearly bonus and display employee details."
   ]
  },
  {
   "cell_type": "code",
   "execution_count": 4,
   "id": "bed7dc29-3220-4157-9ba0-a7ada3c41fa2",
   "metadata": {},
   "outputs": [],
   "source": [
    "class Employee:\n",
    "    def __init__(self,e_id,e_name,e_salary):\n",
    "        self.e_id=e_id\n",
    "        self.e_name=e_name\n",
    "        self.e_salary=e_salary\n",
    "    def get_employee_info(self):\n",
    "        return {\"e_id\":self.e_id,\"e_name\":self.e_name,\"e_salary\":self.e_salary}\n",
    "    def get_yearly_bonus(self):\n",
    "#         20% of currect salary\n",
    "        return self.e_salary*20/100"
   ]
  },
  {
   "cell_type": "code",
   "execution_count": 5,
   "id": "cda19bad-df1a-401b-a9a9-c3b9f0cb13ff",
   "metadata": {},
   "outputs": [
    {
     "name": "stdout",
     "output_type": "stream",
     "text": [
      "{'e_id': 1, 'e_name': 'mohit', 'e_salary': 20000}\n",
      "4000.0\n"
     ]
    }
   ],
   "source": [
    "em=Employee(1,\"mohit\",20000)\n",
    "print(em.get_employee_info())\n",
    "print(em.get_yearly_bonus())"
   ]
  },
  {
   "cell_type": "markdown",
   "id": "0b2bdcfa-643e-4f2e-aab7-91d1e7bca88a",
   "metadata": {},
   "source": [
    "Problem 3: Vehicle Rental Create a class representing a vehicle rental system. Implement methods to rent a vehicle, return a vehicle, and display available vehicles."
   ]
  },
  {
   "cell_type": "code",
   "execution_count": 6,
   "id": "eadb4b72-3528-4858-8745-8e9550969395",
   "metadata": {},
   "outputs": [],
   "source": [
    "class Vehicle:\n",
    "    \n",
    "    def __init__(self,vehicle_id,brand,model,rent):\n",
    "        self.vehicle_id=vehicle_id\n",
    "        self.brand=brand\n",
    "        self.model=model\n",
    "        self.rent=rent\n",
    "        self.available=True\n",
    "        self.rented_to=None\n",
    "        self.time=None\n",
    "  \n",
    "    def get_info(self):\n",
    "        return {\"vehicle_id\":self.vehicle_id,\"brand\":self.brand,\"model\":self.model,\"rent\":self.rent,\"available\":self.available\\\n",
    "               ,\"rented_to\":self.rented_to}\n",
    "\n",
    "class VehicleRentalService:\n",
    "    \n",
    "    def __init__(self):\n",
    "        self.vehicles=[]\n",
    "        self.vehicle_id=1\n",
    "        \n",
    "    def add_vehicle(self,brand,model,rent):\n",
    "        new=Vehicle(self.vehicle_id,brand,model,rent)\n",
    "        self.vehicles.append(new)\n",
    "        self.vehicle_id+=1\n",
    "        return \"Vehicle added\"\n",
    "    \n",
    "    def remove_vehicle(self,vehicle_id):\n",
    "        for vehicle in self.vehicles:\n",
    "            if vehicle.vehicle_id==vehicle_id:\n",
    "                self.vehicles.remove(vehicle)\n",
    "                return \"Vehicle removed\"\n",
    "        else :\n",
    "            return \"vehicle not found!\"\n",
    "        \n",
    "    def rent_vehicle(self,name,vehicle_id,time):\n",
    "        for vehicle in self.vehicles:\n",
    "            if vehicle.vehicle_id==vehicle_id:\n",
    "                vehicle.rented_to=name\n",
    "                vehicle.time=time\n",
    "                vehicle.available=False\n",
    "                return f\"Vehicle rented to {name}\"\n",
    "        else :\n",
    "            return \"vehicle not found!\"\n",
    "    \n",
    "    def get_all_vehicles(self):\n",
    "        if self.vehicles:\n",
    "            for vehicle  in self.vehicles:\n",
    "                yield vehicle.get_info()\n",
    "        else :\n",
    "            yield \"No vehicle added\"\n",
    "        \n",
    "    def get_rented_vehicles(self):\n",
    "        if self.vehicles:\n",
    "            for vehicle  in self.vehicles:\n",
    "                if vehicle.available==False:\n",
    "                    yield vehicle.get_info()\n",
    "        else :\n",
    "            yield \"No vehicle added\"\n",
    "        \n",
    "    def get_available_vehicles(self):\n",
    "        if self.vehicles:\n",
    "            for vehicle  in self.vehicles:\n",
    "                if vehicle.available==True:\n",
    "                    yield vehicle.get_info()\n",
    "        else :\n",
    "            yield \"No vehicle added\""
   ]
  },
  {
   "cell_type": "code",
   "execution_count": 7,
   "id": "32a4fdbc-ccc7-4b7f-85ee-c671e259371e",
   "metadata": {},
   "outputs": [
    {
     "name": "stdout",
     "output_type": "stream",
     "text": [
      "No vehicle added\n",
      "Vehicle added\n",
      "Vehicle added\n",
      "{'vehicle_id': 1, 'brand': 'Maruti', 'model': 'i-10', 'rent': 1000, 'available': True, 'rented_to': None} {'vehicle_id': 2, 'brand': 'Maruti', 'model': 'i-20', 'rent': 2000, 'available': True, 'rented_to': None}\n",
      "Vehicle rented to Mohit\n",
      "{'vehicle_id': 1, 'brand': 'Maruti', 'model': 'i-10', 'rent': 1000, 'available': True, 'rented_to': None} {'vehicle_id': 2, 'brand': 'Maruti', 'model': 'i-20', 'rent': 2000, 'available': False, 'rented_to': 'Mohit'}\n",
      "{'vehicle_id': 1, 'brand': 'Maruti', 'model': 'i-10', 'rent': 1000, 'available': True, 'rented_to': None}\n",
      "{'vehicle_id': 2, 'brand': 'Maruti', 'model': 'i-20', 'rent': 2000, 'available': False, 'rented_to': 'Mohit'}\n",
      "Vehicle removed\n",
      "{'vehicle_id': 2, 'brand': 'Maruti', 'model': 'i-20', 'rent': 2000, 'available': False, 'rented_to': 'Mohit'}\n"
     ]
    }
   ],
   "source": [
    "vrs=VehicleRentalService()\n",
    "print(*vrs.get_all_vehicles())\n",
    "print(vrs.add_vehicle(\"Maruti\",\"i-10\",1000))\n",
    "print(vrs.add_vehicle(\"Maruti\",\"i-20\",2000))\n",
    "print(*vrs.get_all_vehicles())\n",
    "print(vrs.rent_vehicle(\"Mohit\",2,\"2 days\"))\n",
    "print(*vrs.get_all_vehicles())\n",
    "print(*vrs.get_available_vehicles())\n",
    "print(*vrs.get_rented_vehicles())\n",
    "print(vrs.remove_vehicle(1))\n",
    "print(*vrs.get_all_vehicles())"
   ]
  },
  {
   "cell_type": "markdown",
   "id": "a4b2346d-c46f-451e-bc03-7e24f2b426f7",
   "metadata": {},
   "source": [
    "Problem 4: Library Catalog Create classes representing a library and a book. Implement methods to add books to the library, borrow books, and display available books."
   ]
  },
  {
   "cell_type": "code",
   "execution_count": 8,
   "id": "f8b60b10-20e9-40e8-ba23-7e3ad604fff3",
   "metadata": {},
   "outputs": [],
   "source": [
    "class book:\n",
    "    def __init__(self,b_id,title,category,pages):\n",
    "        self.b_id=b_id\n",
    "        self.title=title\n",
    "        self.category=category\n",
    "        self.pages=pages\n",
    "        self.assigned_to=None\n",
    "        self.available=True\n",
    "        \n",
    "    def get_book_info(self):\n",
    "        return {\"b_id\":self.b_id,\"title\":self.title,\"category\":self.category,\"pages\":self.pages}\n",
    "    \n",
    "class Library:\n",
    "    def __init__(self):\n",
    "        self.books=[]\n",
    "        self.b_id=1\n",
    "        \n",
    "    def add_book(self,title,category,pages):\n",
    "        new=book(self.b_id,title,category,pages)\n",
    "        self.books.append(new)\n",
    "        self.b_id+=1\n",
    "        return \"book added\"\n",
    "    \n",
    "    def remove_book(self,b_id):\n",
    "        for book in self.books:\n",
    "            if book.b_id==b_id:\n",
    "                self.books.remove(book)\n",
    "                return \"Book removed\"\n",
    "        else :\n",
    "            return \"Book not found!\"\n",
    "        \n",
    "    def assigne_book(self,name,b_id,time):\n",
    "        for book in self.books:\n",
    "            if book.b_id==b_id:\n",
    "                book.assigned_to=name\n",
    "                book.time=time\n",
    "                book.available=False\n",
    "                return f\"book assigned to {name}\"\n",
    "        else :\n",
    "            return \"book not found!\"\n",
    "    \n",
    "    def get_all_books(self):\n",
    "        if self.books:\n",
    "            for book  in self.books:\n",
    "                yield book.get_book_info()\n",
    "        else :\n",
    "            yield \"No book added\"\n",
    "    \n",
    "    def get_assigned_books(self):\n",
    "        if self.books:\n",
    "            for book  in self.books:\n",
    "                if book.available==False:\n",
    "                    yield book.get_book_info()\n",
    "        else :\n",
    "            yield \"No book added\"\n",
    "            \n",
    "    def get_available_books(self):\n",
    "        if self.books:\n",
    "            for book  in self.books:\n",
    "                if book.available==True:\n",
    "                    yield book.get_book_info()\n",
    "        else :\n",
    "            yield \"No book added\"\n",
    "    "
   ]
  },
  {
   "cell_type": "code",
   "execution_count": 9,
   "id": "4b4a2394-f6ff-4ed2-ab1b-6cf8e3f741ad",
   "metadata": {},
   "outputs": [
    {
     "name": "stdout",
     "output_type": "stream",
     "text": [
      "No book added\n",
      "book added\n",
      "book added\n",
      "{'b_id': 1, 'title': 'Devlok', 'category': 'mythology', 'pages': 500} {'b_id': 2, 'title': 'Yamlok', 'category': 'mythology', 'pages': 400}\n",
      "book assigned to Mohit\n",
      "{'b_id': 1, 'title': 'Devlok', 'category': 'mythology', 'pages': 500} {'b_id': 2, 'title': 'Yamlok', 'category': 'mythology', 'pages': 400}\n",
      "{'b_id': 1, 'title': 'Devlok', 'category': 'mythology', 'pages': 500}\n"
     ]
    }
   ],
   "source": [
    "lib=Library()\n",
    "print(*lib.get_all_books())\n",
    "print(lib.add_book(\"Devlok\",\"mythology\",500))\n",
    "print(lib.add_book(\"Yamlok\",\"mythology\",400))\n",
    "print(*lib.get_all_books())\n",
    "print(lib.assigne_book(\"Mohit\",2,\"2 day\"))\n",
    "print(*lib.get_all_books())\n",
    "print(*lib.get_available_books())"
   ]
  },
  {
   "cell_type": "markdown",
   "id": "cff3a152-b5f7-4a60-94f1-d239a95311d1",
   "metadata": {},
   "source": [
    "Problem 5: Product Inventory Create classes representing a product and an inventory system. Implement methods to add products to the inventory, update product quantity, and display available products."
   ]
  },
  {
   "cell_type": "code",
   "execution_count": 10,
   "id": "d3132e1c-85db-45f8-b7a8-c5703f727fac",
   "metadata": {},
   "outputs": [],
   "source": [
    "class Product:\n",
    "    def __init__(self,p_id,name,price,quantity):\n",
    "        self.p_id=p_id\n",
    "        self.name=name\n",
    "        self.price=price\n",
    "        self.quantity=quantity\n",
    "    \n",
    "    def get_product_info(self):\n",
    "        return {\"p_id\":self.p_id,\"name\":self.name,\"price\":self.price,\"quantity\":self.quantity}\n",
    "        \n",
    "class InventorySystem:\n",
    "    def __init__(self):\n",
    "        self.products=[]\n",
    "        self.p_id=1\n",
    "        \n",
    "    def add(self,name,price,quantity=0):\n",
    "        new=Product(self.p_id,name,price,quantity)\n",
    "        self.products.append(new)\n",
    "        self.p_id+=1\n",
    "        yield \"product added\"\n",
    "    \n",
    "    def get_all_products(self):\n",
    "        if self.products:\n",
    "            for product  in self.products:\n",
    "                yield product.get_product_info()\n",
    "        else :\n",
    "            yield \"No product added\"\n",
    "            \n",
    "    def update_quantity(self,p_id,quntity,increment=True):\n",
    "        for product in self.products:\n",
    "            if product.p_id==p_id:\n",
    "                if increment:\n",
    "                    product.quantity+=quntity\n",
    "                    yield f\"product quantity incremented for {product.name}\"\n",
    "                else :\n",
    "                    product.quantity-=quntity\n",
    "                    yield f\"product quantity decremented for {product.name}\"\n",
    "           \n",
    "        return \"Product id not found\"\n",
    "    "
   ]
  },
  {
   "cell_type": "code",
   "execution_count": 11,
   "id": "9aaa926d-762c-4926-95f6-9614c5b8e2c4",
   "metadata": {},
   "outputs": [
    {
     "name": "stdout",
     "output_type": "stream",
     "text": [
      "product added\n",
      "product added\n",
      "{'p_id': 1, 'name': 'Nirma Soap', 'price': 100, 'quantity': 0} {'p_id': 2, 'name': 'Kurkure', 'price': 20, 'quantity': 0}\n",
      "product quantity incremented for Kurkure\n",
      "product quantity incremented for Nirma Soap\n",
      "{'p_id': 1, 'name': 'Nirma Soap', 'price': 100, 'quantity': 33} {'p_id': 2, 'name': 'Kurkure', 'price': 20, 'quantity': 112}\n",
      "product quantity decremented for Nirma Soap\n",
      "{'p_id': 1, 'name': 'Nirma Soap', 'price': 100, 'quantity': 23} {'p_id': 2, 'name': 'Kurkure', 'price': 20, 'quantity': 112}\n"
     ]
    }
   ],
   "source": [
    "IS=InventorySystem()\n",
    "print(*IS.add(\"Nirma Soap\",100))\n",
    "print(*IS.add(\"Kurkure\",20))\n",
    "print(*IS.get_all_products())\n",
    "print(*IS.update_quantity(p_id=2,quntity=112))\n",
    "print(*IS.update_quantity(p_id=1,quntity=33))\n",
    "print(*IS.get_all_products())\n",
    "print(*IS.update_quantity(p_id=1,quntity=10,increment=False))\n",
    "print(*IS.get_all_products())"
   ]
  },
  {
   "cell_type": "markdown",
   "id": "8522e156-20f9-4775-b51a-71d52dbd93c8",
   "metadata": {},
   "source": [
    "Problem 6: Shape Calculation Create a class representing a shape with attributes like length, width, and height. Implement methods to calculate the area and perimeter of the shape."
   ]
  },
  {
   "cell_type": "code",
   "execution_count": null,
   "id": "7c34c70a-c039-4d73-b07a-55d2fb7de492",
   "metadata": {},
   "outputs": [],
   "source": [
    "class Shape:\n",
    "    def __init__(self, length, width, height):\n",
    "        self.length = length\n",
    "        self.width = width\n",
    "        self.height = height\n",
    "\n",
    "    def calculate_area(self):\n",
    "        raise NotImplementedError(\"Subclasses should implement this method.\")\n",
    "\n",
    "    def calculate_perimeter(self):\n",
    "        raise NotImplementedError(\"Subclasses should implement this method.\")\n",
    "\n",
    "class Rectangle(Shape):\n",
    "    def calculate_area(self):\n",
    "        return self.length * self.width\n",
    "\n",
    "    def calculate_perimeter(self):\n",
    "        return 2 * (self.length + self.width)\n",
    "\n",
    "class Square(Shape):\n",
    "    def calculate_area(self):\n",
    "        return self.length * self.length\n",
    "\n",
    "    def calculate_perimeter(self):\n",
    "        return 4 * self.length\n",
    "\n",
    "class Triangle(Shape):\n",
    "    def calculate_area(self):\n",
    "        return 0.5 * self.base * self.height\n",
    "\n",
    "    def calculate_perimeter(self):\n",
    "        return self.length + self.width + self.height\n",
    "\n",
    "rectangle = Rectangle(5, 10, 0)\n",
    "print(f\"Rectangle area: {rectangle.calculate_area()}\")\n",
    "print(f\"Rectangle perimeter: {rectangle.calculate_perimeter()}\")\n",
    "\n",
    "square = Square(5, 0, 0)\n",
    "print(f\"Square area: {square.calculate_area()}\")\n",
    "print(f\"Square perimeter: {square.calculate_perimeter()}\")\n",
    "\n",
    "triangle = Triangle(0, 0, 5, 10)\n",
    "print(f\"Triangle area: {triangle.calculate_area()}\")\n",
    "print(f\"Triangle perimeter: {triangle.calculate_perimeter()}\")\n"
   ]
  },
  {
   "cell_type": "markdown",
   "id": "6034c60e-227a-4b07-82b9-77822dc7c467",
   "metadata": {},
   "source": [
    "Problem 7: Student Management Create a class representing a student with attributes like student ID, name, and grades. Implement methods to calculate the average grade and display student details."
   ]
  },
  {
   "cell_type": "code",
   "execution_count": 5,
   "id": "d38fc20b-f3e1-4cb7-bf1e-ffe08eecd1c5",
   "metadata": {},
   "outputs": [
    {
     "ename": "AttributeError",
     "evalue": "'student' object has no attribute 'get_avg_grade'",
     "output_type": "error",
     "traceback": [
      "\u001b[0;31m---------------------------------------------------------------------------\u001b[0m",
      "\u001b[0;31mAttributeError\u001b[0m                            Traceback (most recent call last)",
      "Cell \u001b[0;32mIn[5], line 11\u001b[0m\n\u001b[1;32m      9\u001b[0m         \u001b[38;5;28;01mreturn\u001b[39;00m \u001b[38;5;124mf\u001b[39m\u001b[38;5;124m\"\u001b[39m\u001b[38;5;132;01m{\u001b[39;00m\u001b[38;5;28mself\u001b[39m\u001b[38;5;241m.\u001b[39ms_id\u001b[38;5;132;01m}\u001b[39;00m\u001b[38;5;124m | \u001b[39m\u001b[38;5;132;01m{\u001b[39;00m\u001b[38;5;28mself\u001b[39m\u001b[38;5;241m.\u001b[39mname\u001b[38;5;132;01m}\u001b[39;00m\u001b[38;5;124m | \u001b[39m\u001b[38;5;132;01m{\u001b[39;00m\u001b[38;5;28mself\u001b[39m\u001b[38;5;241m.\u001b[39mgrades\u001b[38;5;132;01m}\u001b[39;00m\u001b[38;5;124m | \u001b[39m\u001b[38;5;132;01m{\u001b[39;00m\u001b[38;5;28mself\u001b[39m\u001b[38;5;241m.\u001b[39m__get_avg_grade()\u001b[38;5;132;01m}\u001b[39;00m\u001b[38;5;124m\"\u001b[39m\n\u001b[1;32m     10\u001b[0m x\u001b[38;5;241m=\u001b[39mstudent(\u001b[38;5;241m1\u001b[39m,\u001b[38;5;124m\"\u001b[39m\u001b[38;5;124mMohit\u001b[39m\u001b[38;5;124m\"\u001b[39m,[\u001b[38;5;241m1\u001b[39m,\u001b[38;5;241m2\u001b[39m,\u001b[38;5;241m3\u001b[39m,\u001b[38;5;241m4\u001b[39m,\u001b[38;5;241m5\u001b[39m])\n\u001b[0;32m---> 11\u001b[0m \u001b[43mx\u001b[49m\u001b[38;5;241;43m.\u001b[39;49m\u001b[43mget_avg_grade\u001b[49m()\n",
      "\u001b[0;31mAttributeError\u001b[0m: 'student' object has no attribute 'get_avg_grade'"
     ]
    }
   ],
   "source": [
    "class student:\n",
    "    def __init__(self,s_id,name,grades):\n",
    "        self.s_id=s_id\n",
    "        self.name=name\n",
    "        self.grades=grades\n",
    "    def __get_avg_grade(self):\n",
    "        return sum(self.grades)/len(self.grades)\n",
    "    def __get_info(self):\n",
    "        return f\"{self.s_id} | {self.name} | {self.grades} | {self.__get_avg_grade()}\"\n",
    "    def __str__(self):\n",
    "        return self.__get_info()\n",
    "x=student(1,\"Mohit\",[1,2,3,4,5])\n"
   ]
  },
  {
   "cell_type": "markdown",
   "id": "8a36b606-1152-4a22-aad5-25521b173ec7",
   "metadata": {},
   "source": [
    "Problem 8: Email Management Create a class representing an email with attributes like sender, recipient, and subject. Implement methods to send an email and display email details."
   ]
  },
  {
   "cell_type": "code",
   "execution_count": 3,
   "id": "3b718072-5aed-4f48-b704-3f1eabc92c13",
   "metadata": {},
   "outputs": [],
   "source": [
    "class email:\n",
    "    def __init__(self,sender,recipient,subject,body):\n",
    "        self.sender=sender\n",
    "        self.recipient=recipient\n",
    "        self.subject=subject\n",
    "        self.body=body\n",
    "    def get_info(self):\n",
    "        return {\"sender\":self.sender,\"recipient\":self.recipient,\"subject\":self.subject,\"body\":self.body}\n",
    "\n",
    "class EMS:\n",
    "    def __init__(self):\n",
    "        pass\n",
    "    def send_mail(self,sender,recipient,subject,body):\n",
    "        new=email(sender,recipient,subject,body)\n",
    "        return new.get_info()\n",
    "        "
   ]
  },
  {
   "cell_type": "code",
   "execution_count": 4,
   "id": "7adb4884-42f6-47c0-a18f-d5e7a8c79b4b",
   "metadata": {},
   "outputs": [
    {
     "data": {
      "text/plain": [
       "{'sender': 'mohit@eee.com',\n",
       " 'recipient': 'as@eee.com',\n",
       " 'subject': 'test',\n",
       " 'body': 'testdex'}"
      ]
     },
     "execution_count": 4,
     "metadata": {},
     "output_type": "execute_result"
    }
   ],
   "source": [
    "ems=EMS()\n",
    "ems.send_mail(\"mohit@eee.com\",\"as@eee.com\",\"test\",\"testdex\")"
   ]
  },
  {
   "cell_type": "markdown",
   "id": "483b5d96-cfe5-4030-8e64-4da629ce85d5",
   "metadata": {},
   "source": [
    "Problem 9: Social Media Profile Create a class representing a social media profile with attributes like username and posts. Implement methods to add posts, display posts, and search for posts by keyword."
   ]
  },
  {
   "cell_type": "code",
   "execution_count": 12,
   "id": "41a2375a-9b21-4475-bb26-05c893f0c001",
   "metadata": {},
   "outputs": [
    {
     "name": "stdout",
     "output_type": "stream",
     "text": [
      "Posts for JohnDoe:\n",
      "Post 1: Hello, this is my first post!\n",
      "Post 2: I'm enjoying using this social media platform.\n",
      "Post 3: Today's weather is great. #sunnyday\n",
      "Posts containing the keyword 'first':\n",
      "Post 1: Hello, this is my first post!\n",
      "Posts containing the keyword 'weather':\n",
      "Post 1: Today's weather is great. #sunnyday\n",
      "No posts found containing the keyword 'vacation'.\n"
     ]
    }
   ],
   "source": [
    "class SocialMediaProfile:\n",
    "    def __init__(self, username):\n",
    "        self.username = username\n",
    "        self.posts = []\n",
    "\n",
    "    def add_post(self, post_content):\n",
    "        self.posts.append(post_content)\n",
    "\n",
    "    def display_posts(self):\n",
    "        if not self.posts:\n",
    "            print(\"No posts to display.\")\n",
    "        else:\n",
    "            print(f\"Posts for {self.username}:\")\n",
    "            for i, post in enumerate(self.posts, start=1):\n",
    "                print(f\"Post {i}: {post}\")\n",
    "\n",
    "    def search_posts(self, keyword):\n",
    "        matched_posts = [post for post in self.posts if keyword in post]\n",
    "        if not matched_posts:\n",
    "            print(f\"No posts found containing the keyword '{keyword}'.\")\n",
    "        else:\n",
    "            print(f\"Posts containing the keyword '{keyword}':\")\n",
    "            for i, post in enumerate(matched_posts, start=1):\n",
    "                print(f\"Post {i}: {post}\")\n",
    "\n",
    "profile = SocialMediaProfile(\"JohnDoe\")\n",
    "profile.add_post(\"Hello, this is my first post!\")\n",
    "profile.add_post(\"I'm enjoying using this social media platform.\")\n",
    "profile.add_post(\"Today's weather is great. #sunnyday\")\n",
    "\n",
    "profile.display_posts()\n",
    "\n",
    "profile.search_posts(\"first\")\n",
    "profile.search_posts(\"weather\")\n",
    "profile.search_posts(\"vacation\")\n"
   ]
  },
  {
   "cell_type": "markdown",
   "id": "83288c50-5eb5-4e0b-b8f5-272e8963017f",
   "metadata": {
    "tags": []
   },
   "source": [
    "Problem 10: ToDo List Create a class representing a ToDo list with attributes like tasks and due dates. Implement methods to add tasks, mark tasks as completed, and display pending tasks."
   ]
  },
  {
   "cell_type": "code",
   "execution_count": 20,
   "id": "3d8e51b6-71ce-4323-9b0d-5fda85a7b1e6",
   "metadata": {},
   "outputs": [],
   "source": [
    "class Task:\n",
    "    def __init__(self,task_id,task_name,task_due_date):\n",
    "        self.task_id=task_id\n",
    "        self.task_name=task_name\n",
    "        self.task_due_date=task_due_date\n",
    "        self.is_completed=False\n",
    "    \n",
    "    def get_info(self):\n",
    "        return {\"task_id\":self.task_id,\"task_name\":self.task_name,\"task_due_date\":self.task_due_date ,\\\n",
    "                \"is_completed\":self.is_completed}\n",
    "    \n",
    "class TaskManager:\n",
    "    def __init__(self):\n",
    "        self.tasks=[]\n",
    "        self.task_id=1\n",
    "        \n",
    "    def add_task(self,task_name,task_due_date):\n",
    "        new=Task(self.task_id,task_name,task_due_date)\n",
    "        self.tasks.append(new)\n",
    "        self.task_id+=1\n",
    "    \n",
    "    def mark_task(self,task_id):\n",
    "        for task in self.tasks:\n",
    "            if task.task_id==task_id:\n",
    "                task.is_completed=True\n",
    "                return f\"Task {task.task_name} marked as complete\"\n",
    "        else :\n",
    "            return f\"No task found with id {task_id}\"\n",
    "        \n",
    "    def view_task(self):\n",
    "        for task in self.tasks:\n",
    "            if task.is_completed==False:\n",
    "                yield task.get_info()"
   ]
  },
  {
   "cell_type": "code",
   "execution_count": 29,
   "id": "714966bd-fa60-4fec-91ee-c808750891e2",
   "metadata": {},
   "outputs": [
    {
     "name": "stdout",
     "output_type": "stream",
     "text": [
      "None\n",
      "None\n",
      "{'task_id': 1, 'task_name': 'Add Books to almira', 'task_due_date': '10-Feb-2023', 'is_completed': False} {'task_id': 2, 'task_name': 'Iron cloths', 'task_due_date': '20-Feb-2023', 'is_completed': False} No pending tasks\n",
      "Task Add Books to almira marked as complete\n",
      "{'task_id': 2, 'task_name': 'Iron cloths', 'task_due_date': '20-Feb-2023', 'is_completed': False} No pending tasks\n"
     ]
    }
   ],
   "source": [
    "tm=TaskManager()\n",
    "print(tm.add_task(\"Add Books to almira\",\"10-Feb-2023\"))\n",
    "print(tm.add_task(\"Iron cloths\",\"20-Feb-2023\"))\n",
    "print(*tm.view_task())\n",
    "print(tm.mark_task(1))\n",
    "print(*tm.view_task())"
   ]
  },
  {
   "cell_type": "code",
   "execution_count": null,
   "id": "80e90749-e421-437d-8e2c-0f5fe3edab7a",
   "metadata": {},
   "outputs": [],
   "source": []
  },
  {
   "cell_type": "code",
   "execution_count": null,
   "id": "867a22ef-eac1-4f36-8ff7-5a930f430bec",
   "metadata": {},
   "outputs": [],
   "source": []
  }
 ],
 "metadata": {
  "kernelspec": {
   "display_name": "Python 3 (ipykernel)",
   "language": "python",
   "name": "python3"
  },
  "language_info": {
   "codemirror_mode": {
    "name": "ipython",
    "version": 3
   },
   "file_extension": ".py",
   "mimetype": "text/x-python",
   "name": "python",
   "nbconvert_exporter": "python",
   "pygments_lexer": "ipython3",
   "version": "3.10.8"
  }
 },
 "nbformat": 4,
 "nbformat_minor": 5
}

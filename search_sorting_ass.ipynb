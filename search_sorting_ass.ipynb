{
 "cells": [
  {
   "cell_type": "markdown",
   "id": "35da4aa9-99c4-40b4-885f-abf4263a2b5f",
   "metadata": {},
   "source": [
    "Problem 1 : Find the Rotation Count in Rotated Sorted array Input: arr[] = {15, 18, 2, 3, 6, 12} Output: 2 Explanation: Initial array must be {2, 3, 6, 12, 15, 18}. We get the given array after rotating the initial array twice."
   ]
  },
  {
   "cell_type": "code",
   "execution_count": 7,
   "id": "32bc37a3-4544-446a-914a-712931ff5a3e",
   "metadata": {},
   "outputs": [
    {
     "data": {
      "text/plain": [
       "4"
      ]
     },
     "execution_count": 7,
     "metadata": {},
     "output_type": "execute_result"
    }
   ],
   "source": [
    "def countOfRotation(arr):\n",
    "    # min=arr[0]\n",
    "    index=0\n",
    "    for i in range(1,len(arr)):\n",
    "        if arr[index]>arr[i]:\n",
    "            index=i\n",
    "    return index\n",
    "countOfRotation([18,22,89,99,2,3,6,12])"
   ]
  },
  {
   "cell_type": "markdown",
   "id": "87b344fe-3cc5-440e-a380-e184e3c45a5a",
   "metadata": {},
   "source": [
    "Assignment 1 : Solve the same above problem with linear search approach | Tier 2 companies"
   ]
  },
  {
   "cell_type": "code",
   "execution_count": 21,
   "id": "8586161d-a2af-495e-8420-584ba80f5742",
   "metadata": {},
   "outputs": [
    {
     "data": {
      "text/plain": [
       "2"
      ]
     },
     "execution_count": 21,
     "metadata": {},
     "output_type": "execute_result"
    }
   ],
   "source": [
    "def countOfRotation(arr):\n",
    "    for i in range(1,len(arr)):\n",
    "        if arr[i-1]>arr[i]:\n",
    "            return i\n",
    "    return 0\n",
    "countOfRotation([14,17,2])"
   ]
  },
  {
   "cell_type": "markdown",
   "id": "0d22e458-fb64-4f65-b783-7c066741bce1",
   "metadata": {},
   "source": [
    "\n",
    "\n",
    "Assignment 2: Solve the same problem with Binary Search Approach | FAANG"
   ]
  },
  {
   "cell_type": "code",
   "execution_count": 34,
   "id": "2d6ddc0b-4b25-437c-8297-34a694eaccc2",
   "metadata": {},
   "outputs": [
    {
     "data": {
      "text/plain": [
       "0"
      ]
     },
     "execution_count": 34,
     "metadata": {},
     "output_type": "execute_result"
    }
   ],
   "source": [
    "def binarySearch(arr,l,r):\n",
    "    if l>r:\n",
    "        return -1\n",
    "    mid=l+(r-l)//2\n",
    "    # print(l,r,mid,arr[mid])\n",
    "    if arr[mid-1]>arr[mid]<arr[mid+1]:\n",
    "        return mid\n",
    "    elif arr[mid] > arr[r]:\n",
    "        return binarySearch(arr,mid+1,r)\n",
    "    else:\n",
    "        return binarySearch(arr,l,mid-1)\n",
    "binarySearch([2,3,6,12],0,3)"
   ]
  },
  {
   "cell_type": "markdown",
   "id": "18fe3dcf-d3b8-438e-856f-1a46c7687893",
   "metadata": {},
   "source": [
    "Problem 2 : Given an array of integers, print the array in such a way that the first element is first maximum and second element is first minimum and so on. Examples : Input : arr[] = {7, 1, 2, 3, 4, 5, 6} Output : 7 1 6 2 5 3 4\n",
    "\n"
   ]
  },
  {
   "cell_type": "code",
   "execution_count": 1,
   "id": "5c15fa83-f60b-4b40-8d0b-9638bcf37ddd",
   "metadata": {},
   "outputs": [
    {
     "name": "stdout",
     "output_type": "stream",
     "text": [
      "1 7 2 6 3 5 4\n"
     ]
    }
   ],
   "source": [
    "x=[7, 1, 2, 3, 4, 5, 6]\n",
    "def boublesort(arr):\n",
    "    for i in range(len(arr)):\n",
    "        for j in range(1,len(arr)-i):\n",
    "            if arr[j-1]>arr[j]:\n",
    "                arr[j-1],arr[j]=arr[j],arr[j-1]\n",
    "    return arr\n",
    "\n",
    "new=boublesort(x)    \n",
    "l=0\n",
    "r=len(new)-1\n",
    "while l<=r:\n",
    "    if l==r:\n",
    "        print(new[l])\n",
    "    else:\n",
    "        print(new[l],new[r],end=\" \")\n",
    "    l+=1\n",
    "    r-=1"
   ]
  },
  {
   "cell_type": "markdown",
   "id": "4550c06b-d205-4cea-8f88-d9e411a9561b",
   "metadata": {},
   "source": [
    "Problem 3 : Sort an array in wave form Given an unsorted array of integers, sort the array into a wave like array. An array ‘arr[0..n-1]’ is sorted in wave form if arr[0] >= arr[1] <= arr[2] >= arr[3] <= arr[4] >= ….. Examples: Input: arr[] = {10, 5, 6, 3, 2, 20, 100, 80} Output: arr[] = {10, 5, 6, 2, 20, 3, 100, 80} OR {20, 5, 10, 2, 80, 6, 100, 3} OR any other array that is in wave form"
   ]
  },
  {
   "cell_type": "code",
   "execution_count": 32,
   "id": "e4d96f1f-3cd4-438e-8f40-bcb3e5962a50",
   "metadata": {},
   "outputs": [],
   "source": [
    "arr=boublesort([10, 5, 6, 2, 20, 3, 100, 80])"
   ]
  },
  {
   "cell_type": "code",
   "execution_count": 33,
   "id": "be84ad79-f719-4837-8e12-e0d9bca7e22d",
   "metadata": {},
   "outputs": [
    {
     "name": "stdout",
     "output_type": "stream",
     "text": [
      "[2, 5, 3, 10, 6, 80, 20, 100]\n"
     ]
    }
   ],
   "source": [
    "p=1\n",
    "while p<len(arr)-1:\n",
    "    # print(p)\n",
    "    arr[p],arr[p+1]=arr[p+1],arr[p]\n",
    "    # print(arr)\n",
    "    p+=2\n",
    "print(arr)"
   ]
  },
  {
   "cell_type": "code",
   "execution_count": 6,
   "id": "e2a0fce0-ffe7-42ac-9e7b-dfd32e647cca",
   "metadata": {},
   "outputs": [],
   "source": [
    "new=[10, 5, 6, 2, 20, 3, 100, 80,10]\n",
    "# for i in range(len(arr)):\n",
    "#     if i%"
   ]
  },
  {
   "cell_type": "markdown",
   "id": "5469f285-4fec-4160-93e6-33d4e8c5c104",
   "metadata": {},
   "source": [
    "Assignment 3 : Write the code we discussed in class woth O(n2) complexity"
   ]
  },
  {
   "cell_type": "code",
   "execution_count": 10,
   "id": "a971b90b-8e0a-48c3-8a01-94cb65fa3479",
   "metadata": {},
   "outputs": [
    {
     "name": "stdout",
     "output_type": "stream",
     "text": [
      "0\n",
      "2\n",
      "4\n",
      "6\n",
      "8\n",
      "[6, 10, 5, 20, 2, 100, 3, 80, 10]\n"
     ]
    }
   ],
   "source": [
    "i=0\n",
    "while i<len(new):\n",
    "    print(i)\n",
    "    if i>0 and new[i]>new[i-1]:\n",
    "        new[i],new[i-1]=new[i-1],new[i]\n",
    "    if i<(len(new)-1) and new[i]>new[i+1]:\n",
    "        new[i],new[i+1]=new[i+1],new[i]\n",
    "    i=i+2\n",
    "print(new)"
   ]
  },
  {
   "cell_type": "markdown",
   "id": "0bbb3a89-568b-41f0-bb93-fb76b4610ff3",
   "metadata": {},
   "source": [
    "\n",
    "Problem 4 : Merge an array of size n into another array of size m+n in sorted order"
   ]
  },
  {
   "cell_type": "code",
   "execution_count": 25,
   "id": "cd6dcf42-d350-4557-af99-973bb8d53ce0",
   "metadata": {},
   "outputs": [
    {
     "name": "stdout",
     "output_type": "stream",
     "text": [
      "[2, 4, 4, 7, 9, 10, 11, 16]\n"
     ]
    }
   ],
   "source": [
    "x=[4,7,11]\n",
    "y=[2,4,9,10,16,\"\",\"\",\"\"]\n",
    "i=len(x)-1\n",
    "j=4\n",
    "pointer=i<len(x) if len(x)>len(y) else len(y)-1\n",
    "\n",
    "while i>-1 and j>-1 :\n",
    "    if i<len(x) and j<len(y):\n",
    "        if x[i]>y[j]:\n",
    "            y[pointer]=x[i]\n",
    "            # pointer-=1\n",
    "            i-=1\n",
    "        else :\n",
    "            y[pointer]=y[j]\n",
    "            j-=1\n",
    "    pointer-=1\n",
    "\n",
    "while i>-1:\n",
    "    y[pointer]=x[i]\n",
    "    i-=1\n",
    "while j>-1:\n",
    "    y[pointer]=y[j]\n",
    "    j-=1\n",
    "print(y)"
   ]
  },
  {
   "cell_type": "markdown",
   "id": "1aa3a494-3a6f-4520-a84e-b657185ac68a",
   "metadata": {},
   "source": [
    "Assignment Problem 5 : Sort an array containing two types of elements We are given an array of 0s and 1s in random order. Segregate 0s on left side and 1s on right side of the array. Traverse array only once. Examples: Input : arr[] = [0, 1, 0, 1, 0, 0, 1, 1, 1, 0] Output : arr[] = [0, 0, 0, 0, 0, 1, 1, 1, 1, 1]"
   ]
  },
  {
   "cell_type": "code",
   "execution_count": 2,
   "id": "4119b581-4433-43c6-95fd-c8922040105c",
   "metadata": {},
   "outputs": [],
   "source": [
    "arr= [0, 1, 0, 1, 0, 0, 1, 1, 1, 0]\n",
    "# c=0\n",
    "# for i in arr:\n",
    "#     if i==0:\n",
    "#         c+=1\n",
    "# for i in range(len(arr)):\n",
    "#     if i<c:\n",
    "#         arr[i]=0\n",
    "#     else :\n",
    "#         arr[i]=1"
   ]
  },
  {
   "cell_type": "code",
   "execution_count": 8,
   "id": "9c72e88c-729c-4cb8-80e8-734fed0ebae9",
   "metadata": {},
   "outputs": [
    {
     "name": "stdout",
     "output_type": "stream",
     "text": [
      "[0, 0, 0, 0, 1, 1, 1, 1, 1, 1, 1, 1, 1]\n"
     ]
    }
   ],
   "source": [
    "arr= [0, 1, 0, 1, 1,1,1,1, 0, 1, 1, 1, 0]\n",
    "l=0\n",
    "r=len(arr)-1\n",
    "while l<r:\n",
    "    if arr[l]!=1:\n",
    "        l+=1\n",
    "    if arr[r]!=0:\n",
    "        r-=1\n",
    "    if arr[l]==1 and arr[r]==0:\n",
    "        arr[l],arr[r]=arr[r],arr[l]\n",
    "    # l+=1\n",
    "    # r-=1\n",
    "print(arr)"
   ]
  },
  {
   "cell_type": "code",
   "execution_count": null,
   "id": "09591234-8b08-46c8-b158-67d407a89f18",
   "metadata": {},
   "outputs": [],
   "source": []
  }
 ],
 "metadata": {
  "kernelspec": {
   "display_name": "Python 3 (ipykernel)",
   "language": "python",
   "name": "python3"
  },
  "language_info": {
   "codemirror_mode": {
    "name": "ipython",
    "version": 3
   },
   "file_extension": ".py",
   "mimetype": "text/x-python",
   "name": "python",
   "nbconvert_exporter": "python",
   "pygments_lexer": "ipython3",
   "version": "3.10.8"
  }
 },
 "nbformat": 4,
 "nbformat_minor": 5
}

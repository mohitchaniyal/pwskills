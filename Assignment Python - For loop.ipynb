{
 "cells": [
  {
   "cell_type": "markdown",
   "id": "ed9779b6-b5d2-4576-8633-09f57077cc76",
   "metadata": {},
   "source": [
    "#### Basic Level:"
   ]
  },
  {
   "cell_type": "markdown",
   "id": "ddc64e0a-f356-4a0c-82ac-475a57d2f7b0",
   "metadata": {},
   "source": [
    "1. Write a Python program to print the numbers from 1 to 10 using a `for` loop."
   ]
  },
  {
   "cell_type": "code",
   "execution_count": 1,
   "id": "b5b34a03-ff42-46d4-ada0-7d7a4c68a42c",
   "metadata": {},
   "outputs": [
    {
     "name": "stdout",
     "output_type": "stream",
     "text": [
      "1\n",
      "2\n",
      "3\n",
      "4\n",
      "5\n",
      "6\n",
      "7\n",
      "8\n",
      "9\n",
      "10\n"
     ]
    }
   ],
   "source": [
    "for i in range(1,11):\n",
    "    print(i)"
   ]
  },
  {
   "cell_type": "markdown",
   "id": "025faa10-d4cc-41ff-9d30-d88812a54726",
   "metadata": {},
   "source": [
    "2. Create a program that calculates the sum of all numbers in a list using a `for` loop."
   ]
  },
  {
   "cell_type": "code",
   "execution_count": 2,
   "id": "106bbc61-ec4d-442f-afe6-a1d48799303b",
   "metadata": {},
   "outputs": [
    {
     "data": {
      "text/plain": [
       "15"
      ]
     },
     "execution_count": 2,
     "metadata": {},
     "output_type": "execute_result"
    }
   ],
   "source": [
    "l=[1,2,3,4,5]\n",
    "s=0\n",
    "for i in l:\n",
    "    s+=i\n",
    "s"
   ]
  },
  {
   "cell_type": "markdown",
   "id": "1d1e35bd-5676-421f-ae59-438cb4800fff",
   "metadata": {},
   "source": [
    "3. Write a program to print the characters of a string in reverse order using a `for` loop."
   ]
  },
  {
   "cell_type": "code",
   "execution_count": 13,
   "id": "ced74ef3-1f1d-43b7-8799-3a5fd28db577",
   "metadata": {},
   "outputs": [
    {
     "name": "stdout",
     "output_type": "stream",
     "text": [
      "g\n",
      "f\n",
      "e\n",
      "d\n",
      "c\n",
      "b\n",
      "a\n"
     ]
    }
   ],
   "source": [
    "s=\"abcdefg\"\n",
    "for i in range(len(s)):\n",
    "    print(s[len(s)-i-1])"
   ]
  },
  {
   "cell_type": "markdown",
   "id": "94a457c1-3ae0-485a-9daa-f34c46bc6f90",
   "metadata": {},
   "source": [
    "4. Develop a program that finds the factorial of a given number using a `for` loop."
   ]
  },
  {
   "cell_type": "code",
   "execution_count": 16,
   "id": "cee90d8c-1e0a-4774-9d61-a139193461d4",
   "metadata": {},
   "outputs": [
    {
     "data": {
      "text/plain": [
       "120"
      ]
     },
     "execution_count": 16,
     "metadata": {},
     "output_type": "execute_result"
    }
   ],
   "source": [
    "n=5\n",
    "fac=1\n",
    "for i in range(1,n+1):\n",
    "    fac*=i\n",
    "fac"
   ]
  },
  {
   "cell_type": "markdown",
   "id": "eb7856b9-4dd1-49ad-ba16-e21c46d1a3ab",
   "metadata": {},
   "source": [
    "5. Create a program to print the multiplication table of a given number using a `for` loop."
   ]
  },
  {
   "cell_type": "code",
   "execution_count": 17,
   "id": "0b01955b-9d2f-4bae-ac64-e1eeac3e5121",
   "metadata": {},
   "outputs": [
    {
     "name": "stdout",
     "output_type": "stream",
     "text": [
      "2\n",
      "4\n",
      "6\n",
      "8\n",
      "10\n",
      "12\n",
      "14\n",
      "16\n",
      "18\n",
      "20\n"
     ]
    }
   ],
   "source": [
    "n=2\n",
    "for i in range(1,11):\n",
    "    print(2*i)"
   ]
  },
  {
   "cell_type": "markdown",
   "id": "4c1cc93f-3338-469b-a51f-23f9bc26e970",
   "metadata": {},
   "source": [
    "6. Write a program that counts the number of even and odd numbers in a list using a `for` loop."
   ]
  },
  {
   "cell_type": "code",
   "execution_count": 18,
   "id": "5e12b51a-3d07-4719-9dc2-0ae022263639",
   "metadata": {},
   "outputs": [
    {
     "name": "stdout",
     "output_type": "stream",
     "text": [
      "4 4\n"
     ]
    }
   ],
   "source": [
    "li=[1,2,3,4,5,6,6,7]\n",
    "even=0\n",
    "odd=0\n",
    "for i in li:\n",
    "    if i%2==0:\n",
    "        even+=1\n",
    "    else :\n",
    "        odd+=1\n",
    "print(even,odd)"
   ]
  },
  {
   "cell_type": "markdown",
   "id": "24c85f76-93fb-4d86-9efd-8e6774d392d3",
   "metadata": {},
   "source": [
    "7. Develop a program that prints the squares of numbers from 1 to 5 using a `for` loop."
   ]
  },
  {
   "cell_type": "code",
   "execution_count": 19,
   "id": "28fa73ab-8098-4205-bc92-575ad3cf7ec7",
   "metadata": {},
   "outputs": [
    {
     "name": "stdout",
     "output_type": "stream",
     "text": [
      "1\n",
      "4\n",
      "9\n",
      "16\n",
      "25\n"
     ]
    }
   ],
   "source": [
    "for i in range(1,6):\n",
    "    print(i**2)"
   ]
  },
  {
   "cell_type": "markdown",
   "id": "da8517e8-279b-4026-aa1f-aefa26401f42",
   "metadata": {},
   "source": [
    "8. Create a program to find the length of a string without using the `len()` function."
   ]
  },
  {
   "cell_type": "code",
   "execution_count": 22,
   "id": "fe40a1c9-1e1d-456f-97bb-2e2da1ad5607",
   "metadata": {},
   "outputs": [
    {
     "data": {
      "text/plain": [
       "7"
      ]
     },
     "execution_count": 22,
     "metadata": {},
     "output_type": "execute_result"
    }
   ],
   "source": [
    "le=0\n",
    "for i in s:\n",
    "    le+=1\n",
    "le"
   ]
  },
  {
   "cell_type": "markdown",
   "id": "5d11733a-1dc9-4857-a2d6-a54fcade51ab",
   "metadata": {},
   "source": [
    "9. Write a program that calculates the average of a list of numbers using a `for` loop."
   ]
  },
  {
   "cell_type": "code",
   "execution_count": 24,
   "id": "040eb4b2-6a14-47ac-9ff7-3c9803b5402d",
   "metadata": {},
   "outputs": [
    {
     "name": "stdout",
     "output_type": "stream",
     "text": [
      "3.0\n"
     ]
    }
   ],
   "source": [
    "s=0\n",
    "for i in l :\n",
    "    s+=i\n",
    "print(s/len(l))"
   ]
  },
  {
   "cell_type": "markdown",
   "id": "6665659e-3d61-4537-b372-9e1d19a97d0a",
   "metadata": {},
   "source": [
    "10. Develop a program that prints the first `n` Fibonacci numbers using a `for` loop."
   ]
  },
  {
   "cell_type": "code",
   "execution_count": 38,
   "id": "930d2986-97ce-4604-80ea-09d70ee286c5",
   "metadata": {},
   "outputs": [
    {
     "data": {
      "text/plain": [
       "[0, 1, 1, 2, 3, 5, 8, 13, 21, 34]"
      ]
     },
     "execution_count": 38,
     "metadata": {},
     "output_type": "execute_result"
    }
   ],
   "source": [
    "n=10\n",
    "fib_numbers = [0, 1] \n",
    "for i in range(2, n):\n",
    "    next_fib = fib_numbers[i - 1] + fib_numbers[i - 2]\n",
    "    fib_numbers.append(next_fib)\n",
    "fib_numbers"
   ]
  },
  {
   "cell_type": "markdown",
   "id": "d3fc631e-b409-4423-81a5-ea2fce8f95c0",
   "metadata": {},
   "source": [
    "#### Intermediate Level:"
   ]
  },
  {
   "cell_type": "code",
   "execution_count": null,
   "id": "d3edeab1-89f9-4efa-abe2-680e1d85b4bc",
   "metadata": {},
   "outputs": [],
   "source": [
    "11. Write a program to check if a given list contains any duplicates using a `for` loop."
   ]
  },
  {
   "cell_type": "code",
   "execution_count": 13,
   "id": "042b77fc-81af-4351-b1e3-2e640ba79d79",
   "metadata": {},
   "outputs": [
    {
     "data": {
      "text/plain": [
       "True"
      ]
     },
     "execution_count": 13,
     "metadata": {},
     "output_type": "execute_result"
    }
   ],
   "source": [
    "x=[0, 1, 2, 3, 5, 8, 13, 21, 34,1]\n",
    "duplicate=False\n",
    "for i,v in enumerate(x):\n",
    "    if v in x[0:i]+x[i+1:]:\n",
    "        duplicate=True\n",
    "        break\n",
    "duplicate"
   ]
  },
  {
   "cell_type": "code",
   "execution_count": null,
   "id": "ac108b08-45fd-4b74-8253-7ab105f2e214",
   "metadata": {},
   "outputs": [],
   "source": [
    "12. Create a program that prints the prime numbers in a given range using a `for` loop."
   ]
  },
  {
   "cell_type": "code",
   "execution_count": 40,
   "id": "ee8479a1-ba81-4169-93be-d590eb931028",
   "metadata": {},
   "outputs": [
    {
     "name": "stdout",
     "output_type": "stream",
     "text": [
      "2\n",
      "3\n",
      "4\n",
      "5\n",
      "7\n",
      "11\n",
      "13\n"
     ]
    }
   ],
   "source": [
    "n=15\n",
    "for i in range(2,n):\n",
    "    if i==2:\n",
    "        print(i)\n",
    "    for j in range(2,i):\n",
    "        if i%j==0 and j!=2:\n",
    "            break\n",
    "        elif j==i-1:\n",
    "            print(i)\n",
    "    \n",
    "        \n",
    "    "
   ]
  },
  {
   "cell_type": "code",
   "execution_count": null,
   "id": "d608f8c1-70a2-4349-8714-ab771f21e5c9",
   "metadata": {},
   "outputs": [],
   "source": [
    "13. Develop a program that counts the number of vowels in a string using a `for` loop."
   ]
  },
  {
   "cell_type": "code",
   "execution_count": 42,
   "id": "6a5afc03-6259-4c5c-afc9-50a187bb276f",
   "metadata": {},
   "outputs": [
    {
     "data": {
      "text/plain": [
       "4"
      ]
     },
     "execution_count": 42,
     "metadata": {},
     "output_type": "execute_result"
    }
   ],
   "source": [
    "s=\"asdefgfasahd\"\n",
    "count=0\n",
    "for i in s:\n",
    "    if i in \"aeiouAEIOU\":\n",
    "        count+=1\n",
    "count"
   ]
  },
  {
   "cell_type": "code",
   "execution_count": null,
   "id": "6e94eef5-7daa-47ba-a5a5-32b2e1f4ec8c",
   "metadata": {},
   "outputs": [],
   "source": [
    "14. Write a program to find the maximum element in a 2D list using a nested `for` loop."
   ]
  },
  {
   "cell_type": "code",
   "execution_count": 43,
   "id": "5954f9f6-282a-4580-833e-c3d86f9e1b67",
   "metadata": {},
   "outputs": [
    {
     "data": {
      "text/plain": [
       "33"
      ]
     },
     "execution_count": 43,
     "metadata": {},
     "output_type": "execute_result"
    }
   ],
   "source": [
    "l2=[[2,3,4,5],[33,4,5,6]]\n",
    "max_=0\n",
    "for i in l2:\n",
    "    for j in i :\n",
    "        if j>max_:\n",
    "            max_=j\n",
    "max_"
   ]
  },
  {
   "cell_type": "code",
   "execution_count": null,
   "id": "8fd2bf72-68cc-45dd-9bf7-81c1edaca665",
   "metadata": {},
   "outputs": [],
   "source": [
    "15. Create a program that removes all occurrences of a specific element from a list using a `for` loop."
   ]
  },
  {
   "cell_type": "code",
   "execution_count": 45,
   "id": "1e7766c0-a42a-4885-9a6b-805a7b6b480f",
   "metadata": {},
   "outputs": [
    {
     "data": {
      "text/plain": [
       "[0, 1, 2, 3, 5, 8, 13, 21, 34]"
      ]
     },
     "execution_count": 45,
     "metadata": {},
     "output_type": "execute_result"
    }
   ],
   "source": [
    "new=[]\n",
    "for i in x:\n",
    "    if i not in new:\n",
    "        new.append(i)\n",
    "new"
   ]
  },
  {
   "cell_type": "code",
   "execution_count": null,
   "id": "049cba8f-dcc0-48a9-b1af-3eb2128f245d",
   "metadata": {},
   "outputs": [],
   "source": [
    "16. Develop a program that generates a multiplication table for numbers from 1 to 5 using a nested `for` loop."
   ]
  },
  {
   "cell_type": "code",
   "execution_count": 48,
   "id": "20daeab2-e37b-4627-8ad3-46ecb10694db",
   "metadata": {},
   "outputs": [
    {
     "name": "stdout",
     "output_type": "stream",
     "text": [
      "1x1= 1 1x2= 2 1x3= 3 1x4= 4 1x5= 5 1x6= 6 1x7= 7 1x8= 8 1x9= 9 1x10= 10 \n",
      "2x1= 2 2x2= 4 2x3= 6 2x4= 8 2x5= 10 2x6= 12 2x7= 14 2x8= 16 2x9= 18 2x10= 20 \n",
      "3x1= 3 3x2= 6 3x3= 9 3x4= 12 3x5= 15 3x6= 18 3x7= 21 3x8= 24 3x9= 27 3x10= 30 \n",
      "4x1= 4 4x2= 8 4x3= 12 4x4= 16 4x5= 20 4x6= 24 4x7= 28 4x8= 32 4x9= 36 4x10= 40 \n",
      "5x1= 5 5x2= 10 5x3= 15 5x4= 20 5x5= 25 5x6= 30 5x7= 35 5x8= 40 5x9= 45 5x10= 50 \n"
     ]
    }
   ],
   "source": [
    "for i in range(1,5+1):\n",
    "    for j in range(1,11):\n",
    "        print(f\"{i}x{j}=\",i*j,end=\" \")\n",
    "    print()"
   ]
  },
  {
   "cell_type": "code",
   "execution_count": null,
   "id": "d93f504b-0304-4418-aedc-d24e28b091bd",
   "metadata": {},
   "outputs": [],
   "source": [
    "17. Write a program that converts a list of Fahrenheit temperatures to Celsius using a `for` loop."
   ]
  },
  {
   "cell_type": "code",
   "execution_count": 49,
   "id": "dee4cac1-3e10-4ca2-b6df-26b66d4546ad",
   "metadata": {},
   "outputs": [
    {
     "data": {
      "text/plain": [
       "[-17.77777777777778,\n",
       " -17.22222222222222,\n",
       " -16.666666666666668,\n",
       " -16.11111111111111,\n",
       " -15.0,\n",
       " -13.333333333333334,\n",
       " -10.555555555555555,\n",
       " -6.111111111111112,\n",
       " 1.1111111111111112,\n",
       " -17.22222222222222]"
      ]
     },
     "execution_count": 49,
     "metadata": {},
     "output_type": "execute_result"
    }
   ],
   "source": [
    "[(f-32)*(5/9) for f in x]"
   ]
  },
  {
   "cell_type": "code",
   "execution_count": null,
   "id": "787839d8-f17c-494d-9af3-b50f47594a5c",
   "metadata": {},
   "outputs": [],
   "source": [
    "18. Create a program to print the common elements from two lists using a `for` loop."
   ]
  },
  {
   "cell_type": "code",
   "execution_count": 50,
   "id": "cf082b4e-960d-4aff-98d4-c55b531f25bc",
   "metadata": {},
   "outputs": [
    {
     "name": "stdout",
     "output_type": "stream",
     "text": [
      "1 2\n",
      "2 3\n",
      "3 4\n",
      "4 5\n",
      "5 7\n"
     ]
    }
   ],
   "source": [
    "a=[1,2,3,4,5]\n",
    "b=[2,3,4,5,7]\n",
    "for i,j in zip(a,b):\n",
    "    print(i,j)"
   ]
  },
  {
   "cell_type": "code",
   "execution_count": null,
   "id": "102b3f61-b8ec-4c81-b345-91771d7c6200",
   "metadata": {},
   "outputs": [],
   "source": [
    "19. Develop a program that prints the pattern of right-angled triangles using a `for` loop. Use ‘*’ to draw the\n",
    "pattern"
   ]
  },
  {
   "cell_type": "code",
   "execution_count": 51,
   "id": "69d93df7-2278-440c-820f-47d79b265dce",
   "metadata": {},
   "outputs": [
    {
     "name": "stdout",
     "output_type": "stream",
     "text": [
      "\n",
      "*\n",
      "**\n",
      "***\n",
      "****\n",
      "*****\n",
      "******\n",
      "*******\n",
      "********\n",
      "*********\n"
     ]
    }
   ],
   "source": [
    "for i in range(10):\n",
    "    print(\"*\"*i)"
   ]
  },
  {
   "cell_type": "code",
   "execution_count": 54,
   "id": "860c4609-f29a-4fbb-9550-3422b78094bd",
   "metadata": {},
   "outputs": [
    {
     "name": "stdout",
     "output_type": "stream",
     "text": [
      "           \n",
      "          *\n",
      "         **\n",
      "        ***\n",
      "       ****\n",
      "      *****\n",
      "     ******\n",
      "    *******\n",
      "   ********\n",
      "  *********\n"
     ]
    }
   ],
   "source": [
    "for i in range(10):\n",
    "    print(\" \"*(10-i),\"*\"*i)"
   ]
  },
  {
   "cell_type": "code",
   "execution_count": null,
   "id": "3c936742-6322-4925-b281-904137832676",
   "metadata": {},
   "outputs": [],
   "source": [
    "20. Write a program to find the greatest common divisor (GCD) of two numbers using a `for` loop."
   ]
  },
  {
   "cell_type": "code",
   "execution_count": 60,
   "id": "0e284166-7a3b-474b-afbb-c8873b942a3d",
   "metadata": {},
   "outputs": [
    {
     "data": {
      "text/plain": [
       "6"
      ]
     },
     "execution_count": 60,
     "metadata": {},
     "output_type": "execute_result"
    }
   ],
   "source": [
    "a=18\n",
    "b=12\n",
    "if a > b: \n",
    "    temp = b  \n",
    "else:  \n",
    "    temp = a  \n",
    "for i in range(1, temp + 1):  \n",
    "    if (( a % i == 0) and (b % i == 0 )):  \n",
    "        gcd = i  \n",
    "gcd"
   ]
  },
  {
   "cell_type": "markdown",
   "id": "a089bc59-9da9-4960-a893-01072ff25aa2",
   "metadata": {},
   "source": [
    "### Advanced Level:"
   ]
  },
  {
   "cell_type": "markdown",
   "id": "902faa7c-eb2b-4146-93e6-0e2e8f7a42dc",
   "metadata": {},
   "source": [
    "21. Create a program that calculates the sum of the digits of numbers in a list using a list comprehension."
   ]
  },
  {
   "cell_type": "code",
   "execution_count": 4,
   "id": "1d392f06-056e-45a1-9d48-c14a279862f7",
   "metadata": {},
   "outputs": [
    {
     "data": {
      "text/plain": [
       "[6, 8, 10, 11]"
      ]
     },
     "execution_count": 4,
     "metadata": {},
     "output_type": "execute_result"
    }
   ],
   "source": [
    "a=[24,35,46,56]\n",
    "[sum([int(i) for i in str(x)]) for x in a ]"
   ]
  },
  {
   "cell_type": "markdown",
   "id": "9c9fadb8-68b1-4c99-8225-3acf8996a4a6",
   "metadata": {},
   "source": [
    "22. Write a program to find the prime factors of a given number using a `for` loop and list comprehension."
   ]
  },
  {
   "cell_type": "code",
   "execution_count": 5,
   "id": "36ea5c4a-7e9b-4b08-a332-dea2e2a62ac8",
   "metadata": {},
   "outputs": [
    {
     "data": {
      "text/plain": [
       "[1, 2, 5, 10]"
      ]
     },
     "execution_count": 5,
     "metadata": {},
     "output_type": "execute_result"
    }
   ],
   "source": [
    "def find_factors(number):\n",
    "    factors = []\n",
    "    \n",
    "    for i in range(1, number + 1):\n",
    "        if number % i == 0:\n",
    "            factors.append(i)\n",
    "    return factors\n",
    "find_factors(10)"
   ]
  },
  {
   "cell_type": "code",
   "execution_count": null,
   "id": "931ffca2-bcc0-460f-9a73-fff9cb2702e4",
   "metadata": {},
   "outputs": [],
   "source": [
    "def find_hcf(x, y):\n",
    "    while y != 0:\n",
    "        x, y = y, x % y\n",
    "    return x\n",
    "\n",
    "# Function to find LCM of two numbers\n",
    "def find_lcm(x, y):\n",
    "    lcm = (x * y) // find_hcf(x, y)\n",
    "    return lcm"
   ]
  },
  {
   "cell_type": "markdown",
   "id": "9b04a45d-1eb6-4707-b7d9-8687ae1d26de",
   "metadata": {},
   "source": [
    "23. Develop a program that extracts unique elements from a list and stores them in a new list using a list\n",
    "comprehension."
   ]
  },
  {
   "cell_type": "code",
   "execution_count": 4,
   "id": "8abee8c0-0981-4a32-b7bd-bf2e0dc93db2",
   "metadata": {},
   "outputs": [
    {
     "data": {
      "text/plain": [
       "['b', 'u', 'r', 'w']"
      ]
     },
     "execution_count": 4,
     "metadata": {},
     "output_type": "execute_result"
    }
   ],
   "source": [
    "s=list(\"adsgasdsfasdbgfsurw\")\n",
    "y=[x for x in s if s.count(x)==1]\n",
    "y"
   ]
  },
  {
   "cell_type": "markdown",
   "id": "2ead9846-0341-4fdb-a0db-fa9c7f4f50ae",
   "metadata": {},
   "source": [
    "24. Create a program that generates a list of all palindromic numbers up to a specified limit using a list\n",
    "comprehension."
   ]
  },
  {
   "cell_type": "code",
   "execution_count": 20,
   "id": "01295378-19e7-44a9-aecc-28dc9fffc301",
   "metadata": {},
   "outputs": [
    {
     "data": {
      "text/plain": [
       "['11',\n",
       " '111',\n",
       " '22',\n",
       " '222',\n",
       " '33',\n",
       " '333',\n",
       " '44',\n",
       " '444',\n",
       " '55',\n",
       " '555',\n",
       " '66',\n",
       " '666',\n",
       " '77',\n",
       " '777',\n",
       " '88',\n",
       " '888',\n",
       " '99',\n",
       " '999']"
      ]
     },
     "execution_count": 20,
     "metadata": {},
     "output_type": "execute_result"
    }
   ],
   "source": [
    "[str(y)*x for y in range(1,10) for x in range(2,4)]"
   ]
  },
  {
   "cell_type": "markdown",
   "id": "8bde6456-8bf6-4ca4-bf1e-7798d6b0b3f8",
   "metadata": {},
   "source": [
    "25. Write a program to flatten a nested list using list comprehension."
   ]
  },
  {
   "cell_type": "code",
   "execution_count": 26,
   "id": "f95a4e8b-05d9-41ee-89ab-b54438ce1ddd",
   "metadata": {},
   "outputs": [
    {
     "data": {
      "text/plain": [
       "[1,\n",
       " 1,\n",
       " 23423,\n",
       " 34,\n",
       " 1,\n",
       " 1,\n",
       " 23423,\n",
       " 34,\n",
       " 1,\n",
       " 1,\n",
       " 23423,\n",
       " 34,\n",
       " 1,\n",
       " 1,\n",
       " 23423,\n",
       " 34,\n",
       " 1,\n",
       " 1,\n",
       " 23423,\n",
       " 34,\n",
       " 1,\n",
       " 1,\n",
       " 23423,\n",
       " 34,\n",
       " 1,\n",
       " 1,\n",
       " 23423,\n",
       " 34,\n",
       " 1,\n",
       " 1,\n",
       " 23423,\n",
       " 34,\n",
       " 1,\n",
       " 1,\n",
       " 23423,\n",
       " 34,\n",
       " 1,\n",
       " 1,\n",
       " 23423,\n",
       " 34]"
      ]
     },
     "execution_count": 26,
     "metadata": {},
     "output_type": "execute_result"
    }
   ],
   "source": [
    "l=[[12344,234,45],[234],23423,34]\n",
    "[  x if not isinstance(x,list) else y for y in x for x in l]"
   ]
  },
  {
   "cell_type": "markdown",
   "id": "b99e5908-2e63-419d-aed5-8bf1f84619ab",
   "metadata": {},
   "source": [
    "26. Develop a program that computes the sum of even and odd numbers in a list separately using list\n",
    "comprehension."
   ]
  },
  {
   "cell_type": "code",
   "execution_count": 31,
   "id": "37b60221-1d1a-4ddc-8591-93d7e8ed8ec9",
   "metadata": {},
   "outputs": [
    {
     "data": {
      "text/plain": [
       "(22, 127)"
      ]
     },
     "execution_count": 31,
     "metadata": {},
     "output_type": "execute_result"
    }
   ],
   "source": [
    "numbers=[1,3,4,5,6,7,8,9,99,3,4]\n",
    "even_sum, odd_sum = sum(x for x in numbers if x % 2 == 0), sum(x for x in numbers if x % 2 != 0)\n",
    "even_sum,odd_sum"
   ]
  },
  {
   "cell_type": "markdown",
   "id": "c3337151-fed9-43d3-a18d-462968e5ed3a",
   "metadata": {},
   "source": [
    "27. Create a program that generates a list of squares of odd numbers between 1 and 10 using list\n",
    "comprehension."
   ]
  },
  {
   "cell_type": "code",
   "execution_count": 32,
   "id": "bc24b31a-e664-4dec-ae4b-3b0c91fd5f76",
   "metadata": {},
   "outputs": [
    {
     "data": {
      "text/plain": [
       "[1, 9, 25, 49, 81]"
      ]
     },
     "execution_count": 32,
     "metadata": {},
     "output_type": "execute_result"
    }
   ],
   "source": [
    "[x**2 for x in range(1,11) if x%2!=0]"
   ]
  },
  {
   "cell_type": "markdown",
   "id": "31270a2a-6040-46c0-9d5d-5a6a8a468da1",
   "metadata": {},
   "source": [
    "28. Write a program that combines two lists into a dictionary using list comprehension."
   ]
  },
  {
   "cell_type": "code",
   "execution_count": 34,
   "id": "85fb75e8-175f-4f94-b747-82547581d7a8",
   "metadata": {},
   "outputs": [
    {
     "data": {
      "text/plain": [
       "{1: 'A', 2: 'B', 3: 'C', 4: 'D'}"
      ]
     },
     "execution_count": 34,
     "metadata": {},
     "output_type": "execute_result"
    }
   ],
   "source": [
    "x=[1,2,3,4,5]\n",
    "y=[\"A\",\"B\",\"C\",\"D\"]\n",
    "{a:b for a,b in zip(x,y)}"
   ]
  },
  {
   "cell_type": "markdown",
   "id": "b72da5c7-6e8b-4ce6-be47-f6a1ccfbbeb5",
   "metadata": {},
   "source": [
    "29. Develop a program that extracts the vowels from a string and stores them in a list using list comprehension."
   ]
  },
  {
   "cell_type": "code",
   "execution_count": 35,
   "id": "1f5d2de3-4fd2-4ed9-875e-1d96dea40243",
   "metadata": {},
   "outputs": [
    {
     "data": {
      "text/plain": [
       "['a', 'a', 'e', 'o', 'o', 'i', 'a', 'a', 'e', 'o', 'i', 'i']"
      ]
     },
     "execution_count": 35,
     "metadata": {},
     "output_type": "execute_result"
    }
   ],
   "source": [
    "a=\"asdfadgeoknosiadncaewtkoii\"\n",
    "[x for x in a if x in \"aeiouAEIOU\"]"
   ]
  },
  {
   "cell_type": "markdown",
   "id": "9bf26e76-d1a7-496f-967b-a51e21309761",
   "metadata": {},
   "source": [
    "30. Create a program that removes all non-numeric characters from a list of strings using list comprehension."
   ]
  },
  {
   "cell_type": "code",
   "execution_count": 36,
   "id": "144202e6-bf8e-4d6d-98b5-65404a4bdb65",
   "metadata": {},
   "outputs": [
    {
     "data": {
      "text/plain": [
       "['adf', 'Asdf', 'dfa']"
      ]
     },
     "execution_count": 36,
     "metadata": {},
     "output_type": "execute_result"
    }
   ],
   "source": [
    "a=[1,2,3,\"adf\",\"Asdf\",232,\"dfa\"]\n",
    "[x for x in a if not str(x).isnumeric()]"
   ]
  },
  {
   "cell_type": "markdown",
   "id": "9a23d8e1-acb6-4200-ab1f-1ddcb2db82ab",
   "metadata": {
    "tags": []
   },
   "source": [
    "### Challenge Level:"
   ]
  },
  {
   "cell_type": "markdown",
   "id": "eb678c9a-8230-4cfd-9f2d-0d9449a9b66c",
   "metadata": {},
   "source": [
    "31. Write a program to generate a list of prime numbers using the Sieve of Eratosthenes algorithm and list\n",
    "comprehension."
   ]
  },
  {
   "cell_type": "code",
   "execution_count": 46,
   "id": "01767bcb-484e-4532-9ca4-c729569280f9",
   "metadata": {},
   "outputs": [
    {
     "name": "stdout",
     "output_type": "stream",
     "text": [
      "2\n",
      "3\n",
      "5\n",
      "7\n"
     ]
    }
   ],
   "source": [
    "n=10\n",
    "prime=[True]*(n+1)\n",
    "for i in range(2,n+1):\n",
    "    if prime[i]==True:\n",
    "        for j in range(i*i,n+1,i):\n",
    "            prime[j]=False\n",
    "        \n",
    "for i,v in enumerate(prime):\n",
    "    if v and i>1:\n",
    "        print(i)"
   ]
  },
  {
   "cell_type": "code",
   "execution_count": 50,
   "id": "1d78b912-7103-4b66-9590-d1b99f814513",
   "metadata": {},
   "outputs": [
    {
     "data": {
      "text/plain": [
       "[2, 3, 5, 7]"
      ]
     },
     "execution_count": 50,
     "metadata": {},
     "output_type": "execute_result"
    }
   ],
   "source": [
    "n = 10\n",
    "\n",
    "prime = [True] * (n + 1)\n",
    "prime[0], prime[1] = False, False\n",
    "\n",
    "[prime.__setitem__(j, False) for i in range(2, int(n**0.5) + 1) if prime[i] for j in range(i * i, n + 1, i)]\n",
    "\n",
    "[i for i in range(2, n + 1) if prime[i]]"
   ]
  },
  {
   "cell_type": "markdown",
   "id": "eb614155-27bc-4108-b092-d268f7e39406",
   "metadata": {},
   "source": [
    "32. Create a program that generates a list of all Pythagorean triplets up to a specified limit using list\n",
    "comprehension."
   ]
  },
  {
   "cell_type": "code",
   "execution_count": 57,
   "id": "426cad79-437b-40a6-a767-77a93e861d29",
   "metadata": {},
   "outputs": [
    {
     "data": {
      "text/plain": [
       "[(3, 4, 5), (5, 12, 13), (6, 8, 10), (8, 15, 17), (9, 12, 15), (12, 16, 20)]"
      ]
     },
     "execution_count": 57,
     "metadata": {},
     "output_type": "execute_result"
    }
   ],
   "source": [
    "def is_pythagorean_triplet(a, b, c):\n",
    "    return a**2 + b**2 == c**2\n",
    "limit = 20 \n",
    "[(i,j,k) for i in range(1,limit+1) for j in range(i,limit+1) for k in range(j,limit+1) if is_pythagorean_triplet(i,j,k)]\n",
    "# for i in range(1,limit+1):\n",
    "#     for j in range(i,limit+1):\n",
    "#         for k in range(j,limit+1):\n",
    "#             if is_pythagorean_triplet(i,j,k):\n",
    "#                 print(i,j,k)"
   ]
  },
  {
   "cell_type": "markdown",
   "id": "5220103d-e43e-4ad6-81e5-c240325dab03",
   "metadata": {},
   "source": [
    "33. Develop a program that generates a list of all possible combinations of two lists using list comprehension."
   ]
  },
  {
   "cell_type": "code",
   "execution_count": 70,
   "id": "40cb1586-e8d6-4316-81a8-3e22c59304ec",
   "metadata": {},
   "outputs": [
    {
     "data": {
      "text/plain": [
       "[(1, 2), (1, 6), (3, 2), (3, 6)]"
      ]
     },
     "execution_count": 70,
     "metadata": {},
     "output_type": "execute_result"
    }
   ],
   "source": [
    "a=[1,3]\n",
    "b=[2,6]\n",
    "# c=[x for x in a+b if (a+b).count(x)==1]\n",
    "[(a[x],b[y]) for x in range(len(a)) for y  in range(len(b))]"
   ]
  },
  {
   "cell_type": "code",
   "execution_count": 66,
   "id": "e02e0a07-60b5-47cb-814c-9ae794711a32",
   "metadata": {},
   "outputs": [
    {
     "name": "stdout",
     "output_type": "stream",
     "text": [
      "Combinations of [1, 3] and [2, 6] are: [(1, 2), (1, 6), (3, 2), (3, 6)]\n"
     ]
    }
   ],
   "source": [
    "from itertools import product\n",
    "\n",
    "list1 = [1, 3]\n",
    "list2 = [2,6]\n",
    "\n",
    "combinations = list(product(list1, list2))\n",
    "\n",
    "print(\"Combinations of\", list1, \"and\", list2, \"are:\", combinations)\n"
   ]
  },
  {
   "cell_type": "markdown",
   "id": "201770cc-0cbe-4604-bb8c-6373b76ec491",
   "metadata": {},
   "source": [
    "34. Write a program that calculates the mean, median, and mode of a list of numbers using list comprehension."
   ]
  },
  {
   "cell_type": "code",
   "execution_count": 94,
   "id": "51fd3eb4-c18f-4139-8b23-9fa53fc086ec",
   "metadata": {},
   "outputs": [
    {
     "name": "stdout",
     "output_type": "stream",
     "text": [
      "5.5\n"
     ]
    },
    {
     "data": {
      "text/plain": [
       "7"
      ]
     },
     "execution_count": 94,
     "metadata": {},
     "output_type": "execute_result"
    }
   ],
   "source": [
    "x=[1,2,3,4,5,5,6,7,7,7,8,9]\n",
    "sum(x)/len(x)\n",
    "\n",
    "#median\n",
    "if len(x)%2==0:\n",
    "    print((x[len(x)//2-1]+x[len(x)//2])/2)\n",
    "else :\n",
    "    print(x[len(x)//2-1])\n",
    "new={}\n",
    "for i in set(x):\n",
    "    new[i]=x.count(i)\n",
    "    \n",
    "#mode\n",
    "max(new,key=lambda x:new.get(x))\n"
   ]
  },
  {
   "cell_type": "markdown",
   "id": "30ba51c6-8a32-4cd1-a3d1-9cf8d4e2aa33",
   "metadata": {},
   "source": [
    "35. Create a program that generates Pascal's triangle up to a specified number of rows using list comprehension."
   ]
  },
  {
   "cell_type": "code",
   "execution_count": 11,
   "id": "2bdde77f-d394-4e90-99c4-febc202bc81c",
   "metadata": {},
   "outputs": [
    {
     "data": {
      "text/plain": [
       "[[1],\n",
       " [1, 1],\n",
       " [1, 2, 1],\n",
       " [1, 3, 3, 1],\n",
       " [1, 4, 6, 4, 1],\n",
       " [1, 5, 10, 10, 5, 1],\n",
       " [1, 6, 15, 20, 15, 6, 1],\n",
       " [1, 7, 21, 35, 35, 21, 7, 1],\n",
       " [1, 8, 28, 56, 70, 56, 28, 8, 1],\n",
       " [1, 9, 36, 84, 126, 126, 84, 36, 9, 1]]"
      ]
     },
     "execution_count": 11,
     "metadata": {},
     "output_type": "execute_result"
    }
   ],
   "source": [
    "def pascal_traiangle(n):\n",
    "    list_1=[]\n",
    "    for i in range(n):\n",
    "        temp=[]\n",
    "        for j in range(i+1):\n",
    "            if j==0 or j==i:\n",
    "                temp.append(1)\n",
    "            else :\n",
    "                temp.append(list_1[i-1][j-1]+list_1[i-1][j])\n",
    "        list_1.append(temp)\n",
    "    return list_1       \n",
    "pascal_traiangle(10)"
   ]
  },
  {
   "cell_type": "markdown",
   "id": "4bf2057f-6d26-4b21-84e7-e69f521a7dba",
   "metadata": {},
   "source": [
    "36. Develop a program that calculates the sum of the digits of a factorial of numbers from 1 to 5 using list comprehension."
   ]
  },
  {
   "cell_type": "code",
   "execution_count": 19,
   "id": "b7a4be4c-2a67-49b6-bf3f-2e15e0e6ceb5",
   "metadata": {},
   "outputs": [
    {
     "data": {
      "text/plain": [
       "153"
      ]
     },
     "execution_count": 19,
     "metadata": {},
     "output_type": "execute_result"
    }
   ],
   "source": [
    "def factorial(x):\n",
    "    if x<=1:\n",
    "        return 1\n",
    "    else :\n",
    "        return x*factorial(x-1)\n",
    "sum([factorial(x) for x in range(1,6)])"
   ]
  },
  {
   "cell_type": "markdown",
   "id": "ad2f48fb-7048-4f80-83c6-e95584134bc2",
   "metadata": {},
   "source": [
    "37. Write a program that finds the longest word in a sentence using list comprehension."
   ]
  },
  {
   "cell_type": "code",
   "execution_count": 26,
   "id": "2010521d-39d9-4b14-af8f-07e527d600f1",
   "metadata": {},
   "outputs": [
    {
     "data": {
      "text/plain": [
       "'hgfdh'"
      ]
     },
     "execution_count": 26,
     "metadata": {},
     "output_type": "execute_result"
    }
   ],
   "source": [
    "a=\"asdf daS daf dfsg dg  hgfdh jdgf sgf \" \n",
    "max(a.split(),key=lambda x: len(x))"
   ]
  },
  {
   "cell_type": "markdown",
   "id": "729eb6b8-ec57-4a1b-81b4-d97c2909527d",
   "metadata": {},
   "source": [
    "38. Create a program that filters a list of strings to include only those with more than three vowels using list comprehension."
   ]
  },
  {
   "cell_type": "code",
   "execution_count": 28,
   "id": "8d717582-3896-40c9-9682-ad22fff3f7ad",
   "metadata": {},
   "outputs": [
    {
     "data": {
      "text/plain": [
       "['watermelon']"
      ]
     },
     "execution_count": 28,
     "metadata": {},
     "output_type": "execute_result"
    }
   ],
   "source": [
    "def count_vowels(s):\n",
    "    vowels = \"AEIOUaeiou\"\n",
    "    return sum(1 for char in s if char in vowels)\n",
    "\n",
    "word_list = [\"apple\", \"banana\", \"cherry\", \"grape\", \"orange\", \"strawberry\", \"watermelon\"]\n",
    "\n",
    "[word for word in word_list if count_vowels(word) > 3]\n"
   ]
  },
  {
   "cell_type": "markdown",
   "id": "7d92e861-d04c-4edf-ba30-6f93fd477cd0",
   "metadata": {},
   "source": [
    "39. Develop a program that calculates the sum of the digits of numbers from 1 to 1000 using list comprehension."
   ]
  },
  {
   "cell_type": "code",
   "execution_count": 29,
   "id": "611def04-a3cd-4be0-ba35-2b1e70e26cb4",
   "metadata": {},
   "outputs": [
    {
     "data": {
      "text/plain": [
       "500500"
      ]
     },
     "execution_count": 29,
     "metadata": {},
     "output_type": "execute_result"
    }
   ],
   "source": [
    "sum(range(1,1001))"
   ]
  },
  {
   "cell_type": "markdown",
   "id": "740f216d-6adb-4184-a479-a2c673f41b0f",
   "metadata": {},
   "source": [
    "40. Write a program that generates a list of prime palindromic numbers using list comprehension."
   ]
  },
  {
   "cell_type": "code",
   "execution_count": 30,
   "id": "f81c1a6d-a3fe-48d0-9139-1e82d7d41e21",
   "metadata": {},
   "outputs": [
    {
     "name": "stdout",
     "output_type": "stream",
     "text": [
      "Prime palindromic numbers: [2, 3, 5, 7, 11, 101, 131, 151, 181, 191, 313, 353, 373, 383, 727, 757, 787, 797, 919, 929]\n"
     ]
    }
   ],
   "source": [
    "def is_prime(num):\n",
    "    if num <= 1:\n",
    "        return False\n",
    "    if num == 2:\n",
    "        return True\n",
    "    if num % 2 == 0:\n",
    "        return False\n",
    "    for i in range(3, int(num**0.5) + 1, 2):\n",
    "        if num % i == 0:\n",
    "            return False\n",
    "    return True\n",
    "\n",
    "prime_palindromic_numbers = [num for num in range(1, 1000) if is_prime(num) and str(num) == str(num)[::-1]]\n",
    "\n",
    "print(\"Prime palindromic numbers:\", prime_palindromic_numbers)\n"
   ]
  }
 ],
 "metadata": {
  "kernelspec": {
   "display_name": "Python 3 (ipykernel)",
   "language": "python",
   "name": "python3"
  },
  "language_info": {
   "codemirror_mode": {
    "name": "ipython",
    "version": 3
   },
   "file_extension": ".py",
   "mimetype": "text/x-python",
   "name": "python",
   "nbconvert_exporter": "python",
   "pygments_lexer": "ipython3",
   "version": "3.10.8"
  }
 },
 "nbformat": 4,
 "nbformat_minor": 5
}
